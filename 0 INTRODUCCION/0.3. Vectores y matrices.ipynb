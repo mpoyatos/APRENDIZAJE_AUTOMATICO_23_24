{
  "cells": [
    {
      "cell_type": "markdown",
      "metadata": {
        "id": "view-in-github",
        "colab_type": "text"
      },
      "source": [
        "<a href=\"https://colab.research.google.com/github/mpoyatos/APRENDIZAJE_AUTOMATICO_23_24/blob/main/0%20INTRODUCCION/0.3.%20Vectores%20y%20matrices.ipynb\" target=\"_parent\"><img src=\"https://colab.research.google.com/assets/colab-badge.svg\" alt=\"Open In Colab\"/></a>"
      ]
    },
    {
      "cell_type": "code",
      "execution_count": 1,
      "metadata": {
        "pycharm": {
          "name": "#%%\n"
        },
        "id": "dKlTU2-_jdEW",
        "outputId": "f79409b0-9324-448c-c12e-f6c716a6f03a",
        "colab": {
          "base_uri": "https://localhost:8080/"
        }
      },
      "outputs": [
        {
          "output_type": "stream",
          "name": "stdout",
          "text": [
            "[5, 6, 9, 8, 7, 4, 65, 2, 2, 56, 46, 54]\n"
          ]
        }
      ],
      "source": [
        "lista = [5,6,9,8,7,4,65,2,2,56,46,54]\n",
        "print(lista)"
      ]
    },
    {
      "cell_type": "code",
      "execution_count": 2,
      "metadata": {
        "pycharm": {
          "name": "#%%\n"
        },
        "id": "gOC_OxpgjdEX",
        "outputId": "dc6d90d4-0bed-45a7-c9a6-3fa66b186816",
        "colab": {
          "base_uri": "https://localhost:8080/"
        }
      },
      "outputs": [
        {
          "output_type": "execute_result",
          "data": {
            "text/plain": [
              "True"
            ]
          },
          "metadata": {},
          "execution_count": 2
        }
      ],
      "source": [
        "2 in lista"
      ]
    },
    {
      "cell_type": "code",
      "execution_count": 3,
      "metadata": {
        "pycharm": {
          "name": "#%%\n"
        },
        "id": "kEjQwWR5jdEX",
        "outputId": "100cbb53-000d-4356-c85e-6d25f4f61f51",
        "colab": {
          "base_uri": "https://localhost:8080/"
        }
      },
      "outputs": [
        {
          "output_type": "execute_result",
          "data": {
            "text/plain": [
              "False"
            ]
          },
          "metadata": {},
          "execution_count": 3
        }
      ],
      "source": [
        "35 in lista"
      ]
    },
    {
      "cell_type": "code",
      "execution_count": 4,
      "metadata": {
        "pycharm": {
          "name": "#%%\n"
        },
        "id": "PXLg_HjKjdEX",
        "outputId": "6ecf292d-835e-4d71-849f-7b029da196b5",
        "colab": {
          "base_uri": "https://localhost:8080/"
        }
      },
      "outputs": [
        {
          "output_type": "execute_result",
          "data": {
            "text/plain": [
              "5"
            ]
          },
          "metadata": {},
          "execution_count": 4
        }
      ],
      "source": [
        "lista[0]"
      ]
    },
    {
      "cell_type": "code",
      "execution_count": 5,
      "metadata": {
        "pycharm": {
          "name": "#%%\n"
        },
        "id": "yUSGbMidjdEX",
        "outputId": "ccc9ae93-38a6-4efb-af21-d5ddb05c2222",
        "colab": {
          "base_uri": "https://localhost:8080/"
        }
      },
      "outputs": [
        {
          "output_type": "execute_result",
          "data": {
            "text/plain": [
              "54"
            ]
          },
          "metadata": {},
          "execution_count": 5
        }
      ],
      "source": [
        "lista[-1]"
      ]
    },
    {
      "cell_type": "code",
      "execution_count": 6,
      "metadata": {
        "pycharm": {
          "name": "#%%\n"
        },
        "id": "fpurXII5jdEX",
        "outputId": "576e0c80-0550-4acd-b0e2-fcb723671e6d",
        "colab": {
          "base_uri": "https://localhost:8080/"
        }
      },
      "outputs": [
        {
          "output_type": "execute_result",
          "data": {
            "text/plain": [
              "[9, 8]"
            ]
          },
          "metadata": {},
          "execution_count": 6
        }
      ],
      "source": [
        "lista[2:4]"
      ]
    },
    {
      "cell_type": "code",
      "execution_count": 7,
      "metadata": {
        "pycharm": {
          "name": "#%%\n"
        },
        "id": "W_XNBrLGjdEY",
        "outputId": "77c955bc-d2a9-46b6-d2e8-6014bde840b3",
        "colab": {
          "base_uri": "https://localhost:8080/"
        }
      },
      "outputs": [
        {
          "output_type": "execute_result",
          "data": {
            "text/plain": [
              "[5, 6, 9, 8, 7]"
            ]
          },
          "metadata": {},
          "execution_count": 7
        }
      ],
      "source": [
        "lista[:5]"
      ]
    },
    {
      "cell_type": "code",
      "execution_count": 8,
      "metadata": {
        "pycharm": {
          "name": "#%%\n"
        },
        "id": "WHTduMw-jdEY",
        "outputId": "cd1eb430-98e8-445a-fca2-85b2028f2791",
        "colab": {
          "base_uri": "https://localhost:8080/"
        }
      },
      "outputs": [
        {
          "output_type": "execute_result",
          "data": {
            "text/plain": [
              "[7, 4, 65, 2, 2, 56, 46, 54]"
            ]
          },
          "metadata": {},
          "execution_count": 8
        }
      ],
      "source": [
        "lista[4:]"
      ]
    },
    {
      "cell_type": "code",
      "execution_count": 9,
      "metadata": {
        "pycharm": {
          "name": "#%%\n"
        },
        "id": "YiLhVtRqjdEY",
        "outputId": "d7226cf6-d26a-4af7-fd8c-3113eef1a17f",
        "colab": {
          "base_uri": "https://localhost:8080/"
        }
      },
      "outputs": [
        {
          "output_type": "execute_result",
          "data": {
            "text/plain": [
              "[5, 6, 9, 8, 7, 4, 65, 2, 2, 56, 46, 54]"
            ]
          },
          "metadata": {},
          "execution_count": 9
        }
      ],
      "source": [
        "lista[:]"
      ]
    },
    {
      "cell_type": "code",
      "execution_count": 10,
      "metadata": {
        "pycharm": {
          "name": "#%%\n"
        },
        "id": "LmEqnrJvjdEY",
        "outputId": "6e340bdd-2735-41cc-8c3b-55300af19217",
        "colab": {
          "base_uri": "https://localhost:8080/"
        }
      },
      "outputs": [
        {
          "output_type": "execute_result",
          "data": {
            "text/plain": [
              "array([1, 2, 3, 4, 5, 6, 7, 8, 9])"
            ]
          },
          "metadata": {},
          "execution_count": 10
        }
      ],
      "source": [
        "import numpy as np\n",
        "\n",
        "np.arange(1,10)"
      ]
    },
    {
      "cell_type": "code",
      "execution_count": 11,
      "metadata": {
        "pycharm": {
          "name": "#%%\n"
        },
        "id": "vBl_9mjWjdEY",
        "outputId": "21780726-58e2-4f5a-9d57-154aa274c5f5",
        "colab": {
          "base_uri": "https://localhost:8080/"
        }
      },
      "outputs": [
        {
          "output_type": "execute_result",
          "data": {
            "text/plain": [
              "array([1, 3, 5, 7, 9])"
            ]
          },
          "metadata": {},
          "execution_count": 11
        }
      ],
      "source": [
        "np.arange(1,10,2)\n"
      ]
    },
    {
      "cell_type": "code",
      "execution_count": 12,
      "metadata": {
        "pycharm": {
          "name": "#%%\n"
        },
        "id": "oVco8b84jdEY",
        "outputId": "3f46fdc6-a07b-421b-e5da-e7233bfdbeac",
        "colab": {
          "base_uri": "https://localhost:8080/"
        }
      },
      "outputs": [
        {
          "output_type": "execute_result",
          "data": {
            "text/plain": [
              "array([1, 2, 3, 4])"
            ]
          },
          "metadata": {},
          "execution_count": 12
        }
      ],
      "source": [
        "a = np.array([1,2,3,4])\n",
        "a"
      ]
    },
    {
      "cell_type": "code",
      "execution_count": 13,
      "metadata": {
        "pycharm": {
          "name": "#%%\n"
        },
        "id": "MaJY7okVjdEY",
        "outputId": "1884bda5-ce7b-4748-95c4-e3574ff5febe",
        "colab": {
          "base_uri": "https://localhost:8080/"
        }
      },
      "outputs": [
        {
          "output_type": "execute_result",
          "data": {
            "text/plain": [
              "4"
            ]
          },
          "metadata": {},
          "execution_count": 13
        }
      ],
      "source": [
        "len(a)"
      ]
    },
    {
      "cell_type": "code",
      "execution_count": 14,
      "metadata": {
        "pycharm": {
          "name": "#%%\n"
        },
        "id": "r9dZ2I1cjdEY",
        "outputId": "39da4733-99a3-4742-a89b-64c4eb4ae344",
        "colab": {
          "base_uri": "https://localhost:8080/"
        }
      },
      "outputs": [
        {
          "output_type": "execute_result",
          "data": {
            "text/plain": [
              "1"
            ]
          },
          "metadata": {},
          "execution_count": 14
        }
      ],
      "source": [
        "min(a)"
      ]
    },
    {
      "cell_type": "code",
      "execution_count": 15,
      "metadata": {
        "pycharm": {
          "name": "#%%\n"
        },
        "id": "Lq5iq0wLjdEY",
        "outputId": "a654cff3-0bc3-4168-9699-652b1bc213cb",
        "colab": {
          "base_uri": "https://localhost:8080/"
        }
      },
      "outputs": [
        {
          "output_type": "execute_result",
          "data": {
            "text/plain": [
              "4"
            ]
          },
          "metadata": {},
          "execution_count": 15
        }
      ],
      "source": [
        "max(a)"
      ]
    },
    {
      "cell_type": "code",
      "execution_count": 16,
      "metadata": {
        "pycharm": {
          "name": "#%%\n"
        },
        "id": "9UkmAGMWjdEY",
        "outputId": "4e6b662f-37ad-43f4-ba4a-1b4cb02cd09a",
        "colab": {
          "base_uri": "https://localhost:8080/"
        }
      },
      "outputs": [
        {
          "output_type": "execute_result",
          "data": {
            "text/plain": [
              "array([[1, 2, 3],\n",
              "       [5, 6, 4],\n",
              "       [7, 5, 2]])"
            ]
          },
          "metadata": {},
          "execution_count": 16
        }
      ],
      "source": [
        "b = np.array([[1,2,3],[5,6,4],[7,5,2]])\n",
        "b"
      ]
    },
    {
      "cell_type": "code",
      "execution_count": 17,
      "metadata": {
        "pycharm": {
          "name": "#%%\n"
        },
        "id": "b5esWO-kjdEY",
        "outputId": "22ae999c-fdf7-4130-ad72-50a5d23e9fff",
        "colab": {
          "base_uri": "https://localhost:8080/"
        }
      },
      "outputs": [
        {
          "output_type": "execute_result",
          "data": {
            "text/plain": [
              "array([1, 2, 3])"
            ]
          },
          "metadata": {},
          "execution_count": 17
        }
      ],
      "source": [
        "b[0]"
      ]
    },
    {
      "cell_type": "code",
      "execution_count": 18,
      "metadata": {
        "pycharm": {
          "name": "#%%\n"
        },
        "id": "FAuybA42jdEY",
        "outputId": "0bd7c837-0d0a-46f0-a240-4e1d48c0c08a",
        "colab": {
          "base_uri": "https://localhost:8080/"
        }
      },
      "outputs": [
        {
          "output_type": "execute_result",
          "data": {
            "text/plain": [
              "array([2, 6, 5])"
            ]
          },
          "metadata": {},
          "execution_count": 18
        }
      ],
      "source": [
        "b[:,1]"
      ]
    },
    {
      "cell_type": "code",
      "execution_count": 19,
      "metadata": {
        "pycharm": {
          "name": "#%%\n"
        },
        "id": "iiin2sSgjdEY",
        "outputId": "ac863db4-8a0d-456c-9270-a0a149678be8",
        "colab": {
          "base_uri": "https://localhost:8080/"
        }
      },
      "outputs": [
        {
          "output_type": "execute_result",
          "data": {
            "text/plain": [
              "2"
            ]
          },
          "metadata": {},
          "execution_count": 19
        }
      ],
      "source": [
        "b[2,2]"
      ]
    },
    {
      "cell_type": "markdown",
      "metadata": {
        "pycharm": {
          "name": "#%% md\n"
        },
        "id": "2bT9d-TajdEY"
      },
      "source": [
        "# Revisar la indexación de matrices (filas columnas)"
      ]
    },
    {
      "cell_type": "code",
      "execution_count": 20,
      "metadata": {
        "pycharm": {
          "name": "#%%\n"
        },
        "id": "LjUpamlNjdEZ",
        "outputId": "3c5ba04d-c94d-4ed9-c073-df91a6dfffeb",
        "colab": {
          "base_uri": "https://localhost:8080/"
        }
      },
      "outputs": [
        {
          "output_type": "execute_result",
          "data": {
            "text/plain": [
              "array([[2, 3],\n",
              "       [6, 4]])"
            ]
          },
          "metadata": {},
          "execution_count": 20
        }
      ],
      "source": [
        "b[0:2, 1:3]"
      ]
    },
    {
      "cell_type": "code",
      "execution_count": 25,
      "metadata": {
        "pycharm": {
          "name": "#%%\n"
        },
        "id": "cEqER37_jdEZ",
        "outputId": "5247289c-237c-4ea3-e478-9868adfab6ef",
        "colab": {
          "base_uri": "https://localhost:8080/"
        }
      },
      "outputs": [
        {
          "output_type": "execute_result",
          "data": {
            "text/plain": [
              "array([[0.55843415, 0.18604225, 0.68329945, 0.50437798, 0.7174221 ],\n",
              "       [0.65951298, 0.99246809, 0.31777302, 0.04403612, 0.36899594],\n",
              "       [0.15655699, 0.32054193, 0.06888029, 0.68453799, 0.23516968],\n",
              "       [0.05396402, 0.05454231, 0.00707458, 0.89678652, 0.89609635],\n",
              "       [0.95081622, 0.49836856, 0.68800812, 0.72102471, 0.18064888]])"
            ]
          },
          "metadata": {},
          "execution_count": 25
        }
      ],
      "source": [
        "a = np.random.rand(5,5)\n",
        "a"
      ]
    },
    {
      "cell_type": "code",
      "execution_count": 22,
      "metadata": {
        "pycharm": {
          "name": "#%%\n"
        },
        "id": "nC7UPJGhjdEZ",
        "outputId": "365808bb-7a3d-4544-d78b-0c808e2f7599",
        "colab": {
          "base_uri": "https://localhost:8080/"
        }
      },
      "outputs": [
        {
          "output_type": "execute_result",
          "data": {
            "text/plain": [
              "(5, 5)"
            ]
          },
          "metadata": {},
          "execution_count": 22
        }
      ],
      "source": [
        "a.shape"
      ]
    },
    {
      "cell_type": "code",
      "execution_count": 26,
      "metadata": {
        "pycharm": {
          "name": "#%%\n"
        },
        "id": "NvtLOFIZjdEZ",
        "outputId": "cdc4d3f3-0349-43ce-d287-baa17424ac2d",
        "colab": {
          "base_uri": "https://localhost:8080/"
        }
      },
      "outputs": [
        {
          "output_type": "execute_result",
          "data": {
            "text/plain": [
              "array([[0.49344224, 0.57769632, 0.61183145, 0.58239192, 0.44463316],\n",
              "       [0.23312719, 0.34180889, 0.09729447, 0.84373205, 0.294866  ],\n",
              "       [0.38435594, 0.35340005, 0.90561657, 0.18124183, 0.198975  ],\n",
              "       [0.11889356, 0.19427134, 0.37955163, 0.81140316, 0.80450207],\n",
              "       [0.0549344 , 0.42304454, 0.90225106, 0.46283027, 0.6358466 ]])"
            ]
          },
          "metadata": {},
          "execution_count": 26
        }
      ],
      "source": [
        "b  = np.random.rand(5,5)\n",
        "b"
      ]
    },
    {
      "cell_type": "code",
      "execution_count": 27,
      "metadata": {
        "pycharm": {
          "name": "#%%\n"
        },
        "id": "cQATDEhHjdEZ",
        "outputId": "e819c9d4-f94b-42dd-980d-aef9a20488d6",
        "colab": {
          "base_uri": "https://localhost:8080/"
        }
      },
      "outputs": [
        {
          "output_type": "execute_result",
          "data": {
            "text/plain": [
              "array([[1.0518764 , 0.76373858, 1.29513091, 1.0867699 , 1.16205526],\n",
              "       [0.89264018, 1.33427699, 0.41506749, 0.88776817, 0.66386194],\n",
              "       [0.54091293, 0.67394199, 0.97449686, 0.86577981, 0.43414468],\n",
              "       [0.17285758, 0.24881365, 0.3866262 , 1.70818968, 1.70059842],\n",
              "       [1.00575062, 0.9214131 , 1.59025918, 1.18385498, 0.81649547]])"
            ]
          },
          "metadata": {},
          "execution_count": 27
        }
      ],
      "source": [
        "a + b"
      ]
    },
    {
      "cell_type": "code",
      "execution_count": 28,
      "metadata": {
        "pycharm": {
          "name": "#%%\n"
        },
        "id": "MXEH7zi2jdEZ",
        "outputId": "26b5fd07-0b89-4923-94ef-aaea5d56463e",
        "colab": {
          "base_uri": "https://localhost:8080/"
        }
      },
      "outputs": [
        {
          "output_type": "execute_result",
          "data": {
            "text/plain": [
              "array([[ 0.06499191, -0.39165407,  0.071468  , -0.07801394,  0.27278893],\n",
              "       [ 0.42638579,  0.6506592 ,  0.22047855, -0.79969593,  0.07412994],\n",
              "       [-0.22779894, -0.03285812, -0.83673627,  0.50329616,  0.03619469],\n",
              "       [-0.06492953, -0.13972903, -0.37247705,  0.08538336,  0.09159428],\n",
              "       [ 0.89588181,  0.07532402, -0.21424294,  0.25819444, -0.45519772]])"
            ]
          },
          "metadata": {},
          "execution_count": 28
        }
      ],
      "source": [
        "a-b"
      ]
    },
    {
      "cell_type": "code",
      "execution_count": 29,
      "metadata": {
        "pycharm": {
          "name": "#%%\n"
        },
        "id": "UrwtsArbjdEZ",
        "outputId": "f2fc3732-79c8-4e17-d6a4-bc11b5ebbfbb",
        "colab": {
          "base_uri": "https://localhost:8080/"
        }
      },
      "outputs": [
        {
          "output_type": "execute_result",
          "data": {
            "text/plain": [
              "array([[0.275555  , 0.10747593, 0.4180641 , 0.29374566, 0.31898965],\n",
              "       [0.15375041, 0.33923442, 0.03091756, 0.03715469, 0.10880436],\n",
              "       [0.06017361, 0.11327954, 0.06237913, 0.12406691, 0.04679289],\n",
              "       [0.00641597, 0.01059601, 0.00268517, 0.72765542, 0.72091137],\n",
              "       [0.05223252, 0.2108321 , 0.62075606, 0.33371206, 0.11486497]])"
            ]
          },
          "metadata": {},
          "execution_count": 29
        }
      ],
      "source": [
        "a*b"
      ]
    },
    {
      "cell_type": "code",
      "execution_count": 30,
      "metadata": {
        "pycharm": {
          "name": "#%%\n"
        },
        "id": "J22K6j2vjdEZ",
        "outputId": "54413582-1e82-4283-dc9a-3c8366d0a887",
        "colab": {
          "base_uri": "https://localhost:8080/"
        }
      },
      "outputs": [
        {
          "output_type": "execute_result",
          "data": {
            "text/plain": [
              "array([[ 1.13171128,  0.32204161,  1.11680995,  0.86604564,  1.61351459],\n",
              "       [ 2.82898348,  2.90357597,  3.2660953 ,  0.05219207,  1.25140212],\n",
              "       [ 0.40732295,  0.90702288,  0.076059  ,  3.77693167,  1.1819057 ],\n",
              "       [ 0.45388519,  0.28075325,  0.0186393 ,  1.10522927,  1.11385214],\n",
              "       [17.30821034,  1.17805221,  0.7625462 ,  1.55785989,  0.28410764]])"
            ]
          },
          "metadata": {},
          "execution_count": 30
        }
      ],
      "source": [
        "a/b # Division elemento a elemento"
      ]
    },
    {
      "cell_type": "code",
      "execution_count": 31,
      "metadata": {
        "pycharm": {
          "name": "#%%\n"
        },
        "id": "RDNn6xnTjdEZ",
        "outputId": "5d3c7f1b-3bdc-46c3-ac65-38e0c969ebdd",
        "colab": {
          "base_uri": "https://localhost:8080/"
        }
      },
      "outputs": [
        {
          "output_type": "execute_result",
          "data": {
            "text/plain": [
              "array([[0.55843415, 0.65951298, 0.15655699, 0.05396402, 0.95081622],\n",
              "       [0.18604225, 0.99246809, 0.32054193, 0.05454231, 0.49836856],\n",
              "       [0.68329945, 0.31777302, 0.06888029, 0.00707458, 0.68800812],\n",
              "       [0.50437798, 0.04403612, 0.68453799, 0.89678652, 0.72102471],\n",
              "       [0.7174221 , 0.36899594, 0.23516968, 0.89609635, 0.18064888]])"
            ]
          },
          "metadata": {},
          "execution_count": 31
        }
      ],
      "source": [
        "np.transpose(a)"
      ]
    },
    {
      "cell_type": "code",
      "execution_count": 32,
      "metadata": {
        "pycharm": {
          "name": "#%%\n"
        },
        "id": "z6JDWGoOjdEZ",
        "outputId": "e9305118-dff9-45ed-e403-74ddbf98d94e",
        "colab": {
          "base_uri": "https://localhost:8080/"
        }
      },
      "outputs": [
        {
          "output_type": "execute_result",
          "data": {
            "text/plain": [
              "array([[  1.79072142,   5.37512299,   1.4634872 ,   1.98264007,\n",
              "          1.39387957],\n",
              "       [  1.51627038,   1.00758907,   3.14690025,  22.70863017,\n",
              "          2.71005691],\n",
              "       [  6.38745016,   3.11971662,  14.51794062,   1.4608393 ,\n",
              "          4.25224881],\n",
              "       [ 18.53086393,  18.3343904 , 141.35123471,   1.11509258,\n",
              "          1.11595142],\n",
              "       [  1.05172796,   2.00654713,   1.45347122,   1.38691501,\n",
              "          5.53560047]])"
            ]
          },
          "metadata": {},
          "execution_count": 32
        }
      ],
      "source": [
        "1/a # Matriz inversa"
      ]
    },
    {
      "cell_type": "markdown",
      "source": [
        "## PROBLEMAS"
      ],
      "metadata": {
        "id": "OJuE4JEajeI_"
      }
    },
    {
      "cell_type": "markdown",
      "source": [
        "1. Escribe una función **suma_matrices** que tome dos matrices **NumPy** como argumentos y devuelva una nueva matriz que sea la suma de las dos matrices originales. No utilices la operación de suma incorporada de NumPy (+)."
      ],
      "metadata": {
        "id": "gan8dp57jmqX"
      }
    },
    {
      "cell_type": "code",
      "source": [
        "import numpy as np\n",
        "\n",
        "def suma_matrices(A, B):\n",
        "  if len(A) != len(B) and len(A[1]) != len(B[1]):\n",
        "    return None\n",
        "  N = len(A)\n",
        "  M = len(A[1])\n",
        "  C = np.zeros((N, M))\n",
        "  for i in range(0,N):\n",
        "    for j in range(0,M):\n",
        "      C[i,j] = A[i,j] + B[i,j]\n",
        "  return C\n",
        "\n",
        "# Pruebas\n",
        "A = np.array([[1, 2], [3, 4]])\n",
        "B = np.array([[5, 6], [7, 8]])\n",
        "assert np.array_equal(suma_matrices(A, B), np.array([[6, 8], [10, 12]]))"
      ],
      "metadata": {
        "id": "RqVmsQR3jszO"
      },
      "execution_count": 33,
      "outputs": []
    },
    {
      "cell_type": "markdown",
      "source": [
        "2. Escribe una función **transpuesta** que tome una matriz **NumPy** como argumento y **devuelva su transpuesta**. No utilices la propiedad T de NumPy."
      ],
      "metadata": {
        "id": "rbWnPtUjkPh5"
      }
    },
    {
      "cell_type": "code",
      "source": [
        "import numpy as np\n",
        "\n",
        "def transpuesta(A):\n",
        "  N = len(A)\n",
        "  M = len(A[1])\n",
        "  C = np.zeros((M,N))\n",
        "  for i in range(0,M):\n",
        "    for j in range(0,N):\n",
        "      C[i,j] = A[j,i]\n",
        "  return C\n",
        "\n",
        "# Pruebas\n",
        "A = np.array([[1, 2, 3], [4, 5, 6]])\n",
        "assert np.array_equal(transpuesta(A), np.array([[1, 4], [2, 5], [3, 6]]))"
      ],
      "metadata": {
        "id": "XE1LFSPmkgyw"
      },
      "execution_count": 36,
      "outputs": []
    },
    {
      "cell_type": "markdown",
      "source": [
        "3. Escribe una función **multiplicar_matrices** que tome dos matrices **NumPy** como argumentos y devuelva una nueva matriz que sea el resultado de la multiplicación de las dos matrices originales. No utilices la operación de multiplicación de matrices incorporada de NumPy (@ o np.dot)."
      ],
      "metadata": {
        "id": "F1HYoqkdkw8K"
      }
    },
    {
      "cell_type": "code",
      "source": [
        "R = np.array([[2, 0],[1, 2],[3,2]])\n",
        "R"
      ],
      "metadata": {
        "id": "3NPxQELHy2xt",
        "outputId": "51e1ff28-6c10-450a-c6cf-534d9b0796f9",
        "colab": {
          "base_uri": "https://localhost:8080/"
        }
      },
      "execution_count": 49,
      "outputs": [
        {
          "output_type": "execute_result",
          "data": {
            "text/plain": [
              "array([[2, 0],\n",
              "       [1, 2],\n",
              "       [3, 2]])"
            ]
          },
          "metadata": {},
          "execution_count": 49
        }
      ]
    },
    {
      "cell_type": "code",
      "source": [
        "import numpy as np\n",
        "\n",
        "def multiplicar_matrices(A, B):\n",
        "  if len(A) != len(B[1]):\n",
        "    return None\n",
        "  N = len(A)\n",
        "  M = len(A[1])\n",
        "  C = np.zeros((N, M))\n",
        "  for i in range(0,N):\n",
        "    for j in range(0,M):\n",
        "      s = 0\n",
        "      for k in range(0,M):\n",
        "        s = s + A[i,k] * B[k,j]\n",
        "      C[i,j] = s\n",
        "  return C\n",
        "\n",
        "# Pruebas\n",
        "A = np.array([[1, 2], [3, 4]])\n",
        "B = np.array([[2, 0], [1, 2]])\n",
        "assert np.array_equal(multiplicar_matrices(A, B), np.array([[4, 4], [10, 8]]))"
      ],
      "metadata": {
        "id": "9-Aa0AHNk6sK"
      },
      "execution_count": 50,
      "outputs": []
    }
  ],
  "metadata": {
    "kernelspec": {
      "display_name": "Python 3",
      "language": "python",
      "name": "python3"
    },
    "language_info": {
      "codemirror_mode": {
        "name": "ipython",
        "version": 3
      },
      "file_extension": ".py",
      "mimetype": "text/x-python",
      "name": "python",
      "nbconvert_exporter": "python",
      "pygments_lexer": "ipython3",
      "version": "3.6.5"
    },
    "colab": {
      "provenance": [],
      "include_colab_link": true
    }
  },
  "nbformat": 4,
  "nbformat_minor": 0
}