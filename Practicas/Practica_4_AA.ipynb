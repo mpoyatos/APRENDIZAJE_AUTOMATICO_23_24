{
  "cells": [
    {
      "cell_type": "markdown",
      "metadata": {
        "id": "view-in-github",
        "colab_type": "text"
      },
      "source": [
        "<a href=\"https://colab.research.google.com/github/mpoyatos/APRENDIZAJE_AUTOMATICO_23_24/blob/main/Practicas/Practica_4_AA.ipynb\" target=\"_parent\"><img src=\"https://colab.research.google.com/assets/colab-badge.svg\" alt=\"Open In Colab\"/></a>"
      ]
    },
    {
      "cell_type": "markdown",
      "id": "19392a57-ec33-4623-ba0f-1ff5a0a771ef",
      "metadata": {
        "tags": [],
        "id": "19392a57-ec33-4623-ba0f-1ff5a0a771ef"
      },
      "source": [
        "## Algoritmos Genéticos ----------------------------------"
      ]
    },
    {
      "cell_type": "markdown",
      "id": "61524831-6b85-4ce3-9118-90c12c8e909b",
      "metadata": {
        "id": "61524831-6b85-4ce3-9118-90c12c8e909b"
      },
      "source": [
        "* Técnicas de **optimización metaherísticas**, **estocásticas** o **probabilísticas** (Holland-1962-1965-1992 y Goldberg-2006)\n",
        "* **Computacionalmente intensivos** de ahí el tiempo que pasó desde su propuesta en 1962 hasta su aplicación en problemas de ingeniería reales (1992)\n",
        "* Realiza una **búsqueda guiada** a partir de un conjunto inicial de posibles soluciones (**Población Inicial**) y va **evolucionando** a mejor en cada iteración del algoritmo (**generaciones**)\n",
        "* Normalmente, las últimas generaciones contienen la mejor o las mejores soluciones al problema de optimización\n",
        "* Cada **posible solución** se conoce como **individuo** y cada individuo **codifica** las variables independientes del problema de optimización. Estas variables representan los **genes** de la cadena **cromosomática** que representa a cada individuo\n",
        "* Las **modificaciones genéticas** que hacen que los individuos se **adapten** mejor al medio, tienen **mayor probabilidad de perdurar en el tiempo**\n",
        "* La **adaptación al medio** se realiza mediante la **función que queremos optimizar** (**función objetivo**, **función de evaluación** o **fitness function**). Llamaremos **fitness** a la **calidad** o **desempeño** de un individuo\n",
        "* Pasar de un problema de **maximización** a uno de **minimización** es tan sencillo como **multiplicar** por **-1** el **resultado de la función objetivo**\n",
        "* En cada iteración, **nuevos individuos** (**descendientes** u **offsprings**) son creados mediante **operaciones genéticas** dando lugar a nuevas poblaciones\n",
        "* Operaciones genéticas: **Selección**, **Cruce** y **Mutación**\n"
      ]
    },
    {
      "cell_type": "markdown",
      "id": "94b00b50-5120-44a9-baf7-95e5e36a7b7a",
      "metadata": {
        "id": "94b00b50-5120-44a9-baf7-95e5e36a7b7a"
      },
      "source": [
        "### ¿Porqué decidimos usar una **optimización metaheurística** (**no** garantizan la obtención de una solución óptima) en lugar de un **método exacto** (garantizan la obtención de una solución óptima)?"
      ]
    },
    {
      "cell_type": "markdown",
      "id": "a886c8c2-1e8d-473b-aa59-e5d6131927ec",
      "metadata": {
        "id": "a886c8c2-1e8d-473b-aa59-e5d6131927ec"
      },
      "source": [
        "No es una pregunta fácil de responder. Se usa para problemas de **gran complejidad**:\n",
        "* Gran **cantidad** de **variables**\n",
        "* Gran **complejidad** de las **ecuaciones**\n",
        "* Nos llegamos a preguntar si el problema tendrá solución\n",
        "\n",
        "No siempre podemos encontrar un método exacto que permita resolver nuestro problema, y si lo hay, es posible que su **aplicación** **no** sea **viable** para un problema de cierta complejidad por el **tiempo** de **resolución** o **consumo** de **recursos**. (Una búsqueda extensiva para un problema combinatorio de algunos cientos de variables, puede tardar meses o años)\n",
        "\n",
        "Además, las estratégias de **resolución analíticas**, como los **métodos basados en el gradiente** , pueden **converger a óptimos locales** y no alcanzar el óptimo global del problema"
      ]
    },
    {
      "cell_type": "markdown",
      "id": "5badb8c5-939d-4ecb-acca-84766a0509aa",
      "metadata": {
        "id": "5badb8c5-939d-4ecb-acca-84766a0509aa"
      },
      "source": [
        "### Cómo decidir la estrategia para abordar un problema\n",
        "1. **Cómo de grande es mi problema**: Estimar tiempo de una búsqueda **extensiva** a partir del tiempo necesario para evaluar una única solución\n",
        "2. **Que rapidez necesito para obtener una solución**: A veces horas es aceptable, pero no meses...\n",
        "3. **Cuantas restricciones hay**: A más restricciones, menos probable es que nos interese un método analítico exacto\n",
        "4. **Precisión que necesito en los resultados**: A veces es preferible rapidez y aproximación antes que lentitud y total precisión."
      ]
    },
    {
      "cell_type": "markdown",
      "id": "55604cc6-e060-49d9-805e-3cf30c371e11",
      "metadata": {
        "id": "55604cc6-e060-49d9-805e-3cf30c371e11"
      },
      "source": [
        "### Qué necesitamos para resolver Algoritmos Genéticos con Python"
      ]
    },
    {
      "cell_type": "markdown",
      "id": "ffea0fe5-9042-4088-8367-ce9f62bdd68c",
      "metadata": {
        "id": "ffea0fe5-9042-4088-8367-ce9f62bdd68c"
      },
      "source": [
        "Utilizaremos la librería de Python **`deap`** [Documentación de deap](https://deap.readthedocs.io/en/master/)"
      ]
    },
    {
      "cell_type": "code",
      "execution_count": null,
      "id": "3b372009-8c31-4e2a-9a4b-839c77a9a18a",
      "metadata": {
        "colab": {
          "base_uri": "https://localhost:8080/"
        },
        "id": "3b372009-8c31-4e2a-9a4b-839c77a9a18a",
        "outputId": "0d393727-4d16-4740-f42a-aa0906e30ae6"
      },
      "outputs": [
        {
          "output_type": "stream",
          "name": "stdout",
          "text": [
            "Collecting deap\n",
            "  Downloading deap-1.4.1-cp310-cp310-manylinux_2_5_x86_64.manylinux1_x86_64.manylinux_2_17_x86_64.manylinux2014_x86_64.whl (135 kB)\n",
            "\u001b[?25l     \u001b[90m━━━━━━━━━━━━━━━━━━━━━━━━━━━━━━━━━━━━━━━━\u001b[0m \u001b[32m0.0/135.4 kB\u001b[0m \u001b[31m?\u001b[0m eta \u001b[36m-:--:--\u001b[0m\r\u001b[2K     \u001b[91m━━━━━━━━━━━━━━━━━━━━━━━━━━━━━━━━━━━━\u001b[0m\u001b[90m╺\u001b[0m\u001b[90m━━━\u001b[0m \u001b[32m122.9/135.4 kB\u001b[0m \u001b[31m3.4 MB/s\u001b[0m eta \u001b[36m0:00:01\u001b[0m\r\u001b[2K     \u001b[90m━━━━━━━━━━━━━━━━━━━━━━━━━━━━━━━━━━━━━━━━\u001b[0m \u001b[32m135.4/135.4 kB\u001b[0m \u001b[31m2.8 MB/s\u001b[0m eta \u001b[36m0:00:00\u001b[0m\n",
            "\u001b[?25hRequirement already satisfied: numpy in /usr/local/lib/python3.10/dist-packages (from deap) (1.23.5)\n",
            "Installing collected packages: deap\n",
            "Successfully installed deap-1.4.1\n"
          ]
        }
      ],
      "source": [
        "!pip install deap"
      ]
    },
    {
      "cell_type": "code",
      "execution_count": null,
      "id": "cd641dfe-a15b-4d0e-8bcc-be9861fe3334",
      "metadata": {
        "colab": {
          "base_uri": "https://localhost:8080/"
        },
        "id": "cd641dfe-a15b-4d0e-8bcc-be9861fe3334",
        "outputId": "a6a99e4f-323f-4ff9-df05-fb1ab9570cdb"
      },
      "outputs": [
        {
          "output_type": "stream",
          "name": "stdout",
          "text": [
            "Requirement already satisfied: matplotlib in /usr/local/lib/python3.10/dist-packages (3.7.1)\n",
            "Requirement already satisfied: contourpy>=1.0.1 in /usr/local/lib/python3.10/dist-packages (from matplotlib) (1.2.0)\n",
            "Requirement already satisfied: cycler>=0.10 in /usr/local/lib/python3.10/dist-packages (from matplotlib) (0.12.1)\n",
            "Requirement already satisfied: fonttools>=4.22.0 in /usr/local/lib/python3.10/dist-packages (from matplotlib) (4.45.1)\n",
            "Requirement already satisfied: kiwisolver>=1.0.1 in /usr/local/lib/python3.10/dist-packages (from matplotlib) (1.4.5)\n",
            "Requirement already satisfied: numpy>=1.20 in /usr/local/lib/python3.10/dist-packages (from matplotlib) (1.23.5)\n",
            "Requirement already satisfied: packaging>=20.0 in /usr/local/lib/python3.10/dist-packages (from matplotlib) (23.2)\n",
            "Requirement already satisfied: pillow>=6.2.0 in /usr/local/lib/python3.10/dist-packages (from matplotlib) (9.4.0)\n",
            "Requirement already satisfied: pyparsing>=2.3.1 in /usr/local/lib/python3.10/dist-packages (from matplotlib) (3.1.1)\n",
            "Requirement already satisfied: python-dateutil>=2.7 in /usr/local/lib/python3.10/dist-packages (from matplotlib) (2.8.2)\n",
            "Requirement already satisfied: six>=1.5 in /usr/local/lib/python3.10/dist-packages (from python-dateutil>=2.7->matplotlib) (1.16.0)\n"
          ]
        }
      ],
      "source": [
        "!pip install matplotlib"
      ]
    },
    {
      "cell_type": "code",
      "execution_count": null,
      "id": "e718fa60-b2e8-432e-afb8-3cb3b259fb5e",
      "metadata": {
        "colab": {
          "base_uri": "https://localhost:8080/"
        },
        "id": "e718fa60-b2e8-432e-afb8-3cb3b259fb5e",
        "outputId": "e973f2e3-f051-4089-f0ac-6e9f8865f4e6"
      },
      "outputs": [
        {
          "output_type": "stream",
          "name": "stdout",
          "text": [
            "Requirement already satisfied: numpy in /usr/local/lib/python3.10/dist-packages (1.23.5)\n"
          ]
        }
      ],
      "source": [
        "!pip install numpy"
      ]
    },
    {
      "cell_type": "code",
      "execution_count": null,
      "id": "d1636feb-f488-4df1-b81f-0863b811fd57",
      "metadata": {
        "colab": {
          "base_uri": "https://localhost:8080/"
        },
        "id": "d1636feb-f488-4df1-b81f-0863b811fd57",
        "outputId": "2fa4cbaf-b0b7-45f0-9011-f44f2d549573"
      },
      "outputs": [
        {
          "output_type": "stream",
          "name": "stdout",
          "text": [
            "Requirement already satisfied: scipy in /usr/local/lib/python3.10/dist-packages (1.11.4)\n",
            "Requirement already satisfied: numpy<1.28.0,>=1.21.6 in /usr/local/lib/python3.10/dist-packages (from scipy) (1.23.5)\n"
          ]
        }
      ],
      "source": [
        "!pip install scipy"
      ]
    },
    {
      "cell_type": "markdown",
      "id": "a28845db-dd62-404c-9025-0066adefc3f1",
      "metadata": {
        "id": "a28845db-dd62-404c-9025-0066adefc3f1"
      },
      "source": [
        "Necesitamos también la librería de Python de **multiprocesamiento** (mecanismo de **paralelización**) **`SCOOP`** [Enlace al GitHub de SCOOP](https://github.com/soravux/scoop)"
      ]
    },
    {
      "cell_type": "code",
      "execution_count": null,
      "id": "1baccdcd-950d-4bb4-90d3-fac358d8278b",
      "metadata": {
        "colab": {
          "base_uri": "https://localhost:8080/"
        },
        "id": "1baccdcd-950d-4bb4-90d3-fac358d8278b",
        "outputId": "c8c60af6-f638-49e6-83aa-5c2042642ec8"
      },
      "outputs": [
        {
          "output_type": "stream",
          "name": "stdout",
          "text": [
            "Collecting scoop\n",
            "  Downloading scoop-0.7.2.0.tar.gz (615 kB)\n",
            "\u001b[?25l     \u001b[90m━━━━━━━━━━━━━━━━━━━━━━━━━━━━━━━━━━━━━━━━\u001b[0m \u001b[32m0.0/615.4 kB\u001b[0m \u001b[31m?\u001b[0m eta \u001b[36m-:--:--\u001b[0m\r\u001b[2K     \u001b[91m━━━━━━━━━\u001b[0m\u001b[90m╺\u001b[0m\u001b[90m━━━━━━━━━━━━━━━━━━━━━━━━━━━━━━\u001b[0m \u001b[32m143.4/615.4 kB\u001b[0m \u001b[31m4.1 MB/s\u001b[0m eta \u001b[36m0:00:01\u001b[0m\r\u001b[2K     \u001b[90m━━━━━━━━━━━━━━━━━━━━━━━━━━━━━━━━━━━━━━━━\u001b[0m \u001b[32m615.4/615.4 kB\u001b[0m \u001b[31m9.4 MB/s\u001b[0m eta \u001b[36m0:00:00\u001b[0m\n",
            "\u001b[?25h  Preparing metadata (setup.py) ... \u001b[?25l\u001b[?25hdone\n",
            "Requirement already satisfied: greenlet>=0.3.4 in /usr/local/lib/python3.10/dist-packages (from scoop) (3.0.1)\n",
            "Requirement already satisfied: pyzmq>=13.1.0 in /usr/local/lib/python3.10/dist-packages (from scoop) (23.2.1)\n",
            "Building wheels for collected packages: scoop\n",
            "  Building wheel for scoop (setup.py) ... \u001b[?25l\u001b[?25hdone\n",
            "  Created wheel for scoop: filename=scoop-0.7.2.0-py3-none-any.whl size=78113 sha256=a12917b4957aba68381eb13f8514a4001be43bee1ca79b19bb602216c549cc11\n",
            "  Stored in directory: /root/.cache/pip/wheels/26/c6/da/088e4bffcfbc33fa40644ca636267bc801c8fd9eef973483db\n",
            "Successfully built scoop\n",
            "Installing collected packages: scoop\n",
            "Successfully installed scoop-0.7.2.0\n"
          ]
        }
      ],
      "source": [
        "!pip install scoop"
      ]
    },
    {
      "cell_type": "markdown",
      "id": "f28a1414-ac27-4930-bb1b-1871c559bcc4",
      "metadata": {
        "id": "f28a1414-ac27-4930-bb1b-1871c559bcc4"
      },
      "source": [
        "### RESOLUCIÓN DE UN PROBLEMA SENCILLO ---------------------------------------"
      ]
    },
    {
      "cell_type": "markdown",
      "id": "93d8c81f-5427-40b1-a765-dc5c7cbc4f30",
      "metadata": {
        "id": "93d8c81f-5427-40b1-a765-dc5c7cbc4f30"
      },
      "source": [
        "Se desea encontrar el **máximo** de la función:\n",
        "$$f(x,y) = \\sqrt{x^2 + y^2}$$\n",
        "En el dominio $$\\{x,y\\} \\in [-100,100]$$"
      ]
    },
    {
      "cell_type": "markdown",
      "id": "7334aa93-ac24-4da9-8a78-d51745ce5273",
      "metadata": {
        "id": "7334aa93-ac24-4da9-8a78-d51745ce5273"
      },
      "source": [
        "En este problema, la cadena cromosomática estaría formada por dos genes (cromosomas), que, al confinarse en forma de lista, quedaría como $$[x_i, y_i]$$ con $$i = 1, 2, ... , n$$"
      ]
    },
    {
      "cell_type": "markdown",
      "id": "1d38c5de-d457-4930-bd05-ddb55c31933c",
      "metadata": {
        "id": "1d38c5de-d457-4930-bd05-ddb55c31933c"
      },
      "source": [
        "La **población** del algoritmo **no cambia de tamaño** a lo largo de las generaciones, con lo que **n** será **constante**"
      ]
    },
    {
      "cell_type": "markdown",
      "id": "1e2e5ece-293e-48e2-8659-31c62637b3ee",
      "metadata": {
        "id": "1e2e5ece-293e-48e2-8659-31c62637b3ee"
      },
      "source": [
        "La población inicial se **elige de forma aleatoria** porque queremos **diversidad genética**"
      ]
    },
    {
      "cell_type": "code",
      "execution_count": null,
      "id": "d42f87a4-ab4c-4ad3-9b1c-6b326da09c82",
      "metadata": {
        "id": "d42f87a4-ab4c-4ad3-9b1c-6b326da09c82"
      },
      "outputs": [],
      "source": [
        "import random\n",
        "import math\n",
        "import numpy as np\n",
        "from deap import base\n",
        "from deap import creator\n",
        "from deap import tools\n",
        "from deap import algorithms\n",
        "import matplotlib.pyplot as plt"
      ]
    },
    {
      "cell_type": "markdown",
      "id": "54949f15-4532-41b5-830d-0590fb3f40d9",
      "metadata": {
        "tags": [],
        "id": "54949f15-4532-41b5-830d-0590fb3f40d9"
      },
      "source": [
        "#### NOTA SOBRE NÚMEROS ALEATORIOS --------------------------"
      ]
    },
    {
      "cell_type": "markdown",
      "id": "dbd08d4b-2bc2-4392-b62c-f1ac9a8cd315",
      "metadata": {
        "id": "dbd08d4b-2bc2-4392-b62c-f1ac9a8cd315"
      },
      "source": [
        "Queremos generar números aleatorios entre -100 y 100 (sin incluir a estos). Podemos usar el módulo nativo random de generación de números pseudoaleatorios [Documentación librería random](https://docs.python.org/3/library/random.html) y `numpy.random`(para generación de vectores psudoaleatorios) [Documentación numpy.random](https://docs.scipy.org/doc/numpy-1.16.1/reference/routines.random.html). Recordad que los números totalmente aleatorios no existen en programación.\n",
        "\n",
        "Utilizamos, además, el método `uniform`: [Documentación método uniform](https://docs.python.org/3.6/library/random.html)"
      ]
    },
    {
      "cell_type": "code",
      "execution_count": null,
      "id": "7ce06dee-d95a-47f0-a211-4cca260eace0",
      "metadata": {
        "colab": {
          "base_uri": "https://localhost:8080/"
        },
        "id": "7ce06dee-d95a-47f0-a211-4cca260eace0",
        "outputId": "fcafbc15-b974-4931-c9b9-27a86e1e4c13"
      },
      "outputs": [
        {
          "output_type": "stream",
          "name": "stdout",
          "text": [
            "x=  [68.88437030500961, 51.590880588060486, -15.885683833830996, -48.21664994140733, 2.254944273721705, -19.01317250991714, 56.75971780695451, -39.33745478421451, -4.680609169528836, 16.676407891006235]\n",
            "y=  [81.62257703906704, 0.9373711634780477, -43.63243112005924, 51.16084083144477, 23.67379933506632, -49.898731727511894, 81.94925119364802, 96.55709520753061, 62.04344719931791, 80.43319008791653]\n"
          ]
        }
      ],
      "source": [
        "# Importamos la librería\n",
        "import random\n",
        "# Fijamos la semilla. Si no cambiamos la semilla,\n",
        "# la función generará los mismos número aleatorios\n",
        "random.seed(0)\n",
        "# Generamos los números pseudo-aleatorios en 2 list comprenhension\n",
        "# para encapsular todos los datos en las listas x e y\n",
        "x = [random.uniform(-100, 100) for i in range(10)]\n",
        "y = [random.uniform(-100, 100) for i in range(10)]\n",
        "print('x= ', x)\n",
        "print('y= ', y)"
      ]
    },
    {
      "cell_type": "markdown",
      "id": "18eb1cd6-52ed-4e71-bd00-d2062c2b4a73",
      "metadata": {
        "id": "18eb1cd6-52ed-4e71-bd00-d2062c2b4a73"
      },
      "source": [
        "Otra posibilidad es generar dos vectores de diez valores comprendidos entre -100 y 100, con una forma (1,10) (1 fila y 10 columnas). Serían dos vectores de tipo fila con diez valores"
      ]
    },
    {
      "cell_type": "code",
      "execution_count": null,
      "id": "44c25d1e-ba6e-43cc-bfd6-a732e5df2a59",
      "metadata": {
        "tags": [],
        "colab": {
          "base_uri": "https://localhost:8080/"
        },
        "id": "44c25d1e-ba6e-43cc-bfd6-a732e5df2a59",
        "outputId": "defd05ad-3bf7-49a9-bf8d-c81ea14ab661"
      },
      "outputs": [
        {
          "output_type": "stream",
          "name": "stdout",
          "text": [
            "z=  [[  9.76270079  43.03787327  20.55267521   8.9766366  -15.26904013\n",
            "   29.17882261 -12.48255775  78.35460016  92.7325521  -23.31169623]]\n",
            "t=  [[ 58.34500762   5.77898395  13.60891222  85.11932766 -85.79278836\n",
            "  -82.57414006 -95.95632051  66.52396911  55.63135019  74.00242965]]\n"
          ]
        }
      ],
      "source": [
        "import numpy as np\n",
        "# Fijamos la semilla\n",
        "np.random.seed(0)\n",
        "# Generamos los números pseudo-aleatorios\n",
        "# Son los mismos mientras no cambiemos la semilla\n",
        "# Numpy genera directamente los vectores\n",
        "z = np.random.uniform(-100, 100, 10).reshape(1, 10)\n",
        "t = np.random.uniform(-100, 100, 10).reshape(1, 10)\n",
        "print('z= ', z)\n",
        "print('t= ', t)"
      ]
    },
    {
      "cell_type": "markdown",
      "id": "57459d16-b5d1-404a-a09f-471333c37891",
      "metadata": {
        "id": "57459d16-b5d1-404a-a09f-471333c37891"
      },
      "source": [
        "Hay que tener en cuenta que las soluciones deben ser válidas y una solución sería **no válida** si alguna de las variables independientes se saliera de los **rangos establecidos**. Es común en los problemas de optimización tener restricciones en las variables, por lo que siempre tendremos que **comprobar la validez de nuestras soluciones**"
      ]
    },
    {
      "cell_type": "markdown",
      "id": "a935fd89-89df-425c-99ea-1a5bd668b878",
      "metadata": {
        "id": "a935fd89-89df-425c-99ea-1a5bd668b878"
      },
      "source": [
        "#### ------------------------------------------------------------------"
      ]
    },
    {
      "cell_type": "markdown",
      "id": "7f967799-f819-4d3d-9288-47c62d81704d",
      "metadata": {
        "id": "7f967799-f819-4d3d-9288-47c62d81704d"
      },
      "source": [
        "#### NOTA 2: ESPACIO DE BÚSQUEDA O DOMINIO DE LA SOLUCIÓN -"
      ]
    },
    {
      "cell_type": "markdown",
      "id": "f00b93b5-1058-421e-8086-3bf23adf44db",
      "metadata": {
        "id": "f00b93b5-1058-421e-8086-3bf23adf44db"
      },
      "source": [
        "Sabemos que las 4 soluciones óptimas para nuestro problema de ejemplo son:"
      ]
    },
    {
      "cell_type": "markdown",
      "id": "e0307957-bd11-4526-8450-d7db65c5f416",
      "metadata": {
        "id": "e0307957-bd11-4526-8450-d7db65c5f416"
      },
      "source": [
        "|Individuo|x|y|\n",
        "|-|-|-|\n",
        "|1|100|100|\n",
        "|2|-100|100|\n",
        "|3|100|-100|\n",
        "|4|-100|-100|"
      ]
    },
    {
      "cell_type": "markdown",
      "id": "8cd15e61-99d4-4fa7-82cc-ab5386ce2a14",
      "metadata": {
        "id": "8cd15e61-99d4-4fa7-82cc-ab5386ce2a14"
      },
      "source": [
        "Vamos a resolverlo con Algoritmo Genético como ejercício, aunque cualquier algoritmo de optimización basado en gradiente de los que vienen incluidos en el módulo `optimize` de `scipy`([módulo optimize en scipy](https://docs.scipy.org/doc/scipy/reference/generated/scipy.optimize.minimize.html#scipy.optimize.minimize)) nos valdría para obtener una solución a nuestro problema de manera sencilla, ya que nuestra función es **convexa**\n",
        "\n",
        "Recordar que: Los AGs se deben emplear en **problemas de optimización** en los que la solución óptima **no se conozca** y ni siquiera tengamos una **aproximación** a la misma o incluso **ni siquiera se tenga la certeza** de que podamos obtenerla.\n",
        "\n",
        "Aunque el **uso de AGs no nos da certeza de obtener la solución óptima**, si obtendremos una solución **bastante buena** y en un **tiempo razonable**. Siempre vamos a terminar con una solución al problema que **será mejor que realizar una búsqueda totalmente aleatoria**"
      ]
    },
    {
      "cell_type": "markdown",
      "id": "735db5ba-fb4f-4da2-8a33-6876950a8b97",
      "metadata": {
        "id": "735db5ba-fb4f-4da2-8a33-6876950a8b97"
      },
      "source": [
        "##### Visualicemos nuestra función"
      ]
    },
    {
      "cell_type": "code",
      "execution_count": null,
      "id": "ef168180-ea01-46a2-b51a-1419f5fa326f",
      "metadata": {
        "id": "ef168180-ea01-46a2-b51a-1419f5fa326f"
      },
      "outputs": [],
      "source": [
        "# Importamos las librerías necesarias\n",
        "import numpy as np\n",
        "import matplotlib.pyplot as plt\n",
        "from mpl_toolkits.mplot3d import Axes3D\n",
        "from matplotlib import cm"
      ]
    },
    {
      "cell_type": "code",
      "execution_count": null,
      "id": "f0c2efe5-e609-493e-8575-75b67d37000b",
      "metadata": {
        "id": "f0c2efe5-e609-493e-8575-75b67d37000b"
      },
      "outputs": [],
      "source": [
        "# Definimos la función objetivo\n",
        "# def funcion_prueba(x):\n",
        "#     # x es x[0] e y es x[1]\n",
        "#     res = np.sqrt(x[0]**2 + x[1]**2)\n",
        "#     return res\n",
        "\n",
        "def funcion_prueba(x):\n",
        "    # x es x[0] e y es x[1]\n",
        "    res = 3*(1-x[0])**2*math.exp(-(x[0]**2)-(x[1]+1)**2)-10*(x[0]/5-x[0]**3-x[1]**5)*math.exp(-x[0]**2-x[1]**2)-(1/3)*math.exp(-(x[0]+1)**2-x[1]**2)\n",
        "    return res"
      ]
    },
    {
      "cell_type": "markdown",
      "id": "33d62592-99ea-41ae-a85a-ac7f76696737",
      "metadata": {
        "id": "33d62592-99ea-41ae-a85a-ac7f76696737"
      },
      "source": [
        "[numpy.linspace](https://numpy.org/doc/stable/reference/generated/numpy.linspace.html)"
      ]
    },
    {
      "cell_type": "code",
      "execution_count": null,
      "id": "e8429f3c-5960-4b35-88fe-0d57c590fa71",
      "metadata": {
        "colab": {
          "base_uri": "https://localhost:8080/"
        },
        "id": "e8429f3c-5960-4b35-88fe-0d57c590fa71",
        "outputId": "295de8b0-41b9-4b4f-e94e-b1f5256e60d2"
      },
      "outputs": [
        {
          "output_type": "stream",
          "name": "stdout",
          "text": [
            "x=  [-100.          -99.7997998   -99.5995996   -99.3993994   -99.1991992\n",
            "  -98.998999    -98.7987988   -98.5985986   -98.3983984   -98.1981982\n",
            "  -97.997998    -97.7977978   -97.5975976   -97.3973974   -97.1971972\n",
            "  -96.996997    -96.7967968   -96.5965966   -96.3963964   -96.1961962\n",
            "  -95.995996    -95.7957958   -95.5955956   -95.3953954   -95.1951952\n",
            "  -94.99499499  -94.79479479  -94.59459459  -94.39439439  -94.19419419\n",
            "  -93.99399399  -93.79379379  -93.59359359  -93.39339339  -93.19319319\n",
            "  -92.99299299  -92.79279279  -92.59259259  -92.39239239  -92.19219219\n",
            "  -91.99199199  -91.79179179  -91.59159159  -91.39139139  -91.19119119\n",
            "  -90.99099099  -90.79079079  -90.59059059  -90.39039039  -90.19019019\n",
            "  -89.98998999  -89.78978979  -89.58958959  -89.38938939  -89.18918919\n",
            "  -88.98898899  -88.78878879  -88.58858859  -88.38838839  -88.18818819\n",
            "  -87.98798799  -87.78778779  -87.58758759  -87.38738739  -87.18718719\n",
            "  -86.98698699  -86.78678679  -86.58658659  -86.38638639  -86.18618619\n",
            "  -85.98598599  -85.78578579  -85.58558559  -85.38538539  -85.18518519\n",
            "  -84.98498498  -84.78478478  -84.58458458  -84.38438438  -84.18418418\n",
            "  -83.98398398  -83.78378378  -83.58358358  -83.38338338  -83.18318318\n",
            "  -82.98298298  -82.78278278  -82.58258258  -82.38238238  -82.18218218\n",
            "  -81.98198198  -81.78178178  -81.58158158  -81.38138138  -81.18118118\n",
            "  -80.98098098  -80.78078078  -80.58058058  -80.38038038  -80.18018018\n",
            "  -79.97997998  -79.77977978  -79.57957958  -79.37937938  -79.17917918\n",
            "  -78.97897898  -78.77877878  -78.57857858  -78.37837838  -78.17817818\n",
            "  -77.97797798  -77.77777778  -77.57757758  -77.37737738  -77.17717718\n",
            "  -76.97697698  -76.77677678  -76.57657658  -76.37637638  -76.17617618\n",
            "  -75.97597598  -75.77577578  -75.57557558  -75.37537538  -75.17517518\n",
            "  -74.97497497  -74.77477477  -74.57457457  -74.37437437  -74.17417417\n",
            "  -73.97397397  -73.77377377  -73.57357357  -73.37337337  -73.17317317\n",
            "  -72.97297297  -72.77277277  -72.57257257  -72.37237237  -72.17217217\n",
            "  -71.97197197  -71.77177177  -71.57157157  -71.37137137  -71.17117117\n",
            "  -70.97097097  -70.77077077  -70.57057057  -70.37037037  -70.17017017\n",
            "  -69.96996997  -69.76976977  -69.56956957  -69.36936937  -69.16916917\n",
            "  -68.96896897  -68.76876877  -68.56856857  -68.36836837  -68.16816817\n",
            "  -67.96796797  -67.76776777  -67.56756757  -67.36736737  -67.16716717\n",
            "  -66.96696697  -66.76676677  -66.56656657  -66.36636637  -66.16616617\n",
            "  -65.96596597  -65.76576577  -65.56556557  -65.36536537  -65.16516517\n",
            "  -64.96496496  -64.76476476  -64.56456456  -64.36436436  -64.16416416\n",
            "  -63.96396396  -63.76376376  -63.56356356  -63.36336336  -63.16316316\n",
            "  -62.96296296  -62.76276276  -62.56256256  -62.36236236  -62.16216216\n",
            "  -61.96196196  -61.76176176  -61.56156156  -61.36136136  -61.16116116\n",
            "  -60.96096096  -60.76076076  -60.56056056  -60.36036036  -60.16016016\n",
            "  -59.95995996  -59.75975976  -59.55955956  -59.35935936  -59.15915916\n",
            "  -58.95895896  -58.75875876  -58.55855856  -58.35835836  -58.15815816\n",
            "  -57.95795796  -57.75775776  -57.55755756  -57.35735736  -57.15715716\n",
            "  -56.95695696  -56.75675676  -56.55655656  -56.35635636  -56.15615616\n",
            "  -55.95595596  -55.75575576  -55.55555556  -55.35535536  -55.15515516\n",
            "  -54.95495495  -54.75475475  -54.55455455  -54.35435435  -54.15415415\n",
            "  -53.95395395  -53.75375375  -53.55355355  -53.35335335  -53.15315315\n",
            "  -52.95295295  -52.75275275  -52.55255255  -52.35235235  -52.15215215\n",
            "  -51.95195195  -51.75175175  -51.55155155  -51.35135135  -51.15115115\n",
            "  -50.95095095  -50.75075075  -50.55055055  -50.35035035  -50.15015015\n",
            "  -49.94994995  -49.74974975  -49.54954955  -49.34934935  -49.14914915\n",
            "  -48.94894895  -48.74874875  -48.54854855  -48.34834835  -48.14814815\n",
            "  -47.94794795  -47.74774775  -47.54754755  -47.34734735  -47.14714715\n",
            "  -46.94694695  -46.74674675  -46.54654655  -46.34634635  -46.14614615\n",
            "  -45.94594595  -45.74574575  -45.54554555  -45.34534535  -45.14514515\n",
            "  -44.94494494  -44.74474474  -44.54454454  -44.34434434  -44.14414414\n",
            "  -43.94394394  -43.74374374  -43.54354354  -43.34334334  -43.14314314\n",
            "  -42.94294294  -42.74274274  -42.54254254  -42.34234234  -42.14214214\n",
            "  -41.94194194  -41.74174174  -41.54154154  -41.34134134  -41.14114114\n",
            "  -40.94094094  -40.74074074  -40.54054054  -40.34034034  -40.14014014\n",
            "  -39.93993994  -39.73973974  -39.53953954  -39.33933934  -39.13913914\n",
            "  -38.93893894  -38.73873874  -38.53853854  -38.33833834  -38.13813814\n",
            "  -37.93793794  -37.73773774  -37.53753754  -37.33733734  -37.13713714\n",
            "  -36.93693694  -36.73673674  -36.53653654  -36.33633634  -36.13613614\n",
            "  -35.93593594  -35.73573574  -35.53553554  -35.33533534  -35.13513514\n",
            "  -34.93493493  -34.73473473  -34.53453453  -34.33433433  -34.13413413\n",
            "  -33.93393393  -33.73373373  -33.53353353  -33.33333333  -33.13313313\n",
            "  -32.93293293  -32.73273273  -32.53253253  -32.33233233  -32.13213213\n",
            "  -31.93193193  -31.73173173  -31.53153153  -31.33133133  -31.13113113\n",
            "  -30.93093093  -30.73073073  -30.53053053  -30.33033033  -30.13013013\n",
            "  -29.92992993  -29.72972973  -29.52952953  -29.32932933  -29.12912913\n",
            "  -28.92892893  -28.72872873  -28.52852853  -28.32832833  -28.12812813\n",
            "  -27.92792793  -27.72772773  -27.52752753  -27.32732733  -27.12712713\n",
            "  -26.92692693  -26.72672673  -26.52652653  -26.32632633  -26.12612613\n",
            "  -25.92592593  -25.72572573  -25.52552553  -25.32532533  -25.12512513\n",
            "  -24.92492492  -24.72472472  -24.52452452  -24.32432432  -24.12412412\n",
            "  -23.92392392  -23.72372372  -23.52352352  -23.32332332  -23.12312312\n",
            "  -22.92292292  -22.72272272  -22.52252252  -22.32232232  -22.12212212\n",
            "  -21.92192192  -21.72172172  -21.52152152  -21.32132132  -21.12112112\n",
            "  -20.92092092  -20.72072072  -20.52052052  -20.32032032  -20.12012012\n",
            "  -19.91991992  -19.71971972  -19.51951952  -19.31931932  -19.11911912\n",
            "  -18.91891892  -18.71871872  -18.51851852  -18.31831832  -18.11811812\n",
            "  -17.91791792  -17.71771772  -17.51751752  -17.31731732  -17.11711712\n",
            "  -16.91691692  -16.71671672  -16.51651652  -16.31631632  -16.11611612\n",
            "  -15.91591592  -15.71571572  -15.51551552  -15.31531532  -15.11511512\n",
            "  -14.91491491  -14.71471471  -14.51451451  -14.31431431  -14.11411411\n",
            "  -13.91391391  -13.71371371  -13.51351351  -13.31331331  -13.11311311\n",
            "  -12.91291291  -12.71271271  -12.51251251  -12.31231231  -12.11211211\n",
            "  -11.91191191  -11.71171171  -11.51151151  -11.31131131  -11.11111111\n",
            "  -10.91091091  -10.71071071  -10.51051051  -10.31031031  -10.11011011\n",
            "   -9.90990991   -9.70970971   -9.50950951   -9.30930931   -9.10910911\n",
            "   -8.90890891   -8.70870871   -8.50850851   -8.30830831   -8.10810811\n",
            "   -7.90790791   -7.70770771   -7.50750751   -7.30730731   -7.10710711\n",
            "   -6.90690691   -6.70670671   -6.50650651   -6.30630631   -6.10610611\n",
            "   -5.90590591   -5.70570571   -5.50550551   -5.30530531   -5.10510511\n",
            "   -4.9049049    -4.7047047    -4.5045045    -4.3043043    -4.1041041\n",
            "   -3.9039039    -3.7037037    -3.5035035    -3.3033033    -3.1031031\n",
            "   -2.9029029    -2.7027027    -2.5025025    -2.3023023    -2.1021021\n",
            "   -1.9019019    -1.7017017    -1.5015015    -1.3013013    -1.1011011\n",
            "   -0.9009009    -0.7007007    -0.5005005    -0.3003003    -0.1001001\n",
            "    0.1001001     0.3003003     0.5005005     0.7007007     0.9009009\n",
            "    1.1011011     1.3013013     1.5015015     1.7017017     1.9019019\n",
            "    2.1021021     2.3023023     2.5025025     2.7027027     2.9029029\n",
            "    3.1031031     3.3033033     3.5035035     3.7037037     3.9039039\n",
            "    4.1041041     4.3043043     4.5045045     4.7047047     4.9049049\n",
            "    5.10510511    5.30530531    5.50550551    5.70570571    5.90590591\n",
            "    6.10610611    6.30630631    6.50650651    6.70670671    6.90690691\n",
            "    7.10710711    7.30730731    7.50750751    7.70770771    7.90790791\n",
            "    8.10810811    8.30830831    8.50850851    8.70870871    8.90890891\n",
            "    9.10910911    9.30930931    9.50950951    9.70970971    9.90990991\n",
            "   10.11011011   10.31031031   10.51051051   10.71071071   10.91091091\n",
            "   11.11111111   11.31131131   11.51151151   11.71171171   11.91191191\n",
            "   12.11211211   12.31231231   12.51251251   12.71271271   12.91291291\n",
            "   13.11311311   13.31331331   13.51351351   13.71371371   13.91391391\n",
            "   14.11411411   14.31431431   14.51451451   14.71471471   14.91491491\n",
            "   15.11511512   15.31531532   15.51551552   15.71571572   15.91591592\n",
            "   16.11611612   16.31631632   16.51651652   16.71671672   16.91691692\n",
            "   17.11711712   17.31731732   17.51751752   17.71771772   17.91791792\n",
            "   18.11811812   18.31831832   18.51851852   18.71871872   18.91891892\n",
            "   19.11911912   19.31931932   19.51951952   19.71971972   19.91991992\n",
            "   20.12012012   20.32032032   20.52052052   20.72072072   20.92092092\n",
            "   21.12112112   21.32132132   21.52152152   21.72172172   21.92192192\n",
            "   22.12212212   22.32232232   22.52252252   22.72272272   22.92292292\n",
            "   23.12312312   23.32332332   23.52352352   23.72372372   23.92392392\n",
            "   24.12412412   24.32432432   24.52452452   24.72472472   24.92492492\n",
            "   25.12512513   25.32532533   25.52552553   25.72572573   25.92592593\n",
            "   26.12612613   26.32632633   26.52652653   26.72672673   26.92692693\n",
            "   27.12712713   27.32732733   27.52752753   27.72772773   27.92792793\n",
            "   28.12812813   28.32832833   28.52852853   28.72872873   28.92892893\n",
            "   29.12912913   29.32932933   29.52952953   29.72972973   29.92992993\n",
            "   30.13013013   30.33033033   30.53053053   30.73073073   30.93093093\n",
            "   31.13113113   31.33133133   31.53153153   31.73173173   31.93193193\n",
            "   32.13213213   32.33233233   32.53253253   32.73273273   32.93293293\n",
            "   33.13313313   33.33333333   33.53353353   33.73373373   33.93393393\n",
            "   34.13413413   34.33433433   34.53453453   34.73473473   34.93493493\n",
            "   35.13513514   35.33533534   35.53553554   35.73573574   35.93593594\n",
            "   36.13613614   36.33633634   36.53653654   36.73673674   36.93693694\n",
            "   37.13713714   37.33733734   37.53753754   37.73773774   37.93793794\n",
            "   38.13813814   38.33833834   38.53853854   38.73873874   38.93893894\n",
            "   39.13913914   39.33933934   39.53953954   39.73973974   39.93993994\n",
            "   40.14014014   40.34034034   40.54054054   40.74074074   40.94094094\n",
            "   41.14114114   41.34134134   41.54154154   41.74174174   41.94194194\n",
            "   42.14214214   42.34234234   42.54254254   42.74274274   42.94294294\n",
            "   43.14314314   43.34334334   43.54354354   43.74374374   43.94394394\n",
            "   44.14414414   44.34434434   44.54454454   44.74474474   44.94494494\n",
            "   45.14514515   45.34534535   45.54554555   45.74574575   45.94594595\n",
            "   46.14614615   46.34634635   46.54654655   46.74674675   46.94694695\n",
            "   47.14714715   47.34734735   47.54754755   47.74774775   47.94794795\n",
            "   48.14814815   48.34834835   48.54854855   48.74874875   48.94894895\n",
            "   49.14914915   49.34934935   49.54954955   49.74974975   49.94994995\n",
            "   50.15015015   50.35035035   50.55055055   50.75075075   50.95095095\n",
            "   51.15115115   51.35135135   51.55155155   51.75175175   51.95195195\n",
            "   52.15215215   52.35235235   52.55255255   52.75275275   52.95295295\n",
            "   53.15315315   53.35335335   53.55355355   53.75375375   53.95395395\n",
            "   54.15415415   54.35435435   54.55455455   54.75475475   54.95495495\n",
            "   55.15515516   55.35535536   55.55555556   55.75575576   55.95595596\n",
            "   56.15615616   56.35635636   56.55655656   56.75675676   56.95695696\n",
            "   57.15715716   57.35735736   57.55755756   57.75775776   57.95795796\n",
            "   58.15815816   58.35835836   58.55855856   58.75875876   58.95895896\n",
            "   59.15915916   59.35935936   59.55955956   59.75975976   59.95995996\n",
            "   60.16016016   60.36036036   60.56056056   60.76076076   60.96096096\n",
            "   61.16116116   61.36136136   61.56156156   61.76176176   61.96196196\n",
            "   62.16216216   62.36236236   62.56256256   62.76276276   62.96296296\n",
            "   63.16316316   63.36336336   63.56356356   63.76376376   63.96396396\n",
            "   64.16416416   64.36436436   64.56456456   64.76476476   64.96496496\n",
            "   65.16516517   65.36536537   65.56556557   65.76576577   65.96596597\n",
            "   66.16616617   66.36636637   66.56656657   66.76676677   66.96696697\n",
            "   67.16716717   67.36736737   67.56756757   67.76776777   67.96796797\n",
            "   68.16816817   68.36836837   68.56856857   68.76876877   68.96896897\n",
            "   69.16916917   69.36936937   69.56956957   69.76976977   69.96996997\n",
            "   70.17017017   70.37037037   70.57057057   70.77077077   70.97097097\n",
            "   71.17117117   71.37137137   71.57157157   71.77177177   71.97197197\n",
            "   72.17217217   72.37237237   72.57257257   72.77277277   72.97297297\n",
            "   73.17317317   73.37337337   73.57357357   73.77377377   73.97397397\n",
            "   74.17417417   74.37437437   74.57457457   74.77477477   74.97497497\n",
            "   75.17517518   75.37537538   75.57557558   75.77577578   75.97597598\n",
            "   76.17617618   76.37637638   76.57657658   76.77677678   76.97697698\n",
            "   77.17717718   77.37737738   77.57757758   77.77777778   77.97797798\n",
            "   78.17817818   78.37837838   78.57857858   78.77877878   78.97897898\n",
            "   79.17917918   79.37937938   79.57957958   79.77977978   79.97997998\n",
            "   80.18018018   80.38038038   80.58058058   80.78078078   80.98098098\n",
            "   81.18118118   81.38138138   81.58158158   81.78178178   81.98198198\n",
            "   82.18218218   82.38238238   82.58258258   82.78278278   82.98298298\n",
            "   83.18318318   83.38338338   83.58358358   83.78378378   83.98398398\n",
            "   84.18418418   84.38438438   84.58458458   84.78478478   84.98498498\n",
            "   85.18518519   85.38538539   85.58558559   85.78578579   85.98598599\n",
            "   86.18618619   86.38638639   86.58658659   86.78678679   86.98698699\n",
            "   87.18718719   87.38738739   87.58758759   87.78778779   87.98798799\n",
            "   88.18818819   88.38838839   88.58858859   88.78878879   88.98898899\n",
            "   89.18918919   89.38938939   89.58958959   89.78978979   89.98998999\n",
            "   90.19019019   90.39039039   90.59059059   90.79079079   90.99099099\n",
            "   91.19119119   91.39139139   91.59159159   91.79179179   91.99199199\n",
            "   92.19219219   92.39239239   92.59259259   92.79279279   92.99299299\n",
            "   93.19319319   93.39339339   93.59359359   93.79379379   93.99399399\n",
            "   94.19419419   94.39439439   94.59459459   94.79479479   94.99499499\n",
            "   95.1951952    95.3953954    95.5955956    95.7957958    95.995996\n",
            "   96.1961962    96.3963964    96.5965966    96.7967968    96.996997\n",
            "   97.1971972    97.3973974    97.5975976    97.7977978    97.997998\n",
            "   98.1981982    98.3983984    98.5985986    98.7987988    98.998999\n",
            "   99.1991992    99.3993994    99.5995996    99.7997998   100.        ]\n",
            "y=  [-100.          -99.7997998   -99.5995996   -99.3993994   -99.1991992\n",
            "  -98.998999    -98.7987988   -98.5985986   -98.3983984   -98.1981982\n",
            "  -97.997998    -97.7977978   -97.5975976   -97.3973974   -97.1971972\n",
            "  -96.996997    -96.7967968   -96.5965966   -96.3963964   -96.1961962\n",
            "  -95.995996    -95.7957958   -95.5955956   -95.3953954   -95.1951952\n",
            "  -94.99499499  -94.79479479  -94.59459459  -94.39439439  -94.19419419\n",
            "  -93.99399399  -93.79379379  -93.59359359  -93.39339339  -93.19319319\n",
            "  -92.99299299  -92.79279279  -92.59259259  -92.39239239  -92.19219219\n",
            "  -91.99199199  -91.79179179  -91.59159159  -91.39139139  -91.19119119\n",
            "  -90.99099099  -90.79079079  -90.59059059  -90.39039039  -90.19019019\n",
            "  -89.98998999  -89.78978979  -89.58958959  -89.38938939  -89.18918919\n",
            "  -88.98898899  -88.78878879  -88.58858859  -88.38838839  -88.18818819\n",
            "  -87.98798799  -87.78778779  -87.58758759  -87.38738739  -87.18718719\n",
            "  -86.98698699  -86.78678679  -86.58658659  -86.38638639  -86.18618619\n",
            "  -85.98598599  -85.78578579  -85.58558559  -85.38538539  -85.18518519\n",
            "  -84.98498498  -84.78478478  -84.58458458  -84.38438438  -84.18418418\n",
            "  -83.98398398  -83.78378378  -83.58358358  -83.38338338  -83.18318318\n",
            "  -82.98298298  -82.78278278  -82.58258258  -82.38238238  -82.18218218\n",
            "  -81.98198198  -81.78178178  -81.58158158  -81.38138138  -81.18118118\n",
            "  -80.98098098  -80.78078078  -80.58058058  -80.38038038  -80.18018018\n",
            "  -79.97997998  -79.77977978  -79.57957958  -79.37937938  -79.17917918\n",
            "  -78.97897898  -78.77877878  -78.57857858  -78.37837838  -78.17817818\n",
            "  -77.97797798  -77.77777778  -77.57757758  -77.37737738  -77.17717718\n",
            "  -76.97697698  -76.77677678  -76.57657658  -76.37637638  -76.17617618\n",
            "  -75.97597598  -75.77577578  -75.57557558  -75.37537538  -75.17517518\n",
            "  -74.97497497  -74.77477477  -74.57457457  -74.37437437  -74.17417417\n",
            "  -73.97397397  -73.77377377  -73.57357357  -73.37337337  -73.17317317\n",
            "  -72.97297297  -72.77277277  -72.57257257  -72.37237237  -72.17217217\n",
            "  -71.97197197  -71.77177177  -71.57157157  -71.37137137  -71.17117117\n",
            "  -70.97097097  -70.77077077  -70.57057057  -70.37037037  -70.17017017\n",
            "  -69.96996997  -69.76976977  -69.56956957  -69.36936937  -69.16916917\n",
            "  -68.96896897  -68.76876877  -68.56856857  -68.36836837  -68.16816817\n",
            "  -67.96796797  -67.76776777  -67.56756757  -67.36736737  -67.16716717\n",
            "  -66.96696697  -66.76676677  -66.56656657  -66.36636637  -66.16616617\n",
            "  -65.96596597  -65.76576577  -65.56556557  -65.36536537  -65.16516517\n",
            "  -64.96496496  -64.76476476  -64.56456456  -64.36436436  -64.16416416\n",
            "  -63.96396396  -63.76376376  -63.56356356  -63.36336336  -63.16316316\n",
            "  -62.96296296  -62.76276276  -62.56256256  -62.36236236  -62.16216216\n",
            "  -61.96196196  -61.76176176  -61.56156156  -61.36136136  -61.16116116\n",
            "  -60.96096096  -60.76076076  -60.56056056  -60.36036036  -60.16016016\n",
            "  -59.95995996  -59.75975976  -59.55955956  -59.35935936  -59.15915916\n",
            "  -58.95895896  -58.75875876  -58.55855856  -58.35835836  -58.15815816\n",
            "  -57.95795796  -57.75775776  -57.55755756  -57.35735736  -57.15715716\n",
            "  -56.95695696  -56.75675676  -56.55655656  -56.35635636  -56.15615616\n",
            "  -55.95595596  -55.75575576  -55.55555556  -55.35535536  -55.15515516\n",
            "  -54.95495495  -54.75475475  -54.55455455  -54.35435435  -54.15415415\n",
            "  -53.95395395  -53.75375375  -53.55355355  -53.35335335  -53.15315315\n",
            "  -52.95295295  -52.75275275  -52.55255255  -52.35235235  -52.15215215\n",
            "  -51.95195195  -51.75175175  -51.55155155  -51.35135135  -51.15115115\n",
            "  -50.95095095  -50.75075075  -50.55055055  -50.35035035  -50.15015015\n",
            "  -49.94994995  -49.74974975  -49.54954955  -49.34934935  -49.14914915\n",
            "  -48.94894895  -48.74874875  -48.54854855  -48.34834835  -48.14814815\n",
            "  -47.94794795  -47.74774775  -47.54754755  -47.34734735  -47.14714715\n",
            "  -46.94694695  -46.74674675  -46.54654655  -46.34634635  -46.14614615\n",
            "  -45.94594595  -45.74574575  -45.54554555  -45.34534535  -45.14514515\n",
            "  -44.94494494  -44.74474474  -44.54454454  -44.34434434  -44.14414414\n",
            "  -43.94394394  -43.74374374  -43.54354354  -43.34334334  -43.14314314\n",
            "  -42.94294294  -42.74274274  -42.54254254  -42.34234234  -42.14214214\n",
            "  -41.94194194  -41.74174174  -41.54154154  -41.34134134  -41.14114114\n",
            "  -40.94094094  -40.74074074  -40.54054054  -40.34034034  -40.14014014\n",
            "  -39.93993994  -39.73973974  -39.53953954  -39.33933934  -39.13913914\n",
            "  -38.93893894  -38.73873874  -38.53853854  -38.33833834  -38.13813814\n",
            "  -37.93793794  -37.73773774  -37.53753754  -37.33733734  -37.13713714\n",
            "  -36.93693694  -36.73673674  -36.53653654  -36.33633634  -36.13613614\n",
            "  -35.93593594  -35.73573574  -35.53553554  -35.33533534  -35.13513514\n",
            "  -34.93493493  -34.73473473  -34.53453453  -34.33433433  -34.13413413\n",
            "  -33.93393393  -33.73373373  -33.53353353  -33.33333333  -33.13313313\n",
            "  -32.93293293  -32.73273273  -32.53253253  -32.33233233  -32.13213213\n",
            "  -31.93193193  -31.73173173  -31.53153153  -31.33133133  -31.13113113\n",
            "  -30.93093093  -30.73073073  -30.53053053  -30.33033033  -30.13013013\n",
            "  -29.92992993  -29.72972973  -29.52952953  -29.32932933  -29.12912913\n",
            "  -28.92892893  -28.72872873  -28.52852853  -28.32832833  -28.12812813\n",
            "  -27.92792793  -27.72772773  -27.52752753  -27.32732733  -27.12712713\n",
            "  -26.92692693  -26.72672673  -26.52652653  -26.32632633  -26.12612613\n",
            "  -25.92592593  -25.72572573  -25.52552553  -25.32532533  -25.12512513\n",
            "  -24.92492492  -24.72472472  -24.52452452  -24.32432432  -24.12412412\n",
            "  -23.92392392  -23.72372372  -23.52352352  -23.32332332  -23.12312312\n",
            "  -22.92292292  -22.72272272  -22.52252252  -22.32232232  -22.12212212\n",
            "  -21.92192192  -21.72172172  -21.52152152  -21.32132132  -21.12112112\n",
            "  -20.92092092  -20.72072072  -20.52052052  -20.32032032  -20.12012012\n",
            "  -19.91991992  -19.71971972  -19.51951952  -19.31931932  -19.11911912\n",
            "  -18.91891892  -18.71871872  -18.51851852  -18.31831832  -18.11811812\n",
            "  -17.91791792  -17.71771772  -17.51751752  -17.31731732  -17.11711712\n",
            "  -16.91691692  -16.71671672  -16.51651652  -16.31631632  -16.11611612\n",
            "  -15.91591592  -15.71571572  -15.51551552  -15.31531532  -15.11511512\n",
            "  -14.91491491  -14.71471471  -14.51451451  -14.31431431  -14.11411411\n",
            "  -13.91391391  -13.71371371  -13.51351351  -13.31331331  -13.11311311\n",
            "  -12.91291291  -12.71271271  -12.51251251  -12.31231231  -12.11211211\n",
            "  -11.91191191  -11.71171171  -11.51151151  -11.31131131  -11.11111111\n",
            "  -10.91091091  -10.71071071  -10.51051051  -10.31031031  -10.11011011\n",
            "   -9.90990991   -9.70970971   -9.50950951   -9.30930931   -9.10910911\n",
            "   -8.90890891   -8.70870871   -8.50850851   -8.30830831   -8.10810811\n",
            "   -7.90790791   -7.70770771   -7.50750751   -7.30730731   -7.10710711\n",
            "   -6.90690691   -6.70670671   -6.50650651   -6.30630631   -6.10610611\n",
            "   -5.90590591   -5.70570571   -5.50550551   -5.30530531   -5.10510511\n",
            "   -4.9049049    -4.7047047    -4.5045045    -4.3043043    -4.1041041\n",
            "   -3.9039039    -3.7037037    -3.5035035    -3.3033033    -3.1031031\n",
            "   -2.9029029    -2.7027027    -2.5025025    -2.3023023    -2.1021021\n",
            "   -1.9019019    -1.7017017    -1.5015015    -1.3013013    -1.1011011\n",
            "   -0.9009009    -0.7007007    -0.5005005    -0.3003003    -0.1001001\n",
            "    0.1001001     0.3003003     0.5005005     0.7007007     0.9009009\n",
            "    1.1011011     1.3013013     1.5015015     1.7017017     1.9019019\n",
            "    2.1021021     2.3023023     2.5025025     2.7027027     2.9029029\n",
            "    3.1031031     3.3033033     3.5035035     3.7037037     3.9039039\n",
            "    4.1041041     4.3043043     4.5045045     4.7047047     4.9049049\n",
            "    5.10510511    5.30530531    5.50550551    5.70570571    5.90590591\n",
            "    6.10610611    6.30630631    6.50650651    6.70670671    6.90690691\n",
            "    7.10710711    7.30730731    7.50750751    7.70770771    7.90790791\n",
            "    8.10810811    8.30830831    8.50850851    8.70870871    8.90890891\n",
            "    9.10910911    9.30930931    9.50950951    9.70970971    9.90990991\n",
            "   10.11011011   10.31031031   10.51051051   10.71071071   10.91091091\n",
            "   11.11111111   11.31131131   11.51151151   11.71171171   11.91191191\n",
            "   12.11211211   12.31231231   12.51251251   12.71271271   12.91291291\n",
            "   13.11311311   13.31331331   13.51351351   13.71371371   13.91391391\n",
            "   14.11411411   14.31431431   14.51451451   14.71471471   14.91491491\n",
            "   15.11511512   15.31531532   15.51551552   15.71571572   15.91591592\n",
            "   16.11611612   16.31631632   16.51651652   16.71671672   16.91691692\n",
            "   17.11711712   17.31731732   17.51751752   17.71771772   17.91791792\n",
            "   18.11811812   18.31831832   18.51851852   18.71871872   18.91891892\n",
            "   19.11911912   19.31931932   19.51951952   19.71971972   19.91991992\n",
            "   20.12012012   20.32032032   20.52052052   20.72072072   20.92092092\n",
            "   21.12112112   21.32132132   21.52152152   21.72172172   21.92192192\n",
            "   22.12212212   22.32232232   22.52252252   22.72272272   22.92292292\n",
            "   23.12312312   23.32332332   23.52352352   23.72372372   23.92392392\n",
            "   24.12412412   24.32432432   24.52452452   24.72472472   24.92492492\n",
            "   25.12512513   25.32532533   25.52552553   25.72572573   25.92592593\n",
            "   26.12612613   26.32632633   26.52652653   26.72672673   26.92692693\n",
            "   27.12712713   27.32732733   27.52752753   27.72772773   27.92792793\n",
            "   28.12812813   28.32832833   28.52852853   28.72872873   28.92892893\n",
            "   29.12912913   29.32932933   29.52952953   29.72972973   29.92992993\n",
            "   30.13013013   30.33033033   30.53053053   30.73073073   30.93093093\n",
            "   31.13113113   31.33133133   31.53153153   31.73173173   31.93193193\n",
            "   32.13213213   32.33233233   32.53253253   32.73273273   32.93293293\n",
            "   33.13313313   33.33333333   33.53353353   33.73373373   33.93393393\n",
            "   34.13413413   34.33433433   34.53453453   34.73473473   34.93493493\n",
            "   35.13513514   35.33533534   35.53553554   35.73573574   35.93593594\n",
            "   36.13613614   36.33633634   36.53653654   36.73673674   36.93693694\n",
            "   37.13713714   37.33733734   37.53753754   37.73773774   37.93793794\n",
            "   38.13813814   38.33833834   38.53853854   38.73873874   38.93893894\n",
            "   39.13913914   39.33933934   39.53953954   39.73973974   39.93993994\n",
            "   40.14014014   40.34034034   40.54054054   40.74074074   40.94094094\n",
            "   41.14114114   41.34134134   41.54154154   41.74174174   41.94194194\n",
            "   42.14214214   42.34234234   42.54254254   42.74274274   42.94294294\n",
            "   43.14314314   43.34334334   43.54354354   43.74374374   43.94394394\n",
            "   44.14414414   44.34434434   44.54454454   44.74474474   44.94494494\n",
            "   45.14514515   45.34534535   45.54554555   45.74574575   45.94594595\n",
            "   46.14614615   46.34634635   46.54654655   46.74674675   46.94694695\n",
            "   47.14714715   47.34734735   47.54754755   47.74774775   47.94794795\n",
            "   48.14814815   48.34834835   48.54854855   48.74874875   48.94894895\n",
            "   49.14914915   49.34934935   49.54954955   49.74974975   49.94994995\n",
            "   50.15015015   50.35035035   50.55055055   50.75075075   50.95095095\n",
            "   51.15115115   51.35135135   51.55155155   51.75175175   51.95195195\n",
            "   52.15215215   52.35235235   52.55255255   52.75275275   52.95295295\n",
            "   53.15315315   53.35335335   53.55355355   53.75375375   53.95395395\n",
            "   54.15415415   54.35435435   54.55455455   54.75475475   54.95495495\n",
            "   55.15515516   55.35535536   55.55555556   55.75575576   55.95595596\n",
            "   56.15615616   56.35635636   56.55655656   56.75675676   56.95695696\n",
            "   57.15715716   57.35735736   57.55755756   57.75775776   57.95795796\n",
            "   58.15815816   58.35835836   58.55855856   58.75875876   58.95895896\n",
            "   59.15915916   59.35935936   59.55955956   59.75975976   59.95995996\n",
            "   60.16016016   60.36036036   60.56056056   60.76076076   60.96096096\n",
            "   61.16116116   61.36136136   61.56156156   61.76176176   61.96196196\n",
            "   62.16216216   62.36236236   62.56256256   62.76276276   62.96296296\n",
            "   63.16316316   63.36336336   63.56356356   63.76376376   63.96396396\n",
            "   64.16416416   64.36436436   64.56456456   64.76476476   64.96496496\n",
            "   65.16516517   65.36536537   65.56556557   65.76576577   65.96596597\n",
            "   66.16616617   66.36636637   66.56656657   66.76676677   66.96696697\n",
            "   67.16716717   67.36736737   67.56756757   67.76776777   67.96796797\n",
            "   68.16816817   68.36836837   68.56856857   68.76876877   68.96896897\n",
            "   69.16916917   69.36936937   69.56956957   69.76976977   69.96996997\n",
            "   70.17017017   70.37037037   70.57057057   70.77077077   70.97097097\n",
            "   71.17117117   71.37137137   71.57157157   71.77177177   71.97197197\n",
            "   72.17217217   72.37237237   72.57257257   72.77277277   72.97297297\n",
            "   73.17317317   73.37337337   73.57357357   73.77377377   73.97397397\n",
            "   74.17417417   74.37437437   74.57457457   74.77477477   74.97497497\n",
            "   75.17517518   75.37537538   75.57557558   75.77577578   75.97597598\n",
            "   76.17617618   76.37637638   76.57657658   76.77677678   76.97697698\n",
            "   77.17717718   77.37737738   77.57757758   77.77777778   77.97797798\n",
            "   78.17817818   78.37837838   78.57857858   78.77877878   78.97897898\n",
            "   79.17917918   79.37937938   79.57957958   79.77977978   79.97997998\n",
            "   80.18018018   80.38038038   80.58058058   80.78078078   80.98098098\n",
            "   81.18118118   81.38138138   81.58158158   81.78178178   81.98198198\n",
            "   82.18218218   82.38238238   82.58258258   82.78278278   82.98298298\n",
            "   83.18318318   83.38338338   83.58358358   83.78378378   83.98398398\n",
            "   84.18418418   84.38438438   84.58458458   84.78478478   84.98498498\n",
            "   85.18518519   85.38538539   85.58558559   85.78578579   85.98598599\n",
            "   86.18618619   86.38638639   86.58658659   86.78678679   86.98698699\n",
            "   87.18718719   87.38738739   87.58758759   87.78778779   87.98798799\n",
            "   88.18818819   88.38838839   88.58858859   88.78878879   88.98898899\n",
            "   89.18918919   89.38938939   89.58958959   89.78978979   89.98998999\n",
            "   90.19019019   90.39039039   90.59059059   90.79079079   90.99099099\n",
            "   91.19119119   91.39139139   91.59159159   91.79179179   91.99199199\n",
            "   92.19219219   92.39239239   92.59259259   92.79279279   92.99299299\n",
            "   93.19319319   93.39339339   93.59359359   93.79379379   93.99399399\n",
            "   94.19419419   94.39439439   94.59459459   94.79479479   94.99499499\n",
            "   95.1951952    95.3953954    95.5955956    95.7957958    95.995996\n",
            "   96.1961962    96.3963964    96.5965966    96.7967968    96.996997\n",
            "   97.1971972    97.3973974    97.5975976    97.7977978    97.997998\n",
            "   98.1981982    98.3983984    98.5985986    98.7987988    98.998999\n",
            "   99.1991992    99.3993994    99.5995996    99.7997998   100.        ]\n"
          ]
        }
      ],
      "source": [
        "# Generamos vectores que barran todo el dominio\n",
        "x = np.linspace(-100, 100, 1000)\n",
        "y = np.linspace(-100, 100, 1000)\n",
        "print('x= ', x)\n",
        "print('y= ', y)"
      ]
    },
    {
      "cell_type": "markdown",
      "id": "91c6b59e-7c03-4a8c-8c75-aecaa2b3fe02",
      "metadata": {
        "id": "91c6b59e-7c03-4a8c-8c75-aecaa2b3fe02"
      },
      "source": [
        "[numpy.meshgrid](https://numpy.org/doc/stable/reference/generated/numpy.meshgrid.html)\n",
        "\n",
        "[numpy.ravel](https://numpy.org/doc/stable/reference/generated/numpy.ravel.html)\n",
        "\n",
        "[numpy.c_](https://numpy.org/doc/stable/reference/generated/numpy.c_.html)"
      ]
    },
    {
      "cell_type": "code",
      "execution_count": null,
      "id": "1d60d267-bce7-40d4-b689-4826bd8a69b1",
      "metadata": {
        "id": "1d60d267-bce7-40d4-b689-4826bd8a69b1"
      },
      "outputs": [],
      "source": [
        "# Evaluamos todos los valores de las variables\n",
        "x_ax, y_ax = np.meshgrid(x, y)\n",
        "vals = np.c_[x_ax.ravel(), y_ax.ravel()]\n",
        "fx = np.reshape([funcion_prueba(val) for val in vals],(1000, 1000))"
      ]
    },
    {
      "cell_type": "markdown",
      "id": "c21c36a7-9eb8-4965-b9a7-418888faec93",
      "metadata": {
        "id": "c21c36a7-9eb8-4965-b9a7-418888faec93"
      },
      "source": [
        "[matplotlib.pyplot.gca](https://matplotlib.org/3.1.1/api/_as_gen/matplotlib.pyplot.gca.html)"
      ]
    },
    {
      "cell_type": "code",
      "execution_count": null,
      "id": "1367e8c7-e4af-47f7-93a6-55bfe0cdae0d",
      "metadata": {
        "colab": {
          "base_uri": "https://localhost:8080/",
          "height": 653
        },
        "id": "1367e8c7-e4af-47f7-93a6-55bfe0cdae0d",
        "outputId": "9f44b6f2-2b3d-4e8a-db0e-5c3f861398bf"
      },
      "outputs": [
        {
          "output_type": "execute_result",
          "data": {
            "text/plain": [
              "Text(0.5, 0, 'f(x,y)')"
            ]
          },
          "metadata": {},
          "execution_count": 14
        },
        {
          "output_type": "display_data",
          "data": {
            "text/plain": [
              "<Figure size 800x600 with 1 Axes>"
            ],
            "image/png": "[encoded data removed]"
          },
          "metadata": {}
        }
      ],
      "source": [
        "# Representamos los resultados obtenidos\n",
        "figure_3d = plt.figure(figsize=(8,6))\n",
        "# ax = figure_3d.gca(projection=\"3d\")\n",
        "ax = figure_3d.add_axes(Axes3D(figure_3d))\n",
        "ax.plot_surface(x_ax, y_ax, fx, cmap=cm.coolwarm)\n",
        "ax.set_xlabel(\"x\")\n",
        "ax.set_ylabel(\"y\")\n",
        "ax.set_zlabel(\"f(x,y)\")"
      ]
    },
    {
      "cell_type": "markdown",
      "id": "aa806895-1d2f-4bda-86b4-d9ba8597f974",
      "metadata": {
        "id": "aa806895-1d2f-4bda-86b4-d9ba8597f974"
      },
      "source": [
        "#### ------------------------------------------------------------------"
      ]
    },
    {
      "cell_type": "markdown",
      "id": "d5e912ba-6bd6-4a1c-9bc2-442628178da2",
      "metadata": {
        "id": "d5e912ba-6bd6-4a1c-9bc2-442628178da2"
      },
      "source": [
        "A partir de ahora veremos los siguientes pasos:\n",
        "1. Definición del problema y generación de la población inicial\n",
        "- 1.1 Creación del problema\n",
        "- 1.2 Creación de la plantilla del individuo\n",
        "- 1.3 Crear individuos aleatorios y población inicial\n",
        "2. Función objetivo y operadores genéticos\n",
        "- 2.1 Función objetivo\n",
        "3. Incorporación de los operadores genéticos\n",
        "4. Últimos pasos: Algortimo Genético como caja negra\n",
        "- 4.1 Configuración algoritmo genético\n",
        "- 4.2 Resultados del algoritmo genético\n",
        "5. ¿Cómo conseguir resultados consistentes?\n",
        "6. Convergencia del algoritmo\n",
        "7. Para seguir aprendiendo"
      ]
    },
    {
      "cell_type": "markdown",
      "id": "4c56cea9-ef48-4084-a79c-e25d45222fc6",
      "metadata": {
        "id": "4c56cea9-ef48-4084-a79c-e25d45222fc6"
      },
      "source": [
        "#### 1. Definición del problema y generación de la población inicial"
      ]
    },
    {
      "cell_type": "markdown",
      "id": "987a1efc-5216-411b-a826-242fd96be59e",
      "metadata": {
        "id": "987a1efc-5216-411b-a826-242fd96be59e"
      },
      "source": [
        "Se importan las librerías necesarias"
      ]
    },
    {
      "cell_type": "code",
      "execution_count": null,
      "id": "bd25ac80-6bbd-401b-95dc-de908108df29",
      "metadata": {
        "id": "bd25ac80-6bbd-401b-95dc-de908108df29"
      },
      "outputs": [],
      "source": [
        "import random\n",
        "from deap import base\n",
        "from deap import creator\n",
        "from deap import tools"
      ]
    },
    {
      "cell_type": "markdown",
      "id": "65cf7f7d-95bd-4bfe-bdd0-8a21c8034295",
      "metadata": {
        "id": "65cf7f7d-95bd-4bfe-bdd0-8a21c8034295"
      },
      "source": [
        "##### 1.1 Creación del problema ---------------------------------------------"
      ]
    },
    {
      "cell_type": "markdown",
      "id": "8c02cb79-d0a6-4a00-8193-5b36a536ca86",
      "metadata": {
        "id": "8c02cb79-d0a6-4a00-8193-5b36a536ca86"
      },
      "source": [
        "Creamos los objetos para **definir el tipo de problema de optimización** (maximizar o minimizar), con el método `create` de la clase `creator`. Crea una nueva clase llamada `name=FitnessMax` (podría ser otro), que hereda de `base=base.Fitness` y que tiene un atributo llamado `attribute=weights` que se añadirá a la clase cuando esta se cree (opcional) y que determina el tipo de problema de optimización que estamos definiendo (contiene una tupla con tantas componentes como objetivos tenga el problema y con un valor que indica si es maximización o minimización). En nuestro caso, un solo objetivo y maximización (porque 1.0 es positivo). El objeto `base.Fitness` contiene los atributos encargados de almacenar el **fitness** o desempeño de un individuo y otros [atributos de base.Fitness](https://deap.readthedocs.io/en/master/api/base.html#deap.base.Fitness), que los heredará nuestra nueva clase `FitnessMax`:\n",
        "* `values`: Una tupla con los valores de **fitness** de cada uno de los objetivos de nuestro problema. Contiene, por tanto, la calidad de cada individuo en cada uno de los objetivos de nuestro problema\n",
        "* `dominates`: Devuelve `True` si una solución es estrictamente peor que otra (tiene sentido en AGs de varios objetivos)\n",
        "* `valid`: Indica si el **fitness** de un individuo es válido. Se usa para saber el número de individuos que se tienen que evaluar en cada iteración. Si un individuo tiene el atributo `values` vacío, el atributo `valid` será `False`."
      ]
    },
    {
      "cell_type": "code",
      "execution_count": null,
      "id": "38ef88f9-3c39-43fe-b4d1-9d5c2577eb54",
      "metadata": {
        "id": "38ef88f9-3c39-43fe-b4d1-9d5c2577eb54"
      },
      "outputs": [],
      "source": [
        "creator.create(\"FitnessMax\", base.Fitness, weights=(1.0,))"
      ]
    },
    {
      "cell_type": "markdown",
      "id": "6fc96165-7ded-4064-ad61-119bd84aade3",
      "metadata": {
        "id": "6fc96165-7ded-4064-ad61-119bd84aade3"
      },
      "source": [
        "Lo que realmente hemos hecho es:\n",
        "```\n",
        "# Importamos las librerías necesarias\n",
        "from deap import base\n",
        "\n",
        "# Generamos la clase\n",
        "class FitnessMax(base.Fitness):\n",
        "  weights = (1.0,)\n",
        "```"
      ]
    },
    {
      "cell_type": "markdown",
      "id": "1909fa1a-2f5f-4b77-b0f3-a1b7961d0138",
      "metadata": {
        "id": "1909fa1a-2f5f-4b77-b0f3-a1b7961d0138"
      },
      "source": [
        "##### 1.2 Creación de la plantilla del individuo ---------------------------------------------"
      ]
    },
    {
      "cell_type": "markdown",
      "id": "3793b0c2-8558-4fe8-9e28-8c7e99c45f72",
      "metadata": {
        "id": "3793b0c2-8558-4fe8-9e28-8c7e99c45f72"
      },
      "source": [
        "Creamos el **tipo de individuo** (el tipo de objeto de Python o plantilla que va a contener el individuo (lista, vector, etc)\n",
        "y sus atributos. Creamos la clase `Individual` que hereda de la clase `list` [listas en Python](https://docs.python.org/3/tutorial/datastructures.html) y que contiene el atributo `fitness` inicializado con el objeto `FitnessMax`: Un individuo es una lista con un atributo que almacenará la calidad o desempeño de si mismo"
      ]
    },
    {
      "cell_type": "code",
      "execution_count": null,
      "id": "7e882ca7-5af8-4553-8c6a-0bf672951b58",
      "metadata": {
        "id": "7e882ca7-5af8-4553-8c6a-0bf672951b58"
      },
      "outputs": [],
      "source": [
        "creator.create(\"Individual\", list, fitness=creator.FitnessMax)"
      ]
    },
    {
      "cell_type": "markdown",
      "id": "76b4225c-5f6b-4b4f-86b3-6f7c7d70bcbc",
      "metadata": {
        "id": "76b4225c-5f6b-4b4f-86b3-6f7c7d70bcbc"
      },
      "source": [
        "Lo que realmente hemos hecho hasta ahora:\n",
        "```\n",
        "# Importamos las librerías necesarias\n",
        "from deap import base\n",
        "\n",
        "# Generamos la clase\n",
        "class MaxFitness(base.Fitness):\n",
        "  weights = (1.0,)\n",
        "\n",
        "# Generamos la clase Individual\n",
        "class Individual(list)\n",
        "  fitness = MaxFitness\n",
        "```"
      ]
    },
    {
      "cell_type": "markdown",
      "id": "289228de-76d9-430d-b482-55c7aa774f97",
      "metadata": {
        "id": "289228de-76d9-430d-b482-55c7aa774f97"
      },
      "source": [
        "##### 1.3 Crear individuos aleatorios y población inicial ---------------------------------------------"
      ]
    },
    {
      "cell_type": "markdown",
      "id": "874ae073-c5d9-4d32-8505-9434d086d41b",
      "metadata": {
        "id": "874ae073-c5d9-4d32-8505-9434d086d41b"
      },
      "source": [
        "Definición del **objeto caja de herramientas** o `Toolbox` [Toolbox](https://deap.readthedocs.io/en/master/api/base.html#toolbox) que contendrá, mediante\n",
        "**registro**, un conjunto de funciones utilizadas por el algoritmo durante\n",
        "su ejecución, como suelen ser:\n",
        "* Función para **crear los individuos** de forma **aleatoria**\n",
        "* Función para **crear la población**\n",
        "* **Operadores genéticos** (selección, cruce y mutación)\n",
        "* Función **objetivo**"
      ]
    },
    {
      "cell_type": "code",
      "execution_count": null,
      "id": "76782a39-c72a-4445-8336-411c1200fca5",
      "metadata": {
        "id": "76782a39-c72a-4445-8336-411c1200fca5"
      },
      "outputs": [],
      "source": [
        "toolbox = base.Toolbox()"
      ]
    },
    {
      "cell_type": "markdown",
      "id": "766597f4-1a91-4fc5-9db2-4e0bc1730aaf",
      "metadata": {
        "id": "766597f4-1a91-4fc5-9db2-4e0bc1730aaf"
      },
      "source": [
        "En el `Toolbox` registraremos funciones necesarias para ejecutar el AG, a través del método `register` de la clase `base.Toolbox` que tiene los atributos:\n",
        "* `alias`: El nombre con el que registramos la función en el `Toolbox`\n",
        "* `function`: La función que estamos registrando\n",
        "* `argument`: Los argumentos que se pasan a la función"
      ]
    },
    {
      "cell_type": "markdown",
      "id": "3ff0e013-fe58-4503-873c-7d49fbcf8196",
      "metadata": {
        "id": "3ff0e013-fe58-4503-873c-7d49fbcf8196"
      },
      "source": [
        "Registramos la función `attr_uniform` (Que será un método de la clase `toolbox`) que permite **crear individuos aleatorios** desarrollando una función (usaremos `random.uniform`) que nos permita generar un valor aleatorio para cada variable independiente (cada gen del comosoma), esto es, cada una de las posiciones de la lista con valores sujetos a las restricciones de nuestro problema (-100, 100)"
      ]
    },
    {
      "cell_type": "code",
      "execution_count": null,
      "id": "abd798bf-ebba-4e4e-91d7-dde072730f05",
      "metadata": {
        "id": "abd798bf-ebba-4e4e-91d7-dde072730f05"
      },
      "outputs": [],
      "source": [
        "# Generación de genes\n",
        "toolbox.register(\"attr_uniform\", random.uniform, -100, 100)"
      ]
    },
    {
      "cell_type": "code",
      "execution_count": null,
      "id": "67bf9c28-bf5f-4e4f-b5e7-9758a3b1b359",
      "metadata": {
        "colab": {
          "base_uri": "https://localhost:8080/"
        },
        "id": "67bf9c28-bf5f-4e4f-b5e7-9758a3b1b359",
        "outputId": "8b7deb51-1bd2-4e2b-fbb0-602f9233b21b"
      },
      "outputs": [
        {
          "output_type": "execute_result",
          "data": {
            "text/plain": [
              "-3.4457831016937632"
            ]
          },
          "metadata": {},
          "execution_count": 81
        }
      ],
      "source": [
        "# Probamos y vemos que generamos un número leatorio entre -100 y 100 distinto cada vez\n",
        "toolbox.attr_uniform()"
      ]
    },
    {
      "cell_type": "markdown",
      "id": "8330bf67-3bfe-4be1-af0e-f3a48e17db43",
      "metadata": {
        "id": "8330bf67-3bfe-4be1-af0e-f3a48e17db43"
      },
      "source": [
        "Si se quiere detalle de como hace esto Python, investigar el método `partial` del módulo nativo `functools`: [functools](https://docs.python.org/3/library/functools.html)"
      ]
    },
    {
      "cell_type": "markdown",
      "id": "aef27d6f-c86e-40be-af18-734134431527",
      "metadata": {
        "id": "aef27d6f-c86e-40be-af18-734134431527"
      },
      "source": [
        "Lo que realmente hemos hecho hasta ahora:\n",
        "```\n",
        "# Importamos las librerías necesarias\n",
        "import random\n",
        "\n",
        "# Definimos la función correspondiente\n",
        "def funcion(a=-100, b=100):\n",
        "  return random.uniform(a,b)\n",
        "\n",
        "# Definimos la clase\n",
        "class Toolbox(object)\n",
        "  attr_uniform = function\n",
        "```"
      ]
    },
    {
      "cell_type": "markdown",
      "id": "035176f8-5020-4c52-ad7e-665f22f442ba",
      "metadata": {
        "id": "035176f8-5020-4c52-ad7e-665f22f442ba"
      },
      "source": [
        "Creamos el individuo completo llamando a la función que genera cada uno de los individuos tantas veces como variables independientes tengamos. Eso lo hacemos registrando la función `individual` que, a su vez, llama a la función `tools.initRepeat` que tiene los siguientes parámetros:\n",
        "* `container`: Tipo de dato donde se almacenará el resultado del argumento `func` -> En nuestro caso, la clase `creator.individual` creada anteriormente\n",
        "* `func`: Función a la que se llamará `n` veces -> En nuestro caso `toolbox.attr_uniform` creada anteriormente para crear cada gen\n",
        "* `n`: Número de veces que se llamará a la función `func`-> En nuestro caso 2 cromosomas a crear\n"
      ]
    },
    {
      "cell_type": "code",
      "execution_count": null,
      "id": "9962beb1-0764-4915-850d-835d7bf81de0",
      "metadata": {
        "id": "9962beb1-0764-4915-850d-835d7bf81de0"
      },
      "outputs": [],
      "source": [
        "# Generación de inviduos\n",
        "toolbox.register(\"individual\", tools.initRepeat, creator.Individual,\n",
        "                 toolbox.attr_uniform, 2)"
      ]
    },
    {
      "cell_type": "code",
      "execution_count": null,
      "id": "9676786f-6d1b-4c54-bd3c-3a67089b881b",
      "metadata": {
        "colab": {
          "base_uri": "https://localhost:8080/"
        },
        "id": "9676786f-6d1b-4c54-bd3c-3a67089b881b",
        "outputId": "a4dc375e-c1fd-42a2-ff3e-7b32ff4bb2d9"
      },
      "outputs": [
        {
          "output_type": "execute_result",
          "data": {
            "text/plain": [
              "[-40.91355589631882, 84.10950893421153]"
            ]
          },
          "metadata": {},
          "execution_count": 82
        }
      ],
      "source": [
        "# Ejemplo de la generación de un individuo aleatorio\n",
        "individuo = toolbox.individual()\n",
        "individuo"
      ]
    },
    {
      "cell_type": "code",
      "execution_count": null,
      "id": "d7767615-a113-49ba-9875-f2033a2ba0e5",
      "metadata": {
        "colab": {
          "base_uri": "https://localhost:8080/"
        },
        "id": "d7767615-a113-49ba-9875-f2033a2ba0e5",
        "outputId": "a8d324ae-9c25-4ded-f55c-bd953d401d39"
      },
      "outputs": [
        {
          "output_type": "execute_result",
          "data": {
            "text/plain": [
              "()"
            ]
          },
          "metadata": {},
          "execution_count": 83
        }
      ],
      "source": [
        "# Recordar que individuo es una lista que tiene un atributo fitness\n",
        "# donde se almacena la calidad del mismo, que al principio será\n",
        "# vacío, porque aun no ha sido evaluado\n",
        "individuo.fitness.values"
      ]
    },
    {
      "cell_type": "markdown",
      "id": "5a8e93e0-c632-4e9e-a3ee-a9e6b466859d",
      "metadata": {
        "id": "5a8e93e0-c632-4e9e-a3ee-a9e6b466859d"
      },
      "source": [
        "El procedimiento para **crear una población** es análogo a la creación de un individuo:"
      ]
    },
    {
      "cell_type": "code",
      "execution_count": null,
      "id": "c4b95bf0-6821-4f2d-9bbe-e1f969d6adab",
      "metadata": {
        "id": "c4b95bf0-6821-4f2d-9bbe-e1f969d6adab"
      },
      "outputs": [],
      "source": [
        "# Generación de población\n",
        "toolbox.register(\"population\", tools.initRepeat, list,\n",
        "                 toolbox.individual, 32)"
      ]
    },
    {
      "cell_type": "markdown",
      "id": "de989e72-9240-49f8-9566-22de3f44c7bc",
      "metadata": {
        "id": "de989e72-9240-49f8-9566-22de3f44c7bc"
      },
      "source": [
        " Como se puede ver, se registra la función `population` que utiliza `initRepeat` para llamar 32 veces a la función `Individual` (una vez por cad individuo que formará la población inicial). El resultado se guarda en una `list` que contiene la población inicial generada. Se recomienda elegir números **divisibles entre 4**, ya que algunas operaciones genéticas del módulo `deap` pueden dar problemas si no se cumple este requisito"
      ]
    },
    {
      "cell_type": "code",
      "execution_count": null,
      "id": "0de3dcdc-e574-465e-bbf9-12cc9048e555",
      "metadata": {
        "colab": {
          "base_uri": "https://localhost:8080/"
        },
        "id": "0de3dcdc-e574-465e-bbf9-12cc9048e555",
        "outputId": "06916127-a9aa-45a3-9c66-fc1e8d4c9d5c"
      },
      "outputs": [
        {
          "output_type": "stream",
          "name": "stdout",
          "text": [
            "[[36.79678638308826, -5.571456909457325], [-79.85975838632683, -13.165632909243257], [22.177394688760316, 82.60221064757965], [93.32127355415176, -4.5980446894566], [73.061985554328, -47.90153792160812], [61.005565402604475, 9.739860767117861], [-97.19165996719622, 43.94093728079082], [-20.235291555146247, 64.96899542964661], [33.63064024637018, -99.77143613711435], [-1.284426706935065, 73.52055509855617], [-51.2178246225736, -34.95912745052199], [74.09424642173093, -61.78658169952189], [13.50214812413438, -52.27681427695596], [93.50805005802866, 60.63589385597402], [-10.406085712885925, -83.91083628949292], [-35.98907906549084, 1.5881285041147777], [86.56676484538136, -78.18843081377926], [10.253449218110248, 41.312281973377935], [9.488182265684756, 62.8933726582672], [8.056721394064795, 92.76770919476019], [20.63712559227659, 17.52341283508727], [-11.00219474489677, 19.257372316621257], [-23.019770805467914, 15.130202832977702], [-41.934099519448395, -62.121734289128774], [-62.654094348888975, 22.554635973721332], [31.331877797925756, -4.693801598123855], [-82.03512776088127, 51.52078439328736], [75.35407416455496, 84.67620318925611], [68.4920446280365, 79.6346242715758], [84.61648796403537, 8.119984989610884], [-21.740789953075023, 41.05667997088125], [-44.87317573757457, 62.32574170157571]]\n"
          ]
        }
      ],
      "source": [
        "# Ejemplo de creación de una población. Se ve que es\n",
        "# una lista de 32 listas (una por cada individuo)\n",
        "poblacion = toolbox.population()\n",
        "print(poblacion)"
      ]
    },
    {
      "cell_type": "code",
      "execution_count": null,
      "id": "fac45b51-d1ef-4c60-b4e7-926812999925",
      "metadata": {
        "colab": {
          "base_uri": "https://localhost:8080/"
        },
        "id": "fac45b51-d1ef-4c60-b4e7-926812999925",
        "outputId": "62a9d2d7-f8c1-4b23-a04a-f2dedcfdcc9f"
      },
      "outputs": [
        {
          "output_type": "execute_result",
          "data": {
            "text/plain": [
              "[36.79678638308826, -5.571456909457325]"
            ]
          },
          "metadata": {},
          "execution_count": 26
        }
      ],
      "source": [
        "# Cada individuo tiene 2 componentes\n",
        "poblacion[0]"
      ]
    },
    {
      "cell_type": "code",
      "execution_count": null,
      "id": "8c89e0f0-ae16-4372-aa5e-4b69861a2362",
      "metadata": {
        "colab": {
          "base_uri": "https://localhost:8080/"
        },
        "id": "8c89e0f0-ae16-4372-aa5e-4b69861a2362",
        "outputId": "5029c26f-b45b-403b-b95d-218c7cf5ed50"
      },
      "outputs": [
        {
          "output_type": "execute_result",
          "data": {
            "text/plain": [
              "()"
            ]
          },
          "metadata": {},
          "execution_count": 27
        }
      ],
      "source": [
        "poblacion[0].fitness.values"
      ]
    },
    {
      "cell_type": "markdown",
      "id": "7d6f0c8b-5e45-4026-848a-fac81d279f59",
      "metadata": {
        "id": "7d6f0c8b-5e45-4026-848a-fac81d279f59"
      },
      "source": [
        "Respecto al **tamaño de la población**, en este caso, el criterio que seguiremos es que, como mínimo, sea de **un orden de magnitud** superior al **número de variables independientes** y como máximo 2 * ese orden de magnitud. En nuestro caso, hay dos variables independientes (población entre 20 y 40 individuos)"
      ]
    },
    {
      "cell_type": "markdown",
      "id": "a7aa302f-a7f1-413e-9d7e-d56947300264",
      "metadata": {
        "id": "a7aa302f-a7f1-413e-9d7e-d56947300264"
      },
      "source": [
        "#### 2. Función objetivo y operadores genéticos"
      ]
    },
    {
      "cell_type": "markdown",
      "id": "7678a949-a4d8-46c4-916b-3fc36876a626",
      "metadata": {
        "id": "7678a949-a4d8-46c4-916b-3fc36876a626"
      },
      "source": [
        "Ahora crearemos nuestra **función objetivo** y la **registraremos** en nuestro `Toolbox`"
      ]
    },
    {
      "cell_type": "markdown",
      "id": "3ca40492-84cb-4d6a-a231-c33da7eceff3",
      "metadata": {
        "id": "3ca40492-84cb-4d6a-a231-c33da7eceff3"
      },
      "source": [
        "##### 2.1 Función Objetivo ---------------------------------------------"
      ]
    },
    {
      "cell_type": "markdown",
      "id": "eed9e187-fda1-4c12-bc2b-d6f6d45138df",
      "metadata": {
        "id": "eed9e187-fda1-4c12-bc2b-d6f6d45138df"
      },
      "source": [
        "Dividimos funciones objetivo en:\n",
        "* F.O. codificadas en Python: [math](https://docs.python.org/3.6/library/math.html) o [scipy](https://docs.scipy.org/doc/scipy) (en nuestro ejemplo lo haremos así)\n",
        "* F.O. que llaman a un programa externo para obtener el desempeño del individuo, para modelo muy complejos: [módulo nativo os](https://docs.python.org/3/library/os.html) o [módulo subproccess](https://docs.python.org/3.6/library/subprocess.html) (no lo usaremos en nuestro ejemplo)\n"
      ]
    },
    {
      "cell_type": "code",
      "execution_count": null,
      "id": "23c9f31f-3a4c-4831-aa36-ab80ee46a4e3",
      "metadata": {
        "id": "23c9f31f-3a4c-4831-aa36-ab80ee46a4e3"
      },
      "outputs": [],
      "source": [
        "# def funcion_objetivo(x):\n",
        "#     \"\"\"\n",
        "#     Función objetivo de nuestro problema\n",
        "#     \"\"\"\n",
        "#     for i in range(len(x)):\n",
        "#         if x[i] > 100 or x[i] < -100:\n",
        "#             return -1,\n",
        "#     res = math.sqrt(x[0]**2 + x[1]**2)\n",
        "#     return res,\n",
        "\n",
        "def funcion_objetivo(x):\n",
        "    \"\"\"\n",
        "    Función objetivo de nuestro problema\n",
        "    \"\"\"\n",
        "    # x es x[0] e y es x[1]\n",
        "    for i in range(len(x)):\n",
        "        if x[i] > 100 or x[i] < -100:\n",
        "            return -1,\n",
        "    res = 3*(1-x[0])**2*math.exp(-(x[0]**2)-(x[1]+1)**2)-10*(x[0]/5-x[0]**3-x[1]**5)*math.exp(-x[0]**2-x[1]**2)-(1/3)*math.exp(-(x[0]+1)**2-x[1]**2)\n",
        "    return res,"
      ]
    },
    {
      "cell_type": "markdown",
      "id": "8985c3a6-5566-4aa6-8a1a-fcb65311f7f3",
      "metadata": {
        "id": "8985c3a6-5566-4aa6-8a1a-fcb65311f7f3"
      },
      "source": [
        "Si una solución **no cumple las restricciones** (una de las dos variables independientestoma valores fuera del dominio de la función) debe ser **descartada** (devolvemos -1). A esto se le llama **aplicar la pena de muerte**.\n",
        "\n",
        "Al tratarse de una función de **maximización** las soluciones válidas solo aportarán valores de la función objetivo **positivas** y, por lo tanto, un -1 **penaliza totalmente el resultado**. La **pena de muerte** hace que **un individuo no participe en las operaciones de cruce y mutación** y, por lo tanto, **sus genes no se utilizarán para generar las siguientes generaciones**"
      ]
    },
    {
      "cell_type": "markdown",
      "id": "bd68d93e-9d0f-4b3c-9985-5d86794da64e",
      "metadata": {
        "id": "bd68d93e-9d0f-4b3c-9985-5d86794da64e"
      },
      "source": [
        "Ahora, **registramos la función de fitness**"
      ]
    },
    {
      "cell_type": "code",
      "execution_count": null,
      "id": "552daa96-2941-4961-93a0-ddce4402643d",
      "metadata": {
        "id": "552daa96-2941-4961-93a0-ddce4402643d"
      },
      "outputs": [],
      "source": [
        "toolbox.register(\"evaluate\", funcion_objetivo)"
      ]
    },
    {
      "cell_type": "code",
      "execution_count": null,
      "id": "c54ddcce-582d-4f08-8cf3-2d72ffb8091c",
      "metadata": {
        "colab": {
          "base_uri": "https://localhost:8080/"
        },
        "id": "c54ddcce-582d-4f08-8cf3-2d72ffb8091c",
        "outputId": "b65d06a4-0440-4745-98fb-938df9d02b5b"
      },
      "outputs": [
        {
          "output_type": "execute_result",
          "data": {
            "text/plain": [
              "(0.0,)"
            ]
          },
          "metadata": {},
          "execution_count": 86
        }
      ],
      "source": [
        "# Ejemplo de uso 1\n",
        "funcion_objetivo(individuo)"
      ]
    },
    {
      "cell_type": "code",
      "execution_count": null,
      "id": "149a0416-d8cc-49ac-813c-a7bfa88ec283",
      "metadata": {
        "colab": {
          "base_uri": "https://localhost:8080/"
        },
        "id": "149a0416-d8cc-49ac-813c-a7bfa88ec283",
        "outputId": "e913077b-cd05-41f5-93b0-69cfffb23a93"
      },
      "outputs": [
        {
          "output_type": "execute_result",
          "data": {
            "text/plain": [
              "(0.0,)"
            ]
          },
          "metadata": {},
          "execution_count": 87
        }
      ],
      "source": [
        "# Ejemplo de uso 2\n",
        "toolbox.evaluate(individuo)"
      ]
    },
    {
      "cell_type": "markdown",
      "id": "d44e3a30-5fef-44a1-9708-390385454f5a",
      "metadata": {
        "id": "d44e3a30-5fef-44a1-9708-390385454f5a"
      },
      "source": [
        "No olvidar que la **función fitness devuelve una tupla** ya que la solución es generalista para un problema genérico **multiobjetivo**, aunque en nuestro caso solo sea uno"
      ]
    },
    {
      "cell_type": "markdown",
      "id": "81794642-cb29-43c4-87de-ba16e8d6d5f7",
      "metadata": {
        "id": "81794642-cb29-43c4-87de-ba16e8d6d5f7"
      },
      "source": [
        "**IMPORTANTE!!:** Sed conscientes de la relevancia de **codificar de manera eficiente la función objetivo**. Se ejecutará un gran número de veces y cualquier ahorro de tiempo cuenta. **Evitar bucles** o **condiciones que puedan dejar colgado el algoritmo** (siempre que se pueda)"
      ]
    },
    {
      "cell_type": "markdown",
      "id": "06fe488b-41de-4fdf-ab26-e68cc0357e25",
      "metadata": {
        "id": "06fe488b-41de-4fdf-ab26-e68cc0357e25"
      },
      "source": [
        "#### 3. Incorporar los operadores genéticos"
      ]
    },
    {
      "cell_type": "markdown",
      "id": "c3a2610b-dfbc-48a5-8a27-f03e098aa059",
      "metadata": {
        "id": "c3a2610b-dfbc-48a5-8a27-f03e098aa059"
      },
      "source": [
        "* **Selección**:`selection`. Procedimiento por el cual se seleccionan los individuos que participarán en las operaciones de cruce y mutación. Procedimiento siempre **elitista**: Un individuo tendrá mayor probabilidad de dejar descendencia si su `fitness` es más adecuado al problema de optimización (razonamiento en línea con la teoría evolutiva de Darwin) -> Las probabilidades de dejar descendencia en las futuras generaciones crecen cuando crece la adaptación del individuo al medio. **OJO CON LOS SUPERINDIVIDUOS**\n",
        "* **Cruce**: `mate`. Operación probabilística que permite que dos individuos seleccionados **crucen** o **intercambien** su información genética para crear dos nuevos individuos\n",
        "* **Mutación**: `mutation`. Operación probabilística que permite que un individuo seleccionado **modifique** su información genética para crear un nuevo individuo.\n",
        "\n",
        "Ni para la probabilidad de cruce ni para la de mutación existen valores óptimos que sirva para todos los problemas. Tendrán que ajustarse a cada problema.\n",
        "\n",
        "Destacar que tanto el **cruce** como la **mutación** son el **motor para explorar y explotar zonas del espacio de búsqueda**."
      ]
    },
    {
      "cell_type": "markdown",
      "id": "36b814fd-dcc5-42bb-8646-5b0eb230e207",
      "metadata": {
        "id": "36b814fd-dcc5-42bb-8646-5b0eb230e207"
      },
      "source": [
        "![AGs.png](attachment:45d31de3-d523-4ad0-9e71-d264fd22a4b7.png)"
      ]
    },
    {
      "cell_type": "markdown",
      "id": "b8918b37-1825-49b0-8292-520b000d218f",
      "metadata": {
        "id": "b8918b37-1825-49b0-8292-520b000d218f"
      },
      "source": [
        "La librería `deap` tiene **gran variedad de algoritmos** de **selección**, **mutación** y **cruce**, aunque también nosotros nos podemos crear nuestros propios algoritmos (no lo haremos). La aplicación de cada una de ellas dependerá del problema en cuestión. Para ver cual es la más adecuada para cada caso, consultar [Algoritmos de selección, mutación y cruce de deap](https://deap.readthedocs.io/en/master/api/tools.html?highlight=tools) (algunos sirven cuando se usan variables continuas, otras cuando se usan variables discretas, etc)"
      ]
    },
    {
      "cell_type": "markdown",
      "id": "d3162c7f-e3f7-4a29-b1e6-ebe00ad9602f",
      "metadata": {
        "id": "d3162c7f-e3f7-4a29-b1e6-ebe00ad9602f"
      },
      "source": [
        "![Algoritmos Deap.png](attachment:f85b133f-b0c1-4fff-bd9c-5c8f1b55ff6f.png)"
      ]
    },
    {
      "cell_type": "markdown",
      "id": "a8bf1725-9f72-4e3c-8c9c-58db1933493a",
      "metadata": {
        "id": "a8bf1725-9f72-4e3c-8c9c-58db1933493a"
      },
      "source": [
        "**CRUCE** ---------------------------------------------"
      ]
    },
    {
      "cell_type": "code",
      "execution_count": null,
      "id": "7f156d3f-8248-4842-ab9a-0aea82a9585e",
      "metadata": {
        "id": "7f156d3f-8248-4842-ab9a-0aea82a9585e"
      },
      "outputs": [],
      "source": [
        "# Registro de operacion genética de cruce\n",
        "toolbox.register(\"mate\", tools.cxOnePoint)"
      ]
    },
    {
      "cell_type": "markdown",
      "id": "87309448-24f8-4ba7-be55-64560df9b8ef",
      "metadata": {
        "id": "87309448-24f8-4ba7-be55-64560df9b8ef"
      },
      "source": [
        "Utilizamos `cxOnePoint(ind1, ind2)` o cruce en un punto que ya conocéis [cxOnePoint](https://deap.readthedocs.io/en/master/api/tools.html#deap.tools.cxOnePoint), selecciona de manera aleatoria un punto (una posición) dentro de los individuos **ind1**, **ind2** para hacer un intercambio entre la información genética de dos individuos (padres) seleccionados"
      ]
    },
    {
      "cell_type": "markdown",
      "id": "65b45e7e-55fa-49b4-825c-3f4165fe4551",
      "metadata": {
        "id": "65b45e7e-55fa-49b4-825c-3f4165fe4551"
      },
      "source": [
        "![Cruce.png](attachment:5ef0b9e3-69c3-4286-b7d6-6b4d88ad6624.png)"
      ]
    },
    {
      "cell_type": "markdown",
      "id": "60e0045d-db6e-4ef0-ab29-955d2343b517",
      "metadata": {
        "id": "60e0045d-db6e-4ef0-ab29-955d2343b517"
      },
      "source": [
        "En este caso, al ser la longitud de los individuos 2, solo existe un posible punto de cruce (el cruce será simplemente intercambiar los valores de x e y)"
      ]
    },
    {
      "cell_type": "markdown",
      "id": "2c00b9e3-9a8d-44c6-90f8-f365b4530002",
      "metadata": {
        "id": "2c00b9e3-9a8d-44c6-90f8-f365b4530002"
      },
      "source": [
        "**MUTACIÓN** ---------------------------------------------\n",
        "\n",
        "Utilizamos el operador `mutGaussian` (mutación Gaussiana) con una media de 0 y una deviación típica de 5 (son solo de ejemplo y no garantizan ser los más adecuados. Posiblemente habrá que probar valores distintos)"
      ]
    },
    {
      "cell_type": "code",
      "execution_count": null,
      "id": "52f3f096-a0f6-4d21-bcfb-debbfea4e65e",
      "metadata": {
        "id": "52f3f096-a0f6-4d21-bcfb-debbfea4e65e"
      },
      "outputs": [],
      "source": [
        "toolbox.register(\"mutate\", tools.mutGaussian, mu=0,\n",
        "                 sigma= 5, indpb=0.1)"
      ]
    },
    {
      "cell_type": "markdown",
      "id": "5e1aca47-8f4c-4bfc-8716-beda31ad7668",
      "metadata": {
        "id": "5e1aca47-8f4c-4bfc-8716-beda31ad7668"
      },
      "source": [
        "`MutGaussian(individual, mu, sigma, indpb)` [MutGaussian](https://deap.readthedocs.io/en/master/api/tools.html#deap.tools.mutGaussian) consiste en mutar, con una probabilidad `indpb` cada uno de los genes del individuo `individual`, sumando a cada uno de ellos una cierta cantidad aleatoria. Esta cantidad se genera según una función de probabilidad Gaussiana (o normal), de media `mu` y desviación típica `sigma`"
      ]
    },
    {
      "cell_type": "markdown",
      "id": "9f8aa07a-7b9e-4390-b0b9-61df385eaebb",
      "metadata": {
        "id": "9f8aa07a-7b9e-4390-b0b9-61df385eaebb"
      },
      "source": [
        "![Gauss.png](attachment:3285c96e-9f38-49c1-a707-c8e8da282c0a.png)"
      ]
    },
    {
      "cell_type": "markdown",
      "id": "ba69989b-8b40-44eb-9653-74dac682d687",
      "metadata": {
        "id": "ba69989b-8b40-44eb-9653-74dac682d687"
      },
      "source": [
        "En el caso de la mutación, se deben definir dos probabilidades:\n",
        "* La probabilidad de mutar un individuo (lo veremos más adelante)\n",
        "* La probabilidad  de mutar cada uno de los genes del individuo (`indpb`)\n",
        "Este último valor, en general, debe ser bajo para que la mutación no modifique en exceso al individuo. Valores muy altos de esta probabilidad pueden hacer que el algoritmo no converja correctamente, o que no se intensifiquen ciertas zonas del espacio de búsqueda."
      ]
    },
    {
      "cell_type": "markdown",
      "id": "fec8d27a-f2a3-4b4a-8539-5b369e46870c",
      "metadata": {
        "id": "fec8d27a-f2a3-4b4a-8539-5b369e46870c"
      },
      "source": [
        "**SELECCIÓN** ---------------------------------------------"
      ]
    },
    {
      "cell_type": "code",
      "execution_count": null,
      "id": "6e71fdc0-26ae-4a0d-90df-c94620196272",
      "metadata": {
        "id": "6e71fdc0-26ae-4a0d-90df-c94620196272"
      },
      "outputs": [],
      "source": [
        "toolbox.register(\"select\", tools.selTournament, tournsize=3)"
      ]
    },
    {
      "cell_type": "markdown",
      "id": "afd02472-145b-428a-9b87-5641c02d812f",
      "metadata": {
        "id": "afd02472-145b-428a-9b87-5641c02d812f"
      },
      "source": [
        "Hemos usado el operador `selTournament(individuals, k, tournsize)` que nos permite realizar una **selección mediante torneo**. En este caso fijamos un tamaño igual a 3. Se ha demostrado que este tamaño funciona relativamente bien para la mayoría de los casos [Lones 2011](https://cs.gmu.edu/~sean/book/metaheuristics/Essentials.pdf)"
      ]
    },
    {
      "cell_type": "markdown",
      "id": "fa27f6c7-1ec0-42c6-a33f-2d666e90a7fc",
      "metadata": {
        "id": "fa27f6c7-1ec0-42c6-a33f-2d666e90a7fc"
      },
      "source": [
        "`selTournament` funciona de la siguiente forma [Detalle de SelTournament](https://deap.readthedocs.io/en/master/api/tools.html#deap.tools.selTournament):\n",
        "1. Se selecciona de manera aleatoria un número `tournsize` de individuos de la población `individuals`\n",
        "2.  En cada selección existen reemplazos por lo que un individuo puede ser seleccionado varias veces en un mismo torneo\n",
        "3. Los individuos seleccionados compiten entre ellos para ganar el torneo utilizando el desempeño obtenido por cada uno al evaluar la función de `fitness`\n",
        "4. El individuo con mejor desempeño es el que ganará el torneo, y será quien participe en las operaciones genéticas\n",
        "5. Este proceso se repite hasta seleccionar un total de `k` individuos"
      ]
    },
    {
      "cell_type": "markdown",
      "id": "f58405d1-4577-4522-9567-215b579350f4",
      "metadata": {
        "id": "f58405d1-4577-4522-9567-215b579350f4"
      },
      "source": [
        "![tournament.png](attachment:4b618212-6d43-411c-aabf-cb428cf3876d.png)"
      ]
    },
    {
      "cell_type": "markdown",
      "id": "6c339156-3036-4098-8848-59f040fec409",
      "metadata": {
        "id": "6c339156-3036-4098-8848-59f040fec409"
      },
      "source": [
        "El algoritmo realiza **tantos torneos como individuos tiene la población**. Aunque 3 es válido para la mayoría de los casos, cuando la población crece mucho, se deben utilizar **tamaños más altos** para **hacer más rápida la convergencia** del algoritmo. La **selección con torneo** es **muy elitista** y hace que el algoritmo converja más rapidamente que, por ejemplo, con el algoritmo de la ruleta. Las **funciones** se han registrado con `register` con los `alias`: `mate`, `mutate` y `select` que **no deben modificarse** ya que son usados por la función del módulo `algorithms` que implementa el Algortimo Genético. Pasa lo mismo con la función objetivo `evaluate`. **No debe cambiarse el alias**"
      ]
    },
    {
      "cell_type": "markdown",
      "id": "b979849f-fbc3-40dc-a40f-7d09fdeb1fc4",
      "metadata": {
        "id": "b979849f-fbc3-40dc-a40f-7d09fdeb1fc4"
      },
      "source": [
        "#### 4. Últimos pasos: Algoritmo genético como una caja negra"
      ]
    },
    {
      "cell_type": "markdown",
      "id": "6fe73e5c-e42a-4c2d-9871-7b5515a1298d",
      "metadata": {
        "id": "6fe73e5c-e42a-4c2d-9871-7b5515a1298d"
      },
      "source": [
        "Ahora veremos como **configurar el algoritmo genético** y la **representación de los resultados** del algoritmo."
      ]
    },
    {
      "cell_type": "markdown",
      "id": "376050df-c03d-4607-8a38-a11880ca7980",
      "metadata": {
        "id": "376050df-c03d-4607-8a38-a11880ca7980"
      },
      "source": [
        "##### 4.1 Configuración del Algoritmo Genético ---------------------------------------------"
      ]
    },
    {
      "cell_type": "markdown",
      "id": "ee971dcd-ab6a-4e6d-aa8d-e1026a963301",
      "metadata": {
        "id": "ee971dcd-ab6a-4e6d-aa8d-e1026a963301"
      },
      "source": [
        "Definimos la función `main()` que realizará toda la **configuración** del algoritmo"
      ]
    },
    {
      "cell_type": "code",
      "execution_count": null,
      "id": "2ec41bae-097f-439a-a635-6786ae49933b",
      "metadata": {
        "id": "2ec41bae-097f-439a-a635-6786ae49933b"
      },
      "outputs": [],
      "source": [
        "# Definimos la semilla del generador de números aleatorios\n",
        "# Se hace así para tener resultados reproducibles\n",
        "random.seed(42)"
      ]
    },
    {
      "cell_type": "code",
      "execution_count": null,
      "id": "0ecb69df-1053-4b17-b839-c460a363e9c0",
      "metadata": {
        "id": "0ecb69df-1053-4b17-b839-c460a363e9c0"
      },
      "outputs": [],
      "source": [
        "# Definimos:\n",
        "#  CXPB: Probabilidad de Cruce\n",
        "#  MUTPB: Probabilidad de Mutación\n",
        "#  NGEN: Número de Generaciones\n",
        "# Los valores son de prueba para obtener unos resultados preeliminares\n",
        "CXPB, MUTPB, NGEN = 0.5, 0.2, 20"
      ]
    },
    {
      "cell_type": "code",
      "execution_count": null,
      "id": "3460399a-2356-40ce-9739-73f8ba30cb71",
      "metadata": {
        "colab": {
          "base_uri": "https://localhost:8080/"
        },
        "id": "3460399a-2356-40ce-9739-73f8ba30cb71",
        "outputId": "cf972e14-6e12-495e-b691-6a86a78c723e"
      },
      "outputs": [
        {
          "output_type": "execute_result",
          "data": {
            "text/plain": [
              "[[27.885359691576753, -94.99784895546661],\n",
              " [-44.99413632617615, -55.35785237023545],\n",
              " [47.29424283280247, 35.33989748458225],\n",
              " [78.43591354096907, -82.61223347411678],\n",
              " [-15.61563606294591, -94.04055611238593],\n",
              " [-56.27240503927933, 1.0710576206724767],\n",
              " [-94.69280606322728, -60.2324698626703],\n",
              " [29.976887555904653, 8.98829612064334],\n",
              " [-55.911875591860664, 17.85313677518174],\n",
              " [61.88609133556534, -98.7002480643878],\n",
              " [61.163850366561576, 39.62787899764538],\n",
              " [-31.949896696401623, -68.90410003764369],\n",
              " [91.44261444135623, -32.68109097747465],\n",
              " [-81.45083132397042, -80.65672463330719],\n",
              " [69.49887326949195, 20.745206273378216],\n",
              " [61.42565465487604, 45.94635733876359],\n",
              " [7.245618290940143, 94.62315279587412],\n",
              " [-24.29312455832931, 10.408126254645396],\n",
              " [65.88093285059898, 23.703950472849215],\n",
              " [72.34138006215545, 15.470429051352411],\n",
              " [40.914367242984696, -90.83512326886756],\n",
              " [-54.42034486969063, -42.12240727957857],\n",
              " [-84.04160461527451, -53.44182272779396],\n",
              " [-79.79971411805417, -44.40527937798158],\n",
              " [27.136888852880034, -27.033564205983154],\n",
              " [-25.96380657662347, -58.09859384570246],\n",
              " [-46.60443559017733, 87.33091754249881],\n",
              " [29.60707704931872, 21.826201133397632],\n",
              " [-65.7722703603806, 45.82535959006984],\n",
              " [-67.31950124761431, -24.10891164847044]]"
            ]
          },
          "metadata": {},
          "execution_count": 93
        }
      ],
      "source": [
        "#Generamos la Población Inicial\n",
        "pop = toolbox.population()\n",
        "pop"
      ]
    },
    {
      "cell_type": "code",
      "execution_count": null,
      "id": "49fd0cba-05ee-42ca-84a5-e206a1eb1011",
      "metadata": {
        "colab": {
          "base_uri": "https://localhost:8080/"
        },
        "id": "49fd0cba-05ee-42ca-84a5-e206a1eb1011",
        "outputId": "a82726f5-ec0e-4852-cf63-5e4fdf0e426e"
      },
      "outputs": [
        {
          "output_type": "execute_result",
          "data": {
            "text/plain": [
              "<deap.tools.support.HallOfFame at 0x7de2e4765cc0>"
            ]
          },
          "metadata": {},
          "execution_count": 94
        }
      ],
      "source": [
        "# Definimos el objeto hof que almacenará el mejor individuo\n",
        "# encontrado a lo largo de las generaciones del Algoritmo G.\n",
        "hof = tools.HallOfFame(1)\n",
        "hof"
      ]
    },
    {
      "cell_type": "code",
      "execution_count": null,
      "id": "9140d938-c470-4ee5-b3c7-960b97a174cf",
      "metadata": {
        "colab": {
          "base_uri": "https://localhost:8080/"
        },
        "id": "9140d938-c470-4ee5-b3c7-960b97a174cf",
        "outputId": "1d43eb99-e86e-436d-de49-c5ff554b5d23"
      },
      "outputs": [
        {
          "output_type": "stream",
          "name": "stdout",
          "text": [
            "[]\n"
          ]
        }
      ],
      "source": [
        "print(hof)"
      ]
    },
    {
      "cell_type": "markdown",
      "id": "ad882a4e-8dbe-457f-b865-ae95c6d81518",
      "metadata": {
        "id": "ad882a4e-8dbe-457f-b865-ae95c6d81518"
      },
      "source": [
        "El método `HallOfFame` [Clase HallOfFame](https://deap.readthedocs.io/en/master/api/tools.html#hall-of-fame) recibe dos parámetros:\n",
        "* `maxsize`: Nº individuos a almacenar\n",
        "* `similar`: Función para comparar si dos individuos son iguales. Si no se pone nada, utilizará el método `operator.eq` del módulo `operator` [Módulo Operator](https://docs.python.org/3/library/operator.html#operator.eq)\n",
        "\n",
        "Este es el **mecanismo** que implementa `deap` **para no perder al mejor individuo** a lo largo de la evolución del algoritmo, ya que con el algoritmo`eaSimple` se podría perder al mejor individuo debido a los operadores genéticos.\n",
        "\n",
        "La clase `HallOfFame` está definida en el submódulo `tools` y **en cada generación** del algoritmo genético el objeto `hof` es **actualizado** mediante el método `update` (transparente a nosotros), que recibe como **entrada** la **población actual** y actualiza el contenido del objeto `hof`"
      ]
    },
    {
      "cell_type": "code",
      "execution_count": null,
      "id": "71a5a9a6-d7e8-4263-8470-31a6937fef37",
      "metadata": {
        "colab": {
          "base_uri": "https://localhost:8080/"
        },
        "id": "71a5a9a6-d7e8-4263-8470-31a6937fef37",
        "outputId": "2d3b27e5-83f8-454e-a70e-b865cc09801b"
      },
      "outputs": [
        {
          "output_type": "stream",
          "name": "stdout",
          "text": [
            "<deap.tools.support.Statistics object at 0x7de2e4766800>\n"
          ]
        }
      ],
      "source": [
        "# Definimos un objeto para generar las estadísticas de la\n",
        "# población a lo largo de las generaciones del algoritmo\n",
        "stats = tools.Statistics(lambda ind: ind.fitness.values)\n",
        "print(stats)"
      ]
    },
    {
      "cell_type": "markdown",
      "id": "e0388302-1fe9-4ecd-aa37-83404a45e6ad",
      "metadata": {
        "id": "e0388302-1fe9-4ecd-aa37-83404a45e6ad"
      },
      "source": [
        "La clase `Statistics` se encuentra definido en el submódulo `tools` [Clase Statistics](https://deap.readthedocs.io/en/master/api/tools.html#statistics)"
      ]
    },
    {
      "cell_type": "markdown",
      "id": "b9d3a993-b36e-4237-9f79-d50cb23a691f",
      "metadata": {
        "id": "b9d3a993-b36e-4237-9f79-d50cb23a691f"
      },
      "source": [
        "Ahora registramos en el objeto `stats` las funciones estadísticas a utilizar junto con su alias:"
      ]
    },
    {
      "cell_type": "code",
      "execution_count": null,
      "id": "cd1f7271-054e-4bfb-ad59-9e90e1be6efb",
      "metadata": {
        "id": "cd1f7271-054e-4bfb-ad59-9e90e1be6efb"
      },
      "outputs": [],
      "source": [
        "stats.register(\"avg\", np.mean)\n",
        "stats.register(\"std\", np.std)\n",
        "stats.register(\"min\", np.min)\n",
        "stats.register(\"max\", np.max)"
      ]
    },
    {
      "cell_type": "markdown",
      "id": "efaad2b8-9930-4a01-9aaa-4148a57dee47",
      "metadata": {
        "id": "efaad2b8-9930-4a01-9aaa-4148a57dee47"
      },
      "source": [
        "[Función media](https://docs.scipy.org/doc/numpy/reference/generated/numpy.mean.html)\n",
        "\n",
        "[Función desviación estandar](https://docs.scipy.org/doc/numpy/reference/generated/numpy.std.html?highlight=numpy%20std#numpay.std)\n",
        "\n",
        "[Función mínimo](https://docs.scipy.org/doc/numpy/reference/generated/numpy.ndarray.min.html?highlight=numpy%20min#numpay.ndarray.min)\n",
        "\n",
        "[Función máximo](https://docs.scipy.org/doc/numpy/reference/generated/numpy.ndarray.max.html?)"
      ]
    },
    {
      "cell_type": "markdown",
      "id": "34e78e4c-feaf-453a-a6e0-70c589410f20",
      "metadata": {
        "id": "34e78e4c-feaf-453a-a6e0-70c589410f20"
      },
      "source": [
        "El objeto `stats` tiene un método `compile` [Método Compile](https://deap.readthedocs.io/en/master/tutorials/basic/part3.html), que recibe como entrada la población que permite generar las estadísticas. A este método se le llama internamente en cada generación del algoritmo."
      ]
    },
    {
      "cell_type": "markdown",
      "id": "9730a451-8129-48e8-a0e6-7aad9fab4557",
      "metadata": {
        "id": "9730a451-8129-48e8-a0e6-7aad9fab4557"
      },
      "source": [
        "**ESTAMOS EN DISPOSICIÓN DE PODER EJECUTAR EL ALGORITMO GENÉTICO** ---------------------------------------------\n",
        "\n",
        "En `deap` tenemos una ámplia gama de algoritmos en el submódulo `algorithms` [Submódulo Algorithms](https://deap.readthedocs.io/en/master/api/algo.html), en nuestro caso, usaremos `eaSimple` que es una de las versiones más simples y que realizará lo siguiente:\n",
        "\n",
        "1. Evaluará la población inicial\n",
        "2. Mientras no se alcance el límite de generaciones:\n",
        "    1. Selección de individuos para participar en las operaciones genéticas\n",
        "    2. Creación de la siguiente generación mediante cruce y/o mutación de los individuos seleccionados\n",
        "    3. Evaluación de la generación creada\n",
        "\n",
        "Además, el algoritmo `eaSimple`, devolverá la **población final** y el **registro de evolución** y tendrá como **parámetros de entrada**:\n",
        "* `population` : Población inicial\n",
        "* `toolbox` : La caja de herramientas con todas las funciones necesarias\n",
        "* `cxpb` : Probabilidad de cruce en tanto por uno\n",
        "* `mutpb` : Probabilidad de mutación en tanto por uno\n",
        "* `ngen` : Nº de generaciones del algoritmo\n",
        "* `stats` : Objeto estadístico con las funciones registradas (opcional)\n",
        "* `halloffame` : Objeto del tipo HallOfFame con los mejores individuos por generación, opcional\n",
        "* `verbose` : Si se deben mostrar o no las estadísticas de cada generación"
      ]
    },
    {
      "cell_type": "code",
      "execution_count": null,
      "id": "021b8956-500e-478a-ba7f-88ed20e587c7",
      "metadata": {
        "id": "021b8956-500e-478a-ba7f-88ed20e587c7"
      },
      "outputs": [],
      "source": [
        "# loogbook contendrá todo el registro de evolución\n",
        "logbook = tools.Logbook()"
      ]
    },
    {
      "cell_type": "code",
      "execution_count": null,
      "id": "795ee81d-b126-432e-bd15-f6588935368b",
      "metadata": {
        "colab": {
          "base_uri": "https://localhost:8080/"
        },
        "id": "795ee81d-b126-432e-bd15-f6588935368b",
        "outputId": "cb18b3e8-8b58-4c75-c621-6f8ea1b99bfa"
      },
      "outputs": [
        {
          "output_type": "stream",
          "name": "stdout",
          "text": [
            "gen\tnevals\n",
            "0  \t30    \n",
            "1  \t15    \n",
            "2  \t18    \n",
            "3  \t24    \n",
            "4  \t19    \n",
            "5  \t11    \n",
            "6  \t22    \n",
            "7  \t20    \n",
            "8  \t17    \n",
            "9  \t16    \n",
            "10 \t14    \n",
            "11 \t15    \n",
            "12 \t23    \n",
            "13 \t21    \n",
            "14 \t17    \n",
            "15 \t15    \n",
            "16 \t15    \n",
            "17 \t15    \n",
            "18 \t18    \n",
            "19 \t20    \n",
            "20 \t20    \n"
          ]
        }
      ],
      "source": [
        "pop, logbook = algorithms.eaSimple(pop, toolbox, cxpb=CXPB,\n",
        "                                       mutpb=MUTPB, ngen=NGEN, stats=stats,\n",
        "                                       halloffame=hof, verbose=True)"
      ]
    },
    {
      "cell_type": "code",
      "execution_count": null,
      "id": "6a153cfc-2b17-4849-a202-894056da9689",
      "metadata": {
        "colab": {
          "base_uri": "https://localhost:8080/"
        },
        "id": "6a153cfc-2b17-4849-a202-894056da9689",
        "outputId": "5680ee34-4f29-4eb1-dc87-8ac6926d9523"
      },
      "outputs": [
        {
          "output_type": "stream",
          "name": "stdout",
          "text": [
            "[[2.5920389804628403, 18.379678849433745], [2.5920389804628403, 18.379678849433745], [2.5920389804628403, 18.379678849433745], [2.5920389804628403, 18.379678849433745], [2.5920389804628403, 18.379678849433745], [2.5920389804628403, 18.379678849433745], [2.5920389804628403, 18.379678849433745], [2.5920389804628403, 18.379678849433745], [2.5920389804628403, 18.379678849433745], [2.5920389804628403, 18.379678849433745], [2.5920389804628403, 18.379678849433745], [2.5920389804628403, 18.379678849433745], [2.5920389804628403, 18.379678849433745], [2.5920389804628403, 18.379678849433745], [2.5920389804628403, 18.379678849433745], [2.5920389804628403, 18.379678849433745], [2.5920389804628403, 18.379678849433745], [2.5920389804628403, 18.379678849433745], [2.5920389804628403, 18.379678849433745], [2.5920389804628403, 18.379678849433745], [2.5920389804628403, 18.379678849433745], [2.5920389804628403, 18.379678849433745], [2.5920389804628403, 18.379678849433745], [2.5920389804628403, 18.379678849433745], [2.5920389804628403, 18.379678849433745], [2.5920389804628403, 18.379678849433745], [2.5920389804628403, 18.379678849433745], [2.5920389804628403, 18.379678849433745], [2.5920389804628403, 18.379678849433745], [4.042556878684082, 18.379678849433745]]\n"
          ]
        }
      ],
      "source": [
        "print(pop)"
      ]
    },
    {
      "cell_type": "code",
      "execution_count": null,
      "id": "ec94ddad-2cf9-4c60-89c2-ed199725c83e",
      "metadata": {
        "colab": {
          "base_uri": "https://localhost:8080/"
        },
        "id": "ec94ddad-2cf9-4c60-89c2-ed199725c83e",
        "outputId": "9961a960-385c-4911-f2ba-2782fd42357b"
      },
      "outputs": [
        {
          "output_type": "stream",
          "name": "stdout",
          "text": [
            "gen\tnevals\n",
            "0  \t30    \n",
            "1  \t15    \n",
            "2  \t18    \n",
            "3  \t24    \n",
            "4  \t19    \n",
            "5  \t11    \n",
            "6  \t22    \n",
            "7  \t20    \n",
            "8  \t17    \n",
            "9  \t16    \n",
            "10 \t14    \n",
            "11 \t15    \n",
            "12 \t23    \n",
            "13 \t21    \n",
            "14 \t17    \n",
            "15 \t15    \n",
            "16 \t15    \n",
            "17 \t15    \n",
            "18 \t18    \n",
            "19 \t20    \n",
            "20 \t20    \n"
          ]
        }
      ],
      "source": [
        "print(logbook)"
      ]
    },
    {
      "cell_type": "markdown",
      "id": "3d42738b-38a2-4bf3-ae06-524c8c696e97",
      "metadata": {
        "id": "3d42738b-38a2-4bf3-ae06-524c8c696e97"
      },
      "source": [
        "Agrupamos todo lo anterior en la función `main()` que realizará toda la **configuración** del algoritmo"
      ]
    },
    {
      "cell_type": "code",
      "execution_count": null,
      "id": "8dadb2a6-6214-437d-ae51-3a01b7ae77df",
      "metadata": {
        "id": "8dadb2a6-6214-437d-ae51-3a01b7ae77df"
      },
      "outputs": [],
      "source": [
        "def main():\n",
        "    # Definimos la semilla del generador de números aleatorios\n",
        "    # Se hace así para tener resultados reproducibles\n",
        "    random.seed(42)\n",
        "\n",
        "    # Definimos:\n",
        "    #  CXPB: Probabilidad de Cruce\n",
        "    #  MUTPB: Probabilidad de Mutación\n",
        "    #  NGEN: Número de Generaciones\n",
        "    # Los valores son de prueba para obtener unos resultados preeliminares\n",
        "    CXPB, MUTPB, NGEN = 0.5, 0.2, 20\n",
        "\n",
        "    #Generamos la Población Inicial\n",
        "    pop = toolbox.population()\n",
        "\n",
        "    # Definimos el objeto hof que almacenará el mejor individuo\n",
        "    # encontrado a lo largo de las generaciones del Algoritmo G.\n",
        "    hof = tools.HallOfFame(1)\n",
        "\n",
        "    # Definimos un objeto para generar las estadísticas de la\n",
        "    # población a lo largo de las generaciones del algoritmo\n",
        "    stats = tools.Statistics(lambda ind: ind.fitness.values)\n",
        "\n",
        "    # Registramos en el objeto stats\n",
        "    # las funciones estadísticas a usar\n",
        "    stats.register(\"avg\", np.mean)\n",
        "    stats.register(\"std\", np.std)\n",
        "    stats.register(\"min\", np.min)\n",
        "    stats.register(\"max\", np.max)\n",
        "\n",
        "    # loogbook contendrá todo el registro de evolución\n",
        "    logbook = tools.Logbook()\n",
        "\n",
        "    # Algoritmo eaSimple, devuelve la población final y el registro de evolución\n",
        "    # y tiene como entrada:\n",
        "    # population – población inicial\n",
        "    # toolbox – La caja de herramientas con todas las funciones necesarias\n",
        "    # cxpb – Probabilidad de cruce en tanto por uno\n",
        "    # mutpb – Probabilidad de mutación en tanto por uno\n",
        "    # ngen – Nº de generaciones del algoritmo\n",
        "    # stats – Objeto estadístico con las funciones registradas (opcional)\n",
        "    # halloffame – Objeto del tipo HallOfFame con los mejores individuos por generación, opcional\n",
        "    # verbose – Si se deben mostrar o no las estadísticas de cada generación\n",
        "    pop, logbook = algorithms.eaSimple(pop, toolbox, cxpb=CXPB,\n",
        "                                       mutpb=MUTPB, ngen=NGEN, stats=stats,\n",
        "                                       halloffame=hof, verbose=True)\n",
        "\n",
        "    # Devolvemos el HallOfFame y el registro de evolución\n",
        "    return hof, logbook"
      ]
    },
    {
      "cell_type": "markdown",
      "id": "2cb232bd-fc36-4cd7-b1bc-f84db42fe094",
      "metadata": {
        "id": "2cb232bd-fc36-4cd7-b1bc-f84db42fe094"
      },
      "source": [
        "##### 4.2 Resultados del Algoritmo Genético ---------------------------------------------"
      ]
    },
    {
      "cell_type": "code",
      "execution_count": null,
      "id": "35ca1ba8-df59-400c-8839-eeb1cf2e80e0",
      "metadata": {
        "colab": {
          "base_uri": "https://localhost:8080/"
        },
        "id": "35ca1ba8-df59-400c-8839-eeb1cf2e80e0",
        "outputId": "cf7be1bf-1527-45ff-fd7d-1556a19cb67a"
      },
      "outputs": [
        {
          "output_type": "stream",
          "name": "stdout",
          "text": [
            "gen\tnevals\tavg         \tstd\tmin          \tmax\n",
            "0  \t30    \t-2.3122e-285\t0  \t-6.93659e-284\t0  \n",
            "1  \t15    \t0           \t0  \t0            \t0  \n",
            "2  \t18    \t0           \t0  \t0            \t0  \n",
            "3  \t24    \t0           \t0  \t0            \t0  \n",
            "4  \t19    \t0           \t0  \t0            \t0  \n",
            "5  \t11    \t7.38604e-255\t0  \t0            \t2.21581e-253\n",
            "6  \t22    \t1.47721e-254\t0  \t0            \t2.21581e-253\n",
            "7  \t20    \t3.36706e-224\t0  \t0            \t1.01012e-222\n",
            "8  \t17    \t1.01012e-223\t0  \t0            \t1.01012e-222\n",
            "9  \t16    \t3.05195e-218\t0  \t0            \t9.1558e-217 \n",
            "10 \t14    \t1.4668e-207 \t0  \t2.21581e-253 \t4.40041e-206\n",
            "11 \t15    \t2.93361e-207\t0  \t8.07027e-295 \t4.40041e-206\n",
            "12 \t23    \t2.63088e-204\t0  \t1.01012e-222 \t7.69981e-203\n",
            "13 \t21    \t1.0502e-202 \t0  \t1.06166e-228 \t3.06613e-201\n",
            "14 \t17    \t2.07581e-202\t0  \t7.29431e-261 \t3.06613e-201\n",
            "15 \t15    \t1.64644e-144\t8.86636e-144\t1.10707e-216 \t4.93933e-143\n",
            "16 \t15    \t4.94027e-144\t1.48177e-143\t4.40041e-206 \t4.93933e-143\n",
            "17 \t15    \t1.97582e-143\t2.41969e-143\t3.31741e-210 \t4.93933e-143\n",
            "18 \t18    \t4.28075e-143\t1.67905e-143\t3.06613e-201 \t4.93933e-143\n",
            "19 \t20    \t4.61004e-143\t1.23208e-143\t8.08849e-189 \t4.93933e-143\n",
            "20 \t20    \t4.77469e-143\t8.86578e-144\t3.26739e-147 \t4.93933e-143\n",
            "Mejor fitness: 0.000000\n",
            "Mejor individuo [2.5920389804628403, 18.379678849433745]\n"
          ]
        }
      ],
      "source": [
        "best, log = main()\n",
        "print(\"Mejor fitness: %f\" %best[0].fitness.values)\n",
        "print(\"Mejor individuo %s\" %best[0])"
      ]
    },
    {
      "cell_type": "markdown",
      "id": "22dcc461-adab-410b-83b7-06567cb7fef5",
      "metadata": {
        "id": "22dcc461-adab-410b-83b7-06567cb7fef5"
      },
      "source": [
        "**CUESTIONES** ---------------------------------------------\n",
        "\n",
        "Datos que corresponden a las funciones registradas en el objeto `stats`\n",
        "* `gen`: Generación en la que me encuentro\n",
        "* `nevals`: Número de individuos que han sido evaluados respecto a su desempeño\n",
        "    * No es igual al número de individuos porque los operadores de cruce y mutación son probabilísticos (un individuo seleccionado puede no haberse modificado y no será, por tanto, evaluado, ahorrando operaciones redundantes). Cuando un individuo **es modificado** debido a un operación de genética (cruce o mutación), su `fitness` se invalida, poniendo el atributo `valid=False`. En cada generación, todos los individuos que tienen un `fitness` **inválido** serán evaluados.\n",
        "* `avg`: Desempeño medio de la población\n",
        "    * Se incrementa a lo largo de las generaciones. **Positivo** porque los **individuos** que forman la población son, en media, **mejores**\n",
        "* `std`: Desviación típica del desempeño medio de la población\n",
        "    * Disminuye, en general, a lo largo de las generaciones. **Positivo** porque los **individuos** que forman la población son, **cada vez más parecidos** y que el algoritmo es **elitista** por el proceso de selección\n",
        "* `min`: Mínimo desempeño de la población\n",
        "* `max`: Máximo desempeño de la población\n",
        "    * Aumenta a lo largo de las generaciones. **Muy positivo** porque indica que el algoritmo funciona correctamente\n",
        "    \n",
        "\n",
        "Aunque `hof` lo hemos definido para que almecene solo un individuo, el objeto es una secuencia (como una lista en Python) por lo que para obtener el individuo o el `fitness` debemos usar el índice cero.\n",
        "\n",
        "\n",
        "Al A.G. nos ha proporcionado en tan solo unos pasos una solución que es bastante buena - no es la mejor, pero está muy cerca.\n",
        "\n"
      ]
    },
    {
      "cell_type": "code",
      "execution_count": null,
      "id": "1a0ff0f7-5dcf-4c0c-85d6-525e9a916925",
      "metadata": {
        "colab": {
          "base_uri": "https://localhost:8080/"
        },
        "id": "1a0ff0f7-5dcf-4c0c-85d6-525e9a916925",
        "outputId": "c887df21-ce27-427b-8af2-01b4bf14d4e6"
      },
      "outputs": [
        {
          "output_type": "stream",
          "name": "stdout",
          "text": [
            "gen\tnevals\tavg         \tstd         \tmin          \tmax         \n",
            "0  \t30    \t-2.3122e-285\t0           \t-6.93659e-284\t0           \n",
            "1  \t15    \t0           \t0           \t0            \t0           \n",
            "2  \t18    \t0           \t0           \t0            \t0           \n",
            "3  \t24    \t0           \t0           \t0            \t0           \n",
            "4  \t19    \t0           \t0           \t0            \t0           \n",
            "5  \t11    \t7.38604e-255\t0           \t0            \t2.21581e-253\n",
            "6  \t22    \t1.47721e-254\t0           \t0            \t2.21581e-253\n",
            "7  \t20    \t3.36706e-224\t0           \t0            \t1.01012e-222\n",
            "8  \t17    \t1.01012e-223\t0           \t0            \t1.01012e-222\n",
            "9  \t16    \t3.05195e-218\t0           \t0            \t9.1558e-217 \n",
            "10 \t14    \t1.4668e-207 \t0           \t2.21581e-253 \t4.40041e-206\n",
            "11 \t15    \t2.93361e-207\t0           \t8.07027e-295 \t4.40041e-206\n",
            "12 \t23    \t2.63088e-204\t0           \t1.01012e-222 \t7.69981e-203\n",
            "13 \t21    \t1.0502e-202 \t0           \t1.06166e-228 \t3.06613e-201\n",
            "14 \t17    \t2.07581e-202\t0           \t7.29431e-261 \t3.06613e-201\n",
            "15 \t15    \t1.64644e-144\t8.86636e-144\t1.10707e-216 \t4.93933e-143\n",
            "16 \t15    \t4.94027e-144\t1.48177e-143\t4.40041e-206 \t4.93933e-143\n",
            "17 \t15    \t1.97582e-143\t2.41969e-143\t3.31741e-210 \t4.93933e-143\n",
            "18 \t18    \t4.28075e-143\t1.67905e-143\t3.06613e-201 \t4.93933e-143\n",
            "19 \t20    \t4.61004e-143\t1.23208e-143\t8.08849e-189 \t4.93933e-143\n",
            "20 \t20    \t4.77469e-143\t8.86578e-144\t3.26739e-147 \t4.93933e-143\n"
          ]
        }
      ],
      "source": [
        "print(log)"
      ]
    },
    {
      "cell_type": "markdown",
      "id": "776c2097-8f93-4d5c-8739-00055d30a607",
      "metadata": {
        "id": "776c2097-8f93-4d5c-8739-00055d30a607"
      },
      "source": [
        "#### 5. ¿Cómo conseguir resultados consistentes?"
      ]
    },
    {
      "cell_type": "markdown",
      "id": "955beae5-7f78-4bd8-b202-94769b07a825",
      "metadata": {
        "id": "955beae5-7f78-4bd8-b202-94769b07a825"
      },
      "source": [
        "Buenas prácticas a llevar a cabo para mejorar el modelo:\n",
        "* Aumentar la población hasta que no veamos mejoras significativas probando con pocas generaciones e ir aumentando el número de individuos\n",
        "* Aumentar el número de generaciones y comprobar que el algoritmo converja mostrando una gráfica de convergencia del algoritmo\n",
        "* Hacer un barrido de valores de probabilidades de cruce y mutación, y mostrar algunas estadísticas para ver de qué manera afectan dichas probabilidades"
      ]
    },
    {
      "cell_type": "markdown",
      "id": "7431a729-2c95-400d-9a93-a977df52db41",
      "metadata": {
        "id": "7431a729-2c95-400d-9a93-a977df52db41"
      },
      "source": [
        "Ahora lanzamos el Algoritmo Genético 20 veces"
      ]
    },
    {
      "cell_type": "code",
      "execution_count": null,
      "id": "5f20aa56-9a70-41c6-8724-798b20295c34",
      "metadata": {
        "id": "5f20aa56-9a70-41c6-8724-798b20295c34"
      },
      "outputs": [],
      "source": [
        "def main():\n",
        "    CXPB, MUTPB, NGEN = 0.5, 0.2, 20\n",
        "    pop = toolbox.population()\n",
        "    hof = tools.HallOfFame(1)\n",
        "    stats = tools.Statistics(lambda ind: ind.fitness.values)\n",
        "    stats.register(\"avg\", np.mean)\n",
        "    stats.register(\"std\", np.std)\n",
        "    stats.register(\"min\", np.min)\n",
        "    stats.register(\"max\", np.max)\n",
        "    logbook = tools.Logbook()\n",
        "    pop, logbook = algorithms.eaSimple(pop, toolbox, cxpb=CXPB,\n",
        "                                       mutpb=MUTPB, ngen=NGEN, stats=stats,\n",
        "                                       halloffame=hof, verbose=True)\n",
        "    return hof, logbook"
      ]
    },
    {
      "cell_type": "code",
      "execution_count": null,
      "id": "eeab0a59-a372-4671-bfd3-32cde5ba0aa4",
      "metadata": {
        "colab": {
          "base_uri": "https://localhost:8080/"
        },
        "id": "eeab0a59-a372-4671-bfd3-32cde5ba0aa4",
        "outputId": "ad52bf42-b597-4f5b-e556-c83ee01ef200"
      },
      "outputs": [
        {
          "output_type": "stream",
          "name": "stdout",
          "text": [
            "gen\tnevals\tavg        \tstd         \tmin          \tmax        \n",
            "0  \t30    \t2.1894e-125\t1.17903e-124\t-4.39982e-279\t6.5682e-124\n",
            "1  \t21    \t7.58557e-101\t4.08495e-100\t0            \t2.27567e-99\n",
            "2  \t22    \t2.16826e-82 \t1.16764e-81 \t0            \t6.50478e-81\n",
            "3  \t12    \t3.74785e-77 \t2.01828e-76 \t0            \t1.12435e-75\n",
            "4  \t15    \t4.64564e-16 \t2.50175e-15 \t1.25252e-167 \t1.39369e-14\n",
            "5  \t25    \t4.64564e-16 \t2.50175e-15 \t1.49185e-142 \t1.39369e-14\n",
            "6  \t12    \t-1.96635e-08\t1.06359e-07 \t-5.9242e-07  \t2.29665e-09\n",
            "7  \t17    \t2.54148e-10 \t6.84845e-10 \t2.27567e-99  \t2.29665e-09\n",
            "8  \t17    \t-2.07385e-05\t0.000118183 \t-0.00065632  \t3.41492e-05\n",
            "9  \t15    \t6.83088e-06 \t1.36592e-05 \t1.39369e-14  \t3.41492e-05\n",
            "10 \t17    \t1.59371e-05 \t1.70359e-05 \t-1.53267e-94 \t3.41492e-05\n",
            "11 \t19    \t3.74799e-05 \t5.12353e-05 \t2.29665e-09  \t0.000304805\n",
            "12 \t11    \t-0.00175946 \t0.00987494  \t-0.0549333   \t0.000652115\n",
            "13 \t16    \t7.92584e-05 \t0.000100867 \t3.41492e-05  \t0.000304805\n",
            "14 \t20    \t-0.0403328  \t0.217929    \t-1.21392     \t0.000304805\n",
            "15 \t20    \t0.00020913  \t0.000135639 \t-2.31552e-23 \t0.000304805\n",
            "16 \t13    \t0.000304805 \t1.0842e-19  \t0.000304805  \t0.000304805\n",
            "17 \t13    \t0.000294644 \t5.47141e-05 \t3.7726e-50   \t0.000304805\n",
            "18 \t15    \t0.000274324 \t9.14414e-05 \t1.85758e-35  \t0.000304805\n",
            "19 \t16    \t0.000304805 \t1.0842e-19  \t0.000304805  \t0.000304805\n",
            "20 \t11    \t0.000304805 \t1.0842e-19  \t0.000304805  \t0.000304805\n",
            "gen\tnevals\tavg        \tstd       \tmin         \tmax        \n",
            "0  \t30    \t1.67178e-37\t9.0028e-37\t-3.58498e-58\t5.01533e-36\n",
            "1  \t16    \t1.67178e-37\t9.0028e-37\t0           \t5.01533e-36\n",
            "2  \t18    \t5.12115e-08\t2.75783e-07\t0           \t1.53635e-06\n",
            "3  \t13    \t5.12115e-08\t2.75783e-07\t0           \t1.53635e-06\n",
            "4  \t17    \t1.41029e-07\t4.26827e-07\t0           \t1.53635e-06\n",
            "5  \t21    \t3.3327e-07 \t6.09714e-07\t1.43983e-131\t1.53635e-06\n",
            "6  \t18    \t9.81245e-07\t6.73018e-07\t1.67276e-39 \t1.53635e-06\n",
            "7  \t15    \t-0.0268828 \t0.144776   \t-0.806525   \t1.53635e-06\n",
            "8  \t20    \t1.53635e-06\t2.11758e-22\t1.53635e-06 \t1.53635e-06\n",
            "9  \t23    \t1.40566e-06\t4.05271e-07\t5.0273e-23  \t1.53635e-06\n",
            "10 \t20    \t1.4855e-06 \t2.73836e-07\t1.08462e-08 \t1.53635e-06\n",
            "11 \t15    \t1.53635e-06\t2.11758e-22\t1.53635e-06 \t1.53635e-06\n",
            "12 \t13    \t1.48513e-06\t2.75783e-07\t3.53311e-22 \t1.53635e-06\n",
            "13 \t20    \t4.33661e-06\t1.50799e-05\t1.53635e-06 \t8.55443e-05\n",
            "14 \t17    \t1.61585e-05\t5.19457e-05\t1.53635e-06 \t0.000272184\n",
            "15 \t21    \t3.36313e-05\t7.09197e-05\t1.17835e-06 \t0.000272184\n",
            "16 \t22    \t8.17653e-05\t0.000202084\t-0.000800582\t0.000272184\n",
            "17 \t21    \t-0.0283185 \t0.154021   \t-0.857746   \t0.0019125  \n",
            "18 \t19    \t0.000490892\t0.000557599\t0.000272184 \t0.0019125  \n",
            "19 \t18    \t0.0475811  \t0.252026   \t0.000272184 \t1.40478    \n",
            "20 \t18    \t0.208908   \t0.537584   \t0.000272184 \t2.01468    \n",
            "gen\tnevals\tavg         \tstd        \tmin         \tmax       \n",
            "0  \t30    \t-2.37538e-38\t1.27918e-37\t-7.12615e-37\t1.9348e-69\n",
            "1  \t21    \t1.28987e-70 \t4.82625e-70\t0           \t1.9348e-69\n",
            "2  \t22    \t2.57974e-70 \t6.57707e-70\t-1.05864e-136\t1.9348e-69\n",
            "3  \t19    \t6.44935e-70 \t9.12075e-70\t0            \t1.9348e-69\n",
            "4  \t20    \t1.54784e-69 \t7.73921e-70\t2.72773e-291 \t1.9348e-69\n",
            "5  \t19    \t1.9348e-69  \t2.57378e-85\t1.9348e-69   \t1.9348e-69\n",
            "6  \t18    \t1.9348e-69  \t2.57378e-85\t1.9348e-69   \t1.9348e-69\n",
            "7  \t20    \t1.9348e-69  \t2.57378e-85\t1.9348e-69   \t1.9348e-69\n",
            "8  \t20    \t4.68914e-60 \t2.52518e-59\t1.9348e-69   \t1.40674e-58\n",
            "9  \t13    \t1.9348e-69  \t2.57378e-85\t1.9348e-69   \t1.9348e-69 \n",
            "10 \t17    \t1.9348e-69  \t2.57378e-85\t1.9348e-69   \t1.9348e-69 \n",
            "11 \t19    \t1.9348e-69  \t2.57378e-85\t1.9348e-69   \t1.9348e-69 \n",
            "12 \t12    \t5.22734e-11 \t2.81501e-10\t1.40526e-77  \t1.5682e-09 \n",
            "13 \t13    \t5.22734e-11 \t2.81501e-10\t1.22938e-87  \t1.5682e-09 \n",
            "14 \t16    \t1.04547e-10 \t3.91178e-10\t1.9348e-69   \t1.5682e-09 \n",
            "15 \t17    \t1.04547e-10 \t3.91178e-10\t1.9348e-69   \t1.5682e-09 \n",
            "16 \t24    \t4.7046e-10  \t7.1864e-10 \t1.9348e-69   \t1.5682e-09 \n",
            "17 \t18    \t1.75942e-09 \t2.84625e-09\t1.9348e-69   \t1.67134e-08\n",
            "18 \t12    \t4.0924e-09  \t5.64428e-09\t1.5682e-09   \t1.67134e-08\n",
            "19 \t21    \t8.13112e-09 \t7.50499e-09\t1.5682e-09   \t1.67134e-08\n",
            "20 \t19    \t1.16204e-08 \t7.20634e-09\t2.29773e-10  \t1.67134e-08\n",
            "gen\tnevals\tavg         \tstd\tmin\tmax         \n",
            "0  \t30    \t3.10077e-210\t0  \t0  \t9.30232e-209\n",
            "1  \t15    \t2.23542e-79 \t1.20381e-78\t0  \t6.70626e-78 \n",
            "2  \t20    \t1.78858e-63 \t9.63178e-63\t0  \t5.36573e-62 \n",
            "3  \t17    \t3.57715e-63 \t1.33845e-62\t0  \t5.36573e-62 \n",
            "4  \t15    \t7.1543e-63  \t1.824e-62  \t0  \t5.36573e-62 \n",
            "5  \t22    \t1.07315e-62 \t2.14629e-62\t9.30232e-209\t5.36573e-62 \n",
            "6  \t18    \t2.14629e-62 \t2.62866e-62\t9.41937e-80 \t5.36573e-62 \n",
            "7  \t21    \t-6.66117e-06\t3.58715e-05\t-0.000199835\t3.442e-61   \n",
            "8  \t17    \t8.09268e-62 \t8.82806e-62\t1.14393e-64 \t3.442e-61   \n",
            "9  \t19    \t1.37446e-61 \t1.35923e-61\t1.32331e-63 \t3.442e-61   \n",
            "10 \t22    \t2.37668e-61 \t1.40011e-61\t5.36573e-62 \t3.442e-61   \n",
            "11 \t23    \t3.34516e-61 \t5.21541e-62\t5.36573e-62 \t3.442e-61   \n",
            "12 \t23    \t1.11947e-48 \t6.02851e-48\t6.14646e-68 \t3.3584e-47  \n",
            "13 \t16    \t5.59733e-48 \t1.2516e-47 \t3.442e-61   \t3.3584e-47  \n",
            "14 \t20    \t2.31108e-47 \t3.24527e-47\t6.56587e-184\t1.28367e-46 \n",
            "15 \t22    \t4.06244e-47 \t3.65548e-47\t3.442e-61   \t1.28367e-46 \n",
            "16 \t19    \t6.60988e-47 \t4.80837e-47\t2.34945e-106\t1.28367e-46 \n",
            "17 \t20    \t-9.12795e-13\t4.91555e-12\t-2.73838e-11\t4.61113e-34 \n",
            "18 \t19    \t7.73963e-13 \t4.16792e-12\t1.45678e-112\t2.32189e-11 \n",
            "19 \t14    \t3.87065e-12 \t8.65279e-12\t1.28367e-46 \t2.32189e-11 \n",
            "20 \t22    \t1.73652e-11 \t4.32471e-11\t1.28367e-46 \t2.42253e-10 \n",
            "gen\tnevals\tavg         \tstd        \tmin\tmax         \n",
            "0  \t30    \t2.05157e-117\t1.1048e-116\t0  \t6.15471e-116\n",
            "1  \t21    \t2.05157e-117\t1.1048e-116\t-7.19184e-254\t6.15471e-116\n",
            "2  \t20    \t6.15471e-117\t1.84641e-116\t0            \t6.15471e-116\n",
            "3  \t21    \t2.97223e-94 \t1.11211e-93 \t0            \t4.45834e-93 \n",
            "4  \t22    \t4.80913e-74 \t1.79941e-73 \t0            \t7.21369e-73 \n",
            "5  \t19    \t9.61825e-74 \t2.45218e-73 \t3.70959e-142 \t7.21369e-73 \n",
            "6  \t21    \t-0.000233047\t0.001255    \t-0.00699142  \t7.21369e-73 \n",
            "7  \t16    \t3.12594e-73 \t3.57463e-73 \t6.15471e-116 \t7.21369e-73 \n",
            "8  \t15    \t5.29004e-73 \t3.19001e-73 \t1.73997e-116 \t7.21369e-73 \n",
            "9  \t15    \t5.48447e-43 \t2.95348e-42 \t7.21369e-73  \t1.64534e-41 \n",
            "10 \t23    \t5.48447e-43 \t2.95348e-42 \t3.0704e-157  \t1.64534e-41 \n",
            "11 \t17    \t3.4568e-41  \t1.8009e-40  \t7.21369e-73  \t1.00413e-39 \n",
            "12 \t21    \t2.74223e-42 \t6.13182e-42 \t7.21369e-73  \t1.64534e-41 \n",
            "13 \t15    \t7.18782e-41 \t2.49266e-40 \t7.8746e-168  \t1.00413e-39 \n",
            "14 \t20    \t1.43756e-40 \t3.37542e-40 \t4.39651e-71  \t1.00413e-39 \n",
            "15 \t20    \t3.9533e-34  \t2.12891e-33 \t1.64534e-41  \t1.18599e-32 \n",
            "16 \t25    \t2.46695e-32 \t1.30665e-31 \t6.54479e-45  \t7.28226e-31 \n",
            "17 \t20    \t1.21766e-31 \t2.71225e-31 \t6.99979e-48  \t7.28226e-31 \n",
            "18 \t18    \t4.13452e-31 \t3.59969e-31 \t1.64534e-41  \t7.28226e-31 \n",
            "19 \t15    \t6.08041e-31 \t2.68752e-31 \t1.00413e-39  \t7.28226e-31 \n",
            "20 \t19    \t7.28226e-31 \t2.62743e-46 \t7.28226e-31  \t7.28226e-31 \n",
            "gen\tnevals\tavg         \tstd         \tmin\tmax         \n",
            "0  \t30    \t1.34578e-123\t7.24727e-123\t0  \t4.03735e-122\n",
            "1  \t15    \t5.94049e-107\t3.19905e-106\t0  \t1.78215e-105\n",
            "2  \t10    \t1.78215e-106\t5.34644e-106\t0  \t1.78215e-105\n",
            "3  \t20    \t4.75239e-106\t7.88096e-106\t0  \t1.78215e-105\n",
            "4  \t20    \t7.12859e-106\t8.73071e-106\t-4.40309e-188\t1.78215e-105\n",
            "5  \t12    \t1.25648e-31 \t6.76638e-31 \t0            \t3.76945e-30 \n",
            "6  \t11    \t1.25648e-31 \t6.76638e-31 \t-2.12934e-133\t3.76945e-30 \n",
            "7  \t16    \t2.51297e-31 \t9.40267e-31 \t4.30525e-183 \t3.76945e-30 \n",
            "8  \t22    \t6.53367e-19 \t3.51849e-18 \t1.78215e-105 \t1.9601e-17  \n",
            "9  \t12    \t2.61347e-18 \t6.66306e-18 \t1.78215e-105 \t1.9601e-17  \n",
            "10 \t22    \t7.27183e-18 \t9.39198e-18 \t3.39894e-92  \t1.9601e-17  \n",
            "11 \t17    \t1.19302e-17 \t9.41391e-18 \t3.82261e-43  \t1.9601e-17  \n",
            "12 \t17    \t2.22125e-16 \t7.60839e-16 \t1.9601e-17   \t3.32161e-15 \n",
            "13 \t21    \t7.26561e-07 \t3.91265e-06 \t1.9601e-17   \t2.17968e-05 \n",
            "14 \t18    \t-0.000480454\t0.00259542  \t-0.0144572   \t2.17968e-05 \n",
            "15 \t20    \t0.0841641   \t0.458264    \t-0.0144572   \t2.55192     \n",
            "16 \t19    \t-0.0197846  \t0.973777    \t-2.77701     \t2.55192     \n",
            "17 \t23    \t-0.00239761 \t0.937591    \t-2.77701     \t2.55192     \n",
            "18 \t19    \t0.341989    \t1.07565     \t-2.77701     \t2.55192     \n",
            "19 \t25    \t-0.116279   \t1.65358     \t-4.7675      \t2.55192     \n",
            "20 \t16    \t0.17935     \t1.68719     \t-2.77701     \t2.55192     \n",
            "gen\tnevals\tavg\tstd\tmin\tmax\n",
            "0  \t30    \t0  \t0  \t0  \t0  \n",
            "1  \t19    \t1.40346e-50\t7.55787e-50\t0  \t4.21038e-49\n",
            "2  \t15    \t1.40346e-50\t7.55787e-50\t0  \t4.21038e-49\n",
            "3  \t17    \t1.40346e-50\t7.55787e-50\t0  \t4.21038e-49\n",
            "4  \t20    \t5.61384e-50\t1.43125e-49\t0  \t4.21038e-49\n",
            "5  \t20    \t-0.0333333 \t0.179505   \t-1 \t7.18715e-47\n",
            "6  \t18    \t1.05516e-17\t5.64909e-17\t-5.90491e-109\t3.14759e-16\n",
            "7  \t17    \t5.96342e-20\t3.2114e-19 \t4.21038e-49  \t1.78902e-18\n",
            "8  \t20    \t1.03819e-17\t5.49144e-17\t2.8401e-64   \t3.06091e-16\n",
            "9  \t19    \t3.09669e-17\t9.17107e-17\t4.21038e-49  \t3.06091e-16\n",
            "10 \t25    \t1.53403e-16\t1.52689e-16\t4.21038e-49  \t3.06091e-16\n",
            "11 \t16    \t2.55309e-16\t1.13551e-16\t7.18715e-47  \t3.06091e-16\n",
            "12 \t16    \t0.000489709\t0.00263716 \t3.06091e-16  \t0.0146913  \n",
            "13 \t15    \t0.00195883 \t0.00499407 \t2.66545e-18  \t0.0146913  \n",
            "14 \t23    \t0.0049142  \t0.00691403 \t1.80052e-24  \t0.0146913  \n",
            "15 \t16    \t0.0100358  \t0.00669407 \t-3.59091e-25 \t0.0146913  \n",
            "16 \t22    \t0.0142016  \t0.00263716 \t-5.41286e-26 \t0.0146913  \n",
            "17 \t16    \t0.0146913  \t5.20417e-18\t0.0146913    \t0.0146913  \n",
            "18 \t13    \t0.0142016  \t0.00263716 \t1.58623e-24  \t0.0146913  \n",
            "19 \t16    \t0.0146913  \t5.20417e-18\t0.0146913    \t0.0146913  \n",
            "20 \t21    \t-0.000337467\t0.0709863  \t-0.381785    \t0.0146913  \n",
            "gen\tnevals\tavg        \tstd\tmin\tmax         \n",
            "0  \t30    \t1.3086e-270\t0  \t0  \t3.92579e-269\n",
            "1  \t20    \t4.48327e-168\t0  \t0  \t1.34498e-166\n",
            "2  \t20    \t2.80673e-144\t1.05018e-143\t0  \t4.21009e-143\n",
            "3  \t18    \t6.6297e-88  \t3.5702e-87  \t0  \t1.98891e-86 \n",
            "4  \t12    \t2.65188e-87 \t6.76099e-87 \t0  \t1.98891e-86 \n",
            "5  \t17    \t7.29267e-87 \t9.58445e-87 \t5.23445e-224\t1.98891e-86 \n",
            "6  \t20    \t1.59113e-86 \t7.95564e-87 \t5.81369e-238\t1.98891e-86 \n",
            "7  \t16    \t4.53431e-24 \t2.4418e-23  \t5.23445e-224\t1.36029e-22 \n",
            "8  \t21    \t1.36029e-23 \t4.08088e-23 \t3.02212e-88 \t1.36029e-22 \n",
            "9  \t21    \t7.91209e-09 \t4.26079e-08 \t1.98891e-86 \t2.37363e-07 \n",
            "10 \t20    \t1.58242e-08 \t5.92087e-08 \t1.98891e-86 \t2.37363e-07 \n",
            "11 \t20    \t7.9121e-09  \t4.26079e-08 \t1.99686e-67 \t2.37363e-07 \n",
            "12 \t11    \t1.58242e-08 \t5.92087e-08 \t1.36029e-22 \t2.37363e-07 \n",
            "13 \t18    \t3.95605e-08 \t8.84599e-08 \t1.36029e-22 \t2.37363e-07 \n",
            "14 \t17    \t0.00923976  \t0.0497571   \t4.1212e-14  \t0.27719     \n",
            "15 \t19    \t0.0265712   \t0.0837671   \t-0.0344367  \t0.27719     \n",
            "16 \t22    \t0.0519946   \t0.113057    \t-0.0344367  \t0.27719     \n",
            "17 \t25    \t0.0912622   \t0.131614    \t-0.0344367  \t0.27719     \n",
            "18 \t22    \t0.183646    \t0.132426    \t-0.0344367  \t0.27719     \n",
            "19 \t13    \t0.258725    \t0.0690895   \t1.10517e-24 \t0.27719     \n",
            "20 \t21    \t0.242526    \t0.506386    \t-2.13857    \t1.65303     \n",
            "gen\tnevals\tavg        \tstd        \tmin         \tmax        \n",
            "0  \t30    \t7.33485e-15\t3.94994e-14\t-4.31404e-32\t2.20046e-13\n",
            "1  \t17    \t1.46697e-14\t5.4889e-14 \t0           \t2.20046e-13\n",
            "2  \t16    \t2.1447e-14 \t5.84998e-14\t0           \t2.20046e-13\n",
            "3  \t12    \t6.09169e-14\t8.72285e-14\t-1.76704e-244\t2.20046e-13\n",
            "4  \t15    \t1.21981e-13\t9.33655e-14\t0            \t2.20046e-13\n",
            "5  \t23    \t1.819e-13  \t7.30815e-14\t1.24244e-82  \t2.20046e-13\n",
            "6  \t12    \t-8.20785e-07\t4.42006e-06\t-2.46236e-05 \t2.20046e-13\n",
            "7  \t17    \t2.0634e-13  \t5.14162e-14\t1.80426e-33  \t2.20046e-13\n",
            "8  \t16    \t3.92079e-11 \t2.08452e-10\t2.20046e-13  \t1.16173e-09\n",
            "9  \t16    \t3.94714e-11 \t2.08408e-10\t1.83376e-25  \t1.16173e-09\n",
            "10 \t19    \t4.02913e-11 \t2.08267e-10\t2.20046e-13  \t1.16173e-09\n",
            "11 \t17    \t1.44235e-09 \t7.32046e-09\t6.58539e-44  \t4.08336e-08\n",
            "12 \t22    \t4.54529e-09 \t1.33269e-08\t-1.08631e-31 \t5.10796e-08\n",
            "13 \t24    \t1.90089e-06 \t9.88355e-06\t2.20046e-13  \t5.51005e-05\n",
            "14 \t19    \t-0.0658667  \t0.354724   \t-1.97611     \t5.51005e-05\n",
            "15 \t15    \t-0.0471099  \t0.372156   \t-1.97611     \t0.562645   \n",
            "16 \t20    \t-0.197607   \t0.592836   \t-1.97611     \t5.51005e-05\n",
            "17 \t20    \t-0.197605   \t0.592836   \t-1.97611     \t5.51005e-05\n",
            "18 \t19    \t-0.197601   \t0.592837   \t-1.97611     \t5.51005e-05\n",
            "19 \t19    \t-0.329341   \t0.736459   \t-1.97611     \t5.51005e-05\n",
            "20 \t24    \t-0.18923    \t0.806332   \t-1.97611     \t2.22694    \n",
            "gen\tnevals\tavg          \tstd\tmin          \tmax         \n",
            "0  \t30    \t-2.27617e-238\t0  \t-6.82852e-237\t1.14524e-271\n",
            "1  \t21    \t1.23578e-268 \t0  \t0            \t3.70722e-267\n",
            "2  \t20    \t1.19916e-186 \t0  \t-3.48187e-309\t3.59748e-185\n",
            "3  \t16    \t4.79664e-186 \t0  \t0            \t3.59748e-185\n",
            "4  \t23    \t1.31908e-185 \t0  \t0            \t3.59748e-185\n",
            "5  \t22    \t2.87798e-185 \t0  \t2.87393e-218 \t3.59748e-185\n",
            "6  \t21    \t3.13754e-123 \t1.68961e-122\t4.34709e-305 \t9.41261e-122\n",
            "7  \t21    \t4.31802e-112 \t2.32533e-111\t3.59748e-185 \t1.29541e-110\n",
            "8  \t21    \t2.19627e-122 \t3.98109e-122\t0            \t9.41261e-122\n",
            "9  \t15    \t4.39255e-122 \t4.69583e-122\t3.59748e-185 \t9.41261e-122\n",
            "10 \t19    \t5.06712e-103 \t1.89594e-102\t3.59748e-185 \t7.60067e-102\n",
            "11 \t15    \t8.23395e-78  \t4.43412e-77 \t5.68473e-195 \t2.47018e-76 \n",
            "12 \t16    \t1.64679e-77  \t6.16172e-77 \t9.41261e-122 \t2.47018e-76 \n",
            "13 \t14    \t7.51373e-77  \t1.81227e-76 \t9.41261e-122 \t5.86694e-76 \n",
            "14 \t18    \t2.03798e-76  \t2.74293e-76 \t3.20014e-102 \t5.86694e-76 \n",
            "15 \t15    \t3.96274e-76  \t2.58974e-76 \t7.60067e-102 \t5.86694e-76 \n",
            "16 \t12    \t1.70899e-32  \t9.20317e-32 \t2.47018e-76  \t5.12696e-31 \n",
            "17 \t22    \t5.12696e-32  \t1.53809e-31 \t7.9876e-107  \t5.12696e-31 \n",
            "18 \t17    \t1.19644e-31  \t2.16838e-31 \t5.86694e-76  \t5.12696e-31 \n",
            "19 \t13    \t2.22227e-31  \t2.54008e-31 \t4.88436e-132 \t5.12696e-31 \n",
            "20 \t22    \t4.10186e-31  \t2.0502e-31  \t5.86694e-76  \t5.12696e-31 \n",
            "gen\tnevals\tavg         \tstd\tmin\tmax         \n",
            "0  \t30    \t5.66588e-164\t0  \t0  \t1.69976e-162\n",
            "1  \t16    \t5.66588e-164\t0  \t-8.98719e-197\t1.69976e-162\n",
            "2  \t15    \t-0.0333333  \t0.179505\t-1           \t1.69976e-162\n",
            "3  \t19    \t5.66588e-164\t0       \t0            \t1.69976e-162\n",
            "4  \t14    \t4.93755e-105\t2.65895e-104\t0            \t1.48126e-103\n",
            "5  \t26    \t4.93755e-105\t2.65895e-104\t-7.38608e-138\t1.48126e-103\n",
            "6  \t14    \t1.48126e-104\t4.44379e-104\t1.27705e-205 \t1.48126e-103\n",
            "7  \t17    \t8.11916e-102\t4.35305e-101\t-2.49307e-176\t2.42538e-100\n",
            "8  \t20    \t2.34515e-94 \t1.2629e-93  \t1.27705e-205 \t7.03546e-93 \n",
            "9  \t23    \t1.05241e-91 \t5.61519e-91 \t8.34596e-158 \t3.12908e-90 \n",
            "10 \t20    \t4.19322e-91 \t1.06286e-90 \t1.48126e-103 \t3.12908e-90 \n",
            "11 \t13    \t1.52698e-15 \t8.22304e-15 \t2.56752e-108 \t4.58094e-14 \n",
            "12 \t22    \t6.97496e-13 \t2.60979e-12 \t1.48126e-103 \t1.04624e-11 \n",
            "13 \t13    \t2.09402e-12 \t4.18422e-12 \t7.03546e-93  \t1.04624e-11 \n",
            "14 \t17    \t6.28052e-12 \t5.1218e-12  \t3.12908e-90  \t1.04624e-11 \n",
            "15 \t19    \t2.66713e-07 \t1.43625e-06 \t3.12908e-90  \t8.00113e-06 \n",
            "16 \t24    \t8.92325e-07 \t2.41808e-06 \t1.04624e-11  \t8.00113e-06 \n",
            "17 \t22    \t0.00054858  \t0.00294676  \t1.85982e-103 \t0.0164174   \n",
            "18 \t23    \t0.000549913 \t0.00294652  \t1.44473e-53  \t0.0164174   \n",
            "19 \t22    \t0.00274157  \t0.00611601  \t2.40021e-21  \t0.0164174   \n",
            "20 \t14    \t0.00657175  \t0.00803892  \t8.00113e-06  \t0.0164174   \n",
            "gen\tnevals\tavg        \tstd        \tmin         \tmax         \n",
            "0  \t30    \t-2.3792e-96\t1.28124e-95\t-7.13761e-95\t3.10048e-127\n",
            "1  \t17    \t3.10048e-128\t9.30145e-128\t0           \t3.10048e-127\n",
            "2  \t16    \t1.03349e-127\t1.46158e-127\t0           \t3.10048e-127\n",
            "3  \t18    \t1.86029e-127\t1.51892e-127\t0           \t3.10048e-127\n",
            "4  \t26    \t2.68709e-127\t1.05396e-127\t0           \t3.10048e-127\n",
            "5  \t19    \t3.31465e-127\t1.81636e-127\t4.255e-242  \t1.26261e-126\n",
            "6  \t13    \t3.63218e-127\t2.46717e-127\t4.60328e-139\t1.26261e-126\n",
            "7  \t17    \t4.58474e-127\t3.63873e-127\t1.82225e-140\t1.26261e-126\n",
            "8  \t14    \t6.48987e-127\t4.70139e-127\t2.4906e-149 \t1.26261e-126\n",
            "9  \t20    \t1.07138e-126\t3.82475e-127\t2.88552e-127\t1.26261e-126\n",
            "10 \t15    \t3.97416e-90 \t2.14015e-89 \t1.26261e-126\t1.19225e-88 \n",
            "11 \t18    \t7.94832e-90 \t2.97399e-89 \t1.26261e-126\t1.19225e-88 \n",
            "12 \t17    \t3.57674e-89 \t5.46357e-89 \t1.26261e-126\t1.19225e-88 \n",
            "13 \t22    \t5.00144e-41 \t2.69336e-40 \t1.26261e-126\t1.50043e-39 \n",
            "14 \t18    \t2.52632e-33 \t1.36046e-32 \t3.36558e-89 \t7.57895e-32 \n",
            "15 \t15    \t1.51579e-32 \t3.03158e-32 \t5.70261e-211\t7.57895e-32 \n",
            "16 \t22    \t6.94792e-31 \t3.58908e-30 \t1.87604e-92 \t2.00217e-29 \n",
            "17 \t20    \t2.71827e-30 \t6.78702e-30 \t5.31514e-39 \t2.00217e-29 \n",
            "18 \t13    \t8.71411e-30 \t9.88819e-30 \t1.41825e-36 \t2.00217e-29 \n",
            "19 \t13    \t1.60325e-29 \t7.97835e-30 \t7.57895e-32 \t2.00217e-29 \n",
            "20 \t13    \t1.94278e-29 \t3.19835e-30 \t2.20409e-30 \t2.00217e-29 \n",
            "gen\tnevals\tavg         \tstd\tmin          \tmax         \n",
            "0  \t30    \t5.61494e-165\t0  \t-1.19015e-304\t1.68448e-163\n",
            "1  \t15    \t5.61494e-165\t0  \t0            \t1.68448e-163\n",
            "2  \t18    \t5.61494e-165\t0  \t0            \t1.68448e-163\n",
            "3  \t13    \t1.11903e-164\t0  \t-1.18612e-165\t1.68448e-163\n",
            "4  \t25    \t5.61494e-165\t0  \t0            \t1.68448e-163\n",
            "5  \t16    \t5.61494e-165\t0  \t-1.06038e-218\t1.68448e-163\n",
            "6  \t19    \t5.61494e-165\t0  \t-1.06038e-218\t1.68448e-163\n",
            "7  \t17    \t1.12299e-164\t0  \t0            \t1.68448e-163\n",
            "8  \t18    \t3.93046e-164\t0  \t1.18222e-180 \t1.68448e-163\n",
            "9  \t13    \t9.54539e-164\t0  \t1.18222e-180 \t1.68448e-163\n",
            "10 \t20    \t1.57218e-163\t0  \t1.18222e-180 \t1.68448e-163\n",
            "11 \t14    \t1.68448e-163\t0  \t1.68448e-163 \t1.68448e-163\n",
            "12 \t13    \t3.66391e-98 \t1.97308e-97\t3.99753e-209 \t1.09917e-96 \n",
            "13 \t16    \t1.09917e-97 \t3.29752e-97\t5.25459e-183 \t1.09917e-96 \n",
            "14 \t22    \t4.76309e-97 \t5.4468e-97 \t1.68448e-163 \t1.09917e-96 \n",
            "15 \t18    \t9.89257e-97 \t3.29752e-97\t1.68448e-163 \t1.09917e-96 \n",
            "16 \t22    \t1.06253e-96 \t1.97308e-97\t9.15105e-135 \t1.09917e-96 \n",
            "17 \t9     \t6.86534e-48 \t3.6971e-47 \t1.06564e-116 \t2.0596e-46  \n",
            "18 \t20    \t2.74614e-47 \t7.0013e-47 \t1.2936e-114  \t2.0596e-46  \n",
            "19 \t12    \t9.61148e-47 \t1.02751e-46\t1.09917e-96  \t2.0596e-46  \n",
            "20 \t21    \t1.85364e-46 \t6.17881e-47\t1.09917e-96  \t2.0596e-46  \n",
            "gen\tnevals\tavg         \tstd         \tmin\tmax         \n",
            "0  \t30    \t2.13694e-145\t1.15078e-144\t0  \t6.41083e-144\n",
            "1  \t20    \t2.13694e-145\t1.15078e-144\t0  \t6.41083e-144\n",
            "2  \t19    \t1.39663e-25 \t7.52109e-25 \t0  \t4.18989e-24 \n",
            "3  \t18    \t2.93043e-25 \t1.04409e-24 \t0  \t4.18989e-24 \n",
            "4  \t21    \t5.58652e-25 \t1.42429e-24 \t-2.1046e-56\t4.18989e-24 \n",
            "5  \t21    \t-0.000345428\t0.0018766   \t-0.0104509 \t8.80234e-05 \n",
            "6  \t20    \t6.65527e-10 \t3.58397e-09 \t-2.30237e-52\t1.99658e-08 \n",
            "7  \t23    \t6.65527e-10 \t3.58397e-09 \t-5.80387e-93\t1.99658e-08 \n",
            "8  \t20    \t6.65527e-10 \t3.58397e-09 \t6.34882e-76 \t1.99658e-08 \n",
            "9  \t22    \t1.33105e-09 \t4.98035e-09 \t1.43275e-29 \t1.99658e-08 \n",
            "10 \t18    \t1.99658e-09 \t5.98974e-09 \t4.18989e-24 \t1.99658e-08 \n",
            "11 \t17    \t4.08638e-08 \t1.52394e-07 \t4.18989e-24 \t8.29109e-07 \n",
            "12 \t19    \t6.925e-08   \t2.03253e-07 \t4.18989e-24 \t8.29109e-07 \n",
            "13 \t21    \t2.36361e-07 \t3.57456e-07 \t1.99658e-08 \t8.29109e-07 \n",
            "14 \t21    \t5.31758e-07 \t3.90812e-07 \t7.5943e-12  \t8.29109e-07 \n",
            "15 \t16    \t1.27692e-06 \t2.64317e-06 \t-3.71092e-07\t1.54635e-05 \n",
            "16 \t13    \t8.29109e-07 \t1.05879e-22 \t8.29109e-07 \t8.29109e-07 \n",
            "17 \t21    \t0.00119592  \t0.0064359   \t1.01436e-11 \t0.0358543   \n",
            "18 \t14    \t0.00358617  \t0.010756    \t8.29109e-07 \t0.0358543   \n",
            "19 \t20    \t0.0405233   \t0.165709    \t8.29109e-07 \t0.928849    \n",
            "20 \t21    \t0.0834361   \t0.226555    \t8.29109e-07 \t0.928849    \n",
            "gen\tnevals\tavg        \tstd        \tmin\tmax        \n",
            "0  \t30    \t7.75331e-49\t4.17529e-48\t0  \t2.32599e-47\n",
            "1  \t18    \t7.75331e-49\t4.17529e-48\t0  \t2.32599e-47\n",
            "2  \t23    \t6.75763e-54\t3.6391e-53 \t0  \t2.02729e-52\n",
            "3  \t23    \t3.64118e-40\t1.96084e-39\t0  \t1.09235e-38\n",
            "4  \t21    \t2.84165e-39\t8.08679e-39\t0  \t4.15553e-38\n",
            "5  \t17    \t7.50389e-39\t1.05129e-38\t7.97158e-191\t4.15553e-38\n",
            "6  \t19    \t4.30985e-37\t2.25358e-36\t2.02729e-52 \t1.25667e-35\n",
            "7  \t21    \t3.14434e-11\t1.69328e-10\t1.62973e-53 \t9.43302e-10\n",
            "8  \t20    \t9.43302e-11\t2.82991e-10\t1.09235e-38 \t9.43302e-10\n",
            "9  \t20    \t9.14594e-09\t4.80279e-08\t1.09235e-38 \t2.67775e-07\n",
            "10 \t25    \t0.000644859\t0.00347232 \t4.15553e-38 \t0.0193439  \n",
            "11 \t19    \t1.60951e-07\t1.30832e-07\t4.15553e-38 \t2.67775e-07\n",
            "12 \t22    \t2.23272e-07\t9.95128e-08\t2.0293e-13  \t2.67775e-07\n",
            "13 \t20    \t2.67775e-07\t0          \t2.67775e-07 \t2.67775e-07\n",
            "14 \t20    \t3.10674e-07\t2.02656e-07\t1.98683e-12 \t1.10424e-06\n",
            "15 \t21    \t2.9285e-07 \t2.16901e-07\t8.50917e-29 \t1.10424e-06\n",
            "16 \t19    \t3.39602e-07\t2.1548e-07 \t2.67775e-07 \t9.86042e-07\n",
            "17 \t19    \t3.78561e-07\t2.75865e-07\t3.57152e-13 \t9.86042e-07\n",
            "18 \t17    \t5.22214e-07\t3.56114e-07\t5.94947e-48 \t9.86042e-07\n",
            "19 \t19    \t6.48017e-07\t3.93617e-07\t1.43492e-96 \t9.86042e-07\n",
            "20 \t22    \t-0.0969283 \t0.52198    \t-2.90787    \t9.86042e-07\n",
            "gen\tnevals\tavg         \tstd\tmin\tmax         \n",
            "0  \t30    \t2.93615e-204\t0  \t0  \t8.80846e-203\n",
            "1  \t16    \t2.93615e-204\t0  \t0  \t8.80846e-203\n",
            "2  \t18    \t0.0971568   \t0.523206\t0  \t2.91471     \n",
            "3  \t13    \t1.17148e-142\t6.30862e-142\t0  \t3.51445e-141\n",
            "4  \t19    \t0.0971568   \t0.523206    \t0  \t2.91471     \n",
            "5  \t24    \t0.194314    \t0.727055    \t0  \t2.91471     \n",
            "6  \t16    \t0.582941    \t1.16588     \t0  \t2.91471     \n",
            "7  \t13    \t1.4446      \t2.00342     \t-6.21231\t2.91471     \n",
            "8  \t15    \t2.52608     \t0.990809    \t1.90914e-188\t2.91471     \n",
            "9  \t14    \t2.81755     \t0.523206    \t1.50652e-22 \t2.91471     \n",
            "10 \t14    \t2.81755     \t0.523204    \t1.07265e-05 \t2.91471     \n",
            "11 \t12    \t2.91471     \t8.88178e-16 \t2.91471     \t2.91471     \n",
            "12 \t14    \t2.84473     \t0.548128    \t-3.00403e-32\t3.73001     \n",
            "13 \t22    \t2.91603     \t0.205429    \t2.13923     \t3.73001     \n",
            "14 \t23    \t2.97457     \t0.204063    \t2.91471     \t3.73001     \n",
            "15 \t20    \t2.96445     \t0.627149    \t4.19327e-06 \t3.73001     \n",
            "16 \t20    \t3.03134     \t0.93089     \t1.00516e-70 \t3.94118     \n",
            "17 \t23    \t3.43656     \t0.732947    \t4.41706e-18 \t3.94118     \n",
            "18 \t19    \t3.67935     \t0.514998    \t0.943236    \t3.94118     \n",
            "19 \t21    \t3.71836     \t0.697835    \t0.00176364  \t3.94118     \n",
            "20 \t22    \t3.80301     \t0.705876    \t0.00722921  \t3.94118     \n",
            "gen\tnevals\tavg          \tstd        \tmin         \tmax         \n",
            "0  \t30    \t-9.49868e-158\t5.1152e-157\t-2.8496e-156\t1.34081e-217\n",
            "1  \t14    \t1.34081e-218 \t0          \t0           \t1.34081e-217\n",
            "2  \t20    \t1.81696e-218 \t0          \t0           \t1.34081e-217\n",
            "3  \t18    \t3.66314e-218 \t0          \t0           \t1.34081e-217\n",
            "4  \t23    \t8.63788e-218 \t0          \t0           \t1.34081e-217\n",
            "5  \t23    \t1.21258e-217 \t0          \t3.35493e-223\t1.34081e-217\n",
            "6  \t16    \t1.34081e-217 \t0          \t1.34081e-217\t1.34081e-217\n",
            "7  \t15    \t1.25143e-217 \t0          \t7.40618e-252\t1.34081e-217\n",
            "8  \t22    \t1.29612e-217 \t0          \t1.01693e-223\t1.34081e-217\n",
            "9  \t13    \t1.33744e-217 \t0          \t1.28328e-217\t1.34081e-217\n",
            "10 \t14    \t1.87893e-110 \t1.01184e-109\t1.34081e-217\t5.6368e-109 \n",
            "11 \t15    \t8.24738e-125 \t4.44135e-124\t1.34081e-217\t2.47421e-123\n",
            "12 \t16    \t4.2516e-124  \t9.52749e-124\t1.15945e-217\t2.85793e-123\n",
            "13 \t17    \t1.24417e-123 \t1.33651e-123\t4.28057e-220\t2.85793e-123\n",
            "14 \t23    \t2.72728e-27  \t1.46868e-26 \t5.23217e-236\t8.18183e-26 \n",
            "15 \t15    \t5.86399e-27  \t2.19983e-26 \t2.23988e-169\t9.41013e-26 \n",
            "16 \t15    \t1.21374e-26  \t3.10053e-26 \t2.85793e-123\t9.41013e-26 \n",
            "17 \t20    \t2.7821e-26   \t4.25498e-26 \t2.85793e-123\t9.41013e-26 \n",
            "18 \t18    \t7.13255e-26  \t3.94652e-26 \t1.5809e-97  \t9.41013e-26 \n",
            "19 \t17    \t9.09646e-26  \t1.68917e-26 \t1.5809e-97  \t9.41013e-26 \n",
            "20 \t17    \t0.00157141   \t0.00846231  \t9.41013e-26 \t0.0471423   \n",
            "gen\tnevals\tavg        \tstd        \tmin\tmax        \n",
            "0  \t30    \t2.44071e-99\t1.31436e-98\t0  \t7.32212e-98\n",
            "1  \t13    \t-0.0333333 \t0.179505   \t-1 \t7.32212e-98\n",
            "2  \t21    \t2.44071e-99\t1.31436e-98\t0  \t7.32212e-98\n",
            "3  \t16    \t2.59884e-45\t7.79652e-45\t0  \t2.59884e-44\n",
            "4  \t18    \t7.79652e-45\t1.19094e-44\t0  \t2.59884e-44\n",
            "5  \t14    \t0.00103816 \t0.00559067 \t0  \t0.0311449  \n",
            "6  \t20    \t0.00207632 \t0.00776889 \t2.59884e-44\t0.0311449  \n",
            "7  \t20    \t0.00519081 \t0.011607   \t7.66208e-49\t0.0311449  \n",
            "8  \t24    \t0.0176488  \t0.0154334  \t2.59884e-44\t0.0311449  \n",
            "9  \t15    \t0.0290685  \t0.00776889 \t-1.08193e-27\t0.0311449  \n",
            "10 \t21    \t0.0311449  \t6.93889e-18\t0.0311449   \t0.0311449  \n",
            "11 \t11    \t0.0301067  \t0.00559067 \t6.80219e-20 \t0.0311449  \n",
            "12 \t15    \t0.0306142  \t0.00580767 \t0.00204763  \t0.0443231  \n",
            "13 \t22    \t0.210378   \t0.970802   \t5.54619e-35 \t5.43822    \n",
            "14 \t20    \t0.0307494  \t0.00253628 \t0.017165    \t0.0322023  \n",
            "15 \t22    \t0.0312859  \t0.000359444\t0.0311449   \t0.0322023  \n",
            "16 \t16    \t0.0316383  \t0.000527519\t0.0311449   \t0.0322023  \n",
            "17 \t10    \t0.029844   \t0.00798714 \t-2.23418e-29\t0.0322023  \n",
            "18 \t14    \t0.0310936  \t0.00577705 \t4.48824e-34 \t0.0322023  \n",
            "19 \t21    \t0.0322023  \t6.93889e-18\t0.0322023   \t0.0322023  \n",
            "20 \t16    \t0.0322601  \t0.000311385\t0.0322023   \t0.0339369  \n",
            "gen\tnevals\tavg         \tstd       \tmin      \tmax        \n",
            "0  \t30    \t-0.000517865\t0.00278879\t-0.015536\t2.61026e-29\n",
            "1  \t17    \t8.70087e-31 \t4.68556e-30\t0        \t2.61026e-29\n",
            "2  \t20    \t2.1307e-48  \t1.14742e-47\t0        \t6.3921e-47 \n",
            "3  \t22    \t7.37827e-25 \t3.97332e-24\t0        \t2.21348e-23\n",
            "4  \t23    \t7.37827e-25 \t3.97332e-24\t0        \t2.21348e-23\n",
            "5  \t22    \t1.47565e-24 \t5.52139e-24\t0        \t2.21348e-23\n",
            "6  \t18    \t4.75019e-24 \t1.18254e-23\t0        \t5.39663e-23\n",
            "7  \t14    \t5.78225e-17 \t1.73467e-16\t5.01255e-82\t5.78225e-16\n",
            "8  \t16    \t2.3129e-16  \t2.83271e-16\t6.3921e-47 \t5.78225e-16\n",
            "9  \t14    \t4.43305e-16 \t2.44562e-16\t2.61026e-29\t5.78225e-16\n",
            "10 \t8     \t5.78225e-16 \t9.86076e-32\t5.78225e-16\t5.78225e-16\n",
            "11 \t20    \t5.5895e-16  \t1.03794e-16\t2.51641e-32\t5.78225e-16\n",
            "12 \t20    \t4.87024e-11 \t2.62268e-10\t1.50953e-19\t1.46106e-09\n",
            "13 \t15    \t0.0195756   \t0.105418   \t5.78225e-16\t0.587269   \n",
            "14 \t12    \t0.0391513   \t0.146491   \t1.13613e-16\t0.587269   \n",
            "15 \t16    \t0.13703     \t0.248387   \t5.78225e-16\t0.587269   \n",
            "16 \t18    \t0.391513    \t0.276841   \t4.44212e-31\t0.587269   \n",
            "17 \t18    \t0.587269    \t1.11022e-16\t0.587269   \t0.587269   \n",
            "18 \t20    \t0.582736    \t0.0244123  \t0.451272   \t0.587269   \n",
            "19 \t22    \t0.523414    \t0.257372   \t-0.741132  \t0.587269   \n",
            "20 \t21    \t0.612449    \t0.135598   \t0.587269   \t1.34267    \n",
            "gen\tnevals\tavg        \tstd       \tmin         \tmax        \n",
            "0  \t30    \t1.18202e-08\t6.3654e-08\t-7.80603e-37\t3.54607e-07\n",
            "1  \t18    \t2.36405e-08\t8.84546e-08\t0           \t3.54607e-07\n",
            "2  \t26    \t2.36405e-08\t8.84546e-08\t0           \t3.54607e-07\n",
            "3  \t17    \t2.36405e-08\t8.84546e-08\t0           \t3.54607e-07\n",
            "4  \t13    \t5.91012e-08\t1.32154e-07\t0           \t3.54607e-07\n",
            "5  \t19    \t0.542811   \t1.21376    \t4.79112e-206\t3.25687    \n",
            "6  \t19    \t1.737      \t1.62481    \t1.18947e-33 \t3.25687    \n",
            "7  \t20    \t2.99224    \t0.839539   \t2.24396e-26 \t3.25687    \n",
            "8  \t15    \t3.16089    \t0.516869   \t0.377465    \t3.25687    \n",
            "9  \t15    \t3.25687    \t1.33227e-15\t3.25687     \t3.25687    \n",
            "10 \t26    \t3.03974    \t0.812406   \t-1.03608e-07\t3.25687    \n",
            "11 \t21    \t3.13497    \t0.586741   \t-0.00111657 \t3.25687    \n",
            "12 \t25    \t3.25687    \t1.33227e-15\t3.25687     \t3.25687    \n",
            "13 \t22    \t3.25687    \t1.33227e-15\t3.25687     \t3.25687    \n",
            "14 \t21    \t3.03974    \t0.812406   \t3.33843e-46 \t3.25687    \n",
            "15 \t24    \t3.25687    \t1.33227e-15\t3.25687     \t3.25687    \n",
            "16 \t17    \t3.14831    \t0.584626   \t1.99936e-08 \t3.25687    \n",
            "17 \t21    \t3.14831    \t0.584626   \t4.78019e-54 \t3.25687    \n",
            "18 \t21    \t2.82351    \t1.10485    \t-1.06118e-07\t3.25687    \n",
            "19 \t14    \t3.14831    \t0.584626   \t2.63977e-20 \t3.25687    \n",
            "20 \t18    \t3.14831    \t0.584625   \t5.74498e-06 \t3.25687    \n",
            "media: 1.172630\n",
            "mejor: 5.438220\n"
          ]
        }
      ],
      "source": [
        "# Inicializamos la lista de las soluciones. Almacenaremos el fitness\n",
        "# del mejor individuo de cada intento del algoritmo genético\n",
        "lista_mejores = list()\n",
        "\n",
        "# Lancamos el algoritmo 20 veces\n",
        "for i in range(20):\n",
        "    # Fijamos la semilla\n",
        "    random.seed(i)\n",
        "    best, log = main()\n",
        "    lista_mejores.append(best[0].fitness.values)\n",
        "\n",
        "# Mostramos los resultados. Al terminar el bucle, calculamos\n",
        "# la mediay el mejor resultado de todos los intentos\n",
        "media = np.mean(lista_mejores)\n",
        "mejor_total = max(lista_mejores)\n",
        "print(\"media: %f\" %media)\n",
        "print(\"mejor: %f\" %mejor_total)"
      ]
    },
    {
      "cell_type": "markdown",
      "id": "58544482-5ddf-43bb-a675-bd391f28cb26",
      "metadata": {
        "id": "58544482-5ddf-43bb-a675-bd391f28cb26"
      },
      "source": [
        "#### 6. Convergencia del algoritmo"
      ]
    },
    {
      "cell_type": "markdown",
      "id": "6a83e7b8-bb3e-447c-8459-97a963632f6c",
      "metadata": {
        "id": "6a83e7b8-bb3e-447c-8459-97a963632f6c"
      },
      "source": [
        "A partir del objeto `Logbook` [Objeto Logbook](https://deap.readthedocs.io/en/master/api/tools.html#logbook) que contiene todos los datos de evolución del algoritmo, desarrollamos la función `plot_evolution` para analizar la convergencia representando la evolución del Algoritmo Genético:"
      ]
    },
    {
      "cell_type": "code",
      "execution_count": null,
      "id": "d0b9017e-7242-40d8-9561-e3bbc2af2dbb",
      "metadata": {
        "id": "d0b9017e-7242-40d8-9561-e3bbc2af2dbb"
      },
      "outputs": [],
      "source": [
        "def plot_evolucion(log):\n",
        "    \"\"\"\n",
        "    Representa la evolución del mejor individuo en cada generación\n",
        "    \"\"\"\n",
        "    gen = log.select(\"gen\")\n",
        "    fit_mins = log.select(\"min\")\n",
        "    fit_maxs = log.select(\"max\")\n",
        "    fit_ave = log.select(\"avg\")\n",
        "\n",
        "    fig, ax1 = plt.subplots()\n",
        "    ax1.plot(gen, fit_mins, \"b\")\n",
        "    ax1.plot(gen, fit_maxs, \"r\")\n",
        "    ax1.plot(gen, fit_ave, \"--k\")\n",
        "    # ax1.fill_between(gen, fit_mins, fit_maxs, where=fit_maxs >= fit_mins, facecolor='g', alpha = 0.2)\n",
        "    ax1.set_xlabel(\"Generation\")\n",
        "    ax1.set_ylabel(\"Fitness\")\n",
        "    ax1.set_ylim([-10, 160])\n",
        "    ax1.legend([\"Min\", \"Max\", \"Avg\"], loc=\"lower center\")\n",
        "    plt.grid(True)\n",
        "    plt.savefig(\"Convergencia.eps\", dpi = 300)"
      ]
    },
    {
      "cell_type": "markdown",
      "id": "587d8ead-61fd-49f1-8fcb-288953cf40c8",
      "metadata": {
        "id": "587d8ead-61fd-49f1-8fcb-288953cf40c8"
      },
      "source": [
        "Pintamos la Gráfica:"
      ]
    },
    {
      "cell_type": "code",
      "execution_count": null,
      "id": "e4b0ef3a-d346-42c8-82c0-41ba68263f8b",
      "metadata": {
        "colab": {
          "base_uri": "https://localhost:8080/",
          "height": 889
        },
        "id": "e4b0ef3a-d346-42c8-82c0-41ba68263f8b",
        "outputId": "d0688fce-c009-44d5-9df8-dd70a1ab08ce"
      },
      "outputs": [
        {
          "output_type": "stream",
          "name": "stderr",
          "text": [
            "WARNING:matplotlib.backends.backend_ps:The PostScript backend does not support transparency; partially transparent artists will be rendered opaque.\n"
          ]
        },
        {
          "output_type": "stream",
          "name": "stdout",
          "text": [
            "gen\tnevals\tavg\tstd\tmin\tmax\n",
            "0  \t8     \t0  \t0  \t0  \t0  \n",
            "1  \t2     \t0  \t0  \t0  \t0  \n",
            "2  \t4     \t0  \t0  \t0  \t0  \n",
            "3  \t4     \t0  \t0  \t0  \t0  \n",
            "4  \t4     \t0  \t0  \t0  \t0  \n",
            "5  \t4     \t0  \t0  \t0  \t0  \n",
            "6  \t6     \t0  \t0  \t0  \t0  \n",
            "7  \t4     \t0  \t0  \t0  \t0  \n",
            "8  \t3     \t0  \t0  \t0  \t0  \n",
            "9  \t3     \t0  \t0  \t0  \t0  \n",
            "10 \t3     \t0  \t0  \t0  \t0  \n",
            "11 \t6     \t0  \t0  \t0  \t0  \n",
            "12 \t6     \t0  \t0  \t0  \t0  \n",
            "13 \t5     \t0  \t0  \t0  \t0  \n",
            "14 \t6     \t0  \t0  \t0  \t0  \n",
            "15 \t6     \t0  \t0  \t0  \t0  \n",
            "16 \t4     \t0  \t0  \t0  \t0  \n",
            "17 \t2     \t0  \t0  \t0  \t0  \n",
            "18 \t6     \t0  \t0  \t0  \t0  \n",
            "19 \t4     \t0  \t0  \t0  \t0  \n",
            "20 \t4     \t0  \t0  \t0  \t0  \n",
            "Mejor fitness: 0.000000\n",
            "Mejor individuo [27.885359691576753, -94.99784895546661]\n"
          ]
        },
        {
          "output_type": "display_data",
          "data": {
            "text/plain": [
              "<Figure size 640x480 with 1 Axes>"
            ],
            "image/png": "[encoded data removed]"
          },
          "metadata": {}
        }
      ],
      "source": [
        "# Generación de población\n",
        "toolbox.register(\"population\", tools.initRepeat, list,\n",
        "                 toolbox.individual, 8)\n",
        "random.seed(42)\n",
        "best, log = main()\n",
        "print(\"Mejor fitness: %f\" %best[0].fitness.values)\n",
        "print(\"Mejor individuo %s\" %best[0])\n",
        "plot_evolucion(log)"
      ]
    },
    {
      "cell_type": "markdown",
      "id": "9d0f535b-91ba-4510-9ee4-34bd4d63761f",
      "metadata": {
        "id": "9d0f535b-91ba-4510-9ee4-34bd4d63761f"
      },
      "source": [
        "Dilema de la **exploración** vs la **explotación**: ¿Qué mecanismo u operadores genéticos favorecen la exploración cuales la explotación?. La respuesta a esta cuestión no está clara y es un **tema en discusión** en la literatura especializada. **La mezcla de selección, cruce y mutación generan exploración y explotación**"
      ]
    },
    {
      "cell_type": "markdown",
      "id": "71bfb789-6d4c-4838-b447-5e6155a44f91",
      "metadata": {
        "id": "71bfb789-6d4c-4838-b447-5e6155a44f91"
      },
      "source": [
        "**CÓDIGO COMPLETO** ----------------------------------------------------------------------------"
      ]
    },
    {
      "cell_type": "code",
      "execution_count": null,
      "id": "40c28bfa-094b-4c2a-a68c-3692350f719d",
      "metadata": {
        "colab": {
          "base_uri": "https://localhost:8080/",
          "height": 889
        },
        "id": "40c28bfa-094b-4c2a-a68c-3692350f719d",
        "outputId": "2f374d6b-c8f2-42e7-dec1-c27ef67a4730"
      },
      "outputs": [
        {
          "output_type": "stream",
          "name": "stderr",
          "text": [
            "WARNING:matplotlib.backends.backend_ps:The PostScript backend does not support transparency; partially transparent artists will be rendered opaque.\n"
          ]
        },
        {
          "output_type": "stream",
          "name": "stdout",
          "text": [
            "gen\tnevals\tavg    \tstd   \tmin    \tmax    \n",
            "0  \t30    \t77.9162\t24.544\t26.4289\t116.497\n",
            "1  \t15    \t98.1576\t15.6516\t58.7221\t123.194\n",
            "2  \t18    \t108.641\t17.0172\t47.071 \t131.857\n",
            "3  \t24    \t122.041\t7.64215\t99.9797\t134.549\n",
            "4  \t19    \t128.584\t3.92487\t122.005\t134.549\n",
            "5  \t11    \t132.005\t2.13284\t125.135\t134.549\n",
            "6  \t22    \t133.419\t1.60997\t131.169\t136.779\n",
            "7  \t20    \t130.449\t24.4622\t-1     \t136.779\n",
            "8  \t17    \t136.143\t1.12918\t133.455\t137.464\n",
            "9  \t16    \t136.686\t0.662231\t134.132\t137.486\n",
            "10 \t14    \t137.114\t0.611792\t136.779\t139.908\n",
            "11 \t15    \t137.235\t1.30432 \t131.674\t139.908\n",
            "12 \t23    \t137.979\t0.981347\t137.464\t140.041\n",
            "13 \t21    \t133.762\t25.0534 \t-1     \t140.101\n",
            "14 \t17    \t138.776\t1.53284 \t133.594\t140.101\n",
            "15 \t15    \t130.265\t35.0922 \t-1     \t140.101\n",
            "16 \t15    \t140.042\t0.0666659\t139.908\t140.101\n",
            "17 \t15    \t140.024\t0.334088 \t138.242\t140.101\n",
            "18 \t18    \t140.101\t5.68434e-14\t140.101\t140.101\n",
            "19 \t20    \t140.021\t0.347706   \t138.217\t140.101\n",
            "20 \t20    \t140.067\t0.183959   \t139.076\t140.101\n",
            "Mejor fitness: 140.100794\n",
            "Mejor individuo [-99.34638537370458, -98.78526358100852]\n"
          ]
        },
        {
          "output_type": "display_data",
          "data": {
            "text/plain": [
              "<Figure size 640x480 with 1 Axes>"
            ],
            "image/png": "[encoded data removed]"
          },
          "metadata": {}
        }
      ],
      "source": [
        "import random\n",
        "import math\n",
        "import numpy as np\n",
        "from deap import base\n",
        "from deap import creator\n",
        "from deap import tools\n",
        "from deap import algorithms\n",
        "import matplotlib.pyplot as plt\n",
        "\n",
        "# Creamos los objetos para definir el problema y el tipo de individuo\n",
        "creator.create(\"FitnessMax\", base.Fitness, weights=(1.0,))\n",
        "creator.create(\"Individual\", list, fitness=creator.FitnessMax)\n",
        "\n",
        "def funcion_objetivo(x):\n",
        "    \"\"\"\n",
        "    Función objetivo de nuestro problema\n",
        "    \"\"\"\n",
        "    for i in range(len(x)):\n",
        "        if x[i] > 100 or x[i] < -100:\n",
        "            return -1,\n",
        "    res = math.sqrt(x[0]**2 + x[1]**2)\n",
        "    return res,\n",
        "\n",
        "# def funcion_objetivo(x):\n",
        "#     \"\"\"\n",
        "#     Función objetivo de nuestro problema\n",
        "#     \"\"\"\n",
        "#     # x es x[0] e y es x[1]\n",
        "#     for i in range(len(x)):\n",
        "#         if x[i] > 100 or x[i] < -100:\n",
        "#             return -1,\n",
        "#     res = 3*(1-x[0])**2*math.exp(-(x[0]**2)-(x[1]+1)**2)-10*(x[0]/5-x[0]**3-x[1]**5)*math.exp(-x[0]**2-x[1]**2)-(1/3)*math.exp(-(x[0]+1)**2-x[1]**2)\n",
        "#     return res,\n",
        "toolbox = base.Toolbox()\n",
        "\n",
        "# Generación de genes\n",
        "toolbox.register(\"attr_uniform\", random.uniform, -100, 100)\n",
        "\n",
        "# Generación de inviduos y población\n",
        "toolbox.register(\"individual\", tools.initRepeat, creator.Individual,\n",
        "                 toolbox.attr_uniform, 2)\n",
        "toolbox.register(\"population\", tools.initRepeat, list,\n",
        "                 toolbox.individual, 30)\n",
        "\n",
        "# Registro de operaciones genéticas\n",
        "toolbox.register(\"evaluate\", funcion_objetivo)\n",
        "toolbox.register(\"mate\", tools.cxOnePoint)\n",
        "toolbox.register(\"mutate\", tools.mutGaussian, mu=0,\n",
        "                 sigma= 5, indpb=0.1)\n",
        "toolbox.register(\"select\", tools.selTournament, tournsize=3)\n",
        "\n",
        "def plot_evolucion(log):\n",
        "    \"\"\"\n",
        "    Representa la evolución del mejor individuo en cada generación\n",
        "    \"\"\"\n",
        "    gen = log.select(\"gen\")\n",
        "    fit_mins = log.select(\"min\")\n",
        "    fit_maxs = log.select(\"max\")\n",
        "    fit_ave = log.select(\"avg\")\n",
        "\n",
        "    fig, ax1 = plt.subplots()\n",
        "    ax1.plot(gen, fit_mins, \"b\")\n",
        "    ax1.plot(gen, fit_maxs, \"r\")\n",
        "    ax1.plot(gen, fit_ave, \"--k\")\n",
        "    ax1.fill_between(gen, fit_mins, fit_maxs, facecolor='g', alpha = 0.2)  #where=fit_maxs >= fit_mins\n",
        "    ax1.set_xlabel(\"Generation\")\n",
        "    ax1.set_ylabel(\"Fitness\")\n",
        "    ax1.set_ylim([-10, 160])\n",
        "    ax1.legend([\"Min\", \"Max\", \"Avg\"], loc=\"lower center\")\n",
        "    plt.grid(True)\n",
        "    plt.savefig(\"Convergencia.eps\", dpi = 300)\n",
        "\n",
        "def main():\n",
        "    random.seed(42)\n",
        "    CXPB, MUTPB, NGEN = 0.5, 0.2, 20\n",
        "    pop = toolbox.population()\n",
        "    hof = tools.HallOfFame(1)\n",
        "    stats = tools.Statistics(lambda ind: ind.fitness.values)\n",
        "    stats.register(\"avg\", np.mean)\n",
        "    stats.register(\"std\", np.std)\n",
        "    stats.register(\"min\", np.min)\n",
        "    stats.register(\"max\", np.max)\n",
        "    logbook = tools.Logbook()\n",
        "    pop, logbook = algorithms.eaSimple(pop, toolbox, cxpb=CXPB,\n",
        "                                       mutpb=MUTPB, ngen=NGEN, stats=stats,\n",
        "                                       halloffame=hof, verbose=True)\n",
        "    return hof, logbook\n",
        "\n",
        "\n",
        "best, log = main()\n",
        "print(\"Mejor fitness: %f\" %best[0].fitness.values)\n",
        "print(\"Mejor individuo %s\" %best[0])\n",
        "plot_evolucion(log)"
      ]
    },
    {
      "cell_type": "markdown",
      "id": "56189680-d960-4905-ba52-71da33dc2e2d",
      "metadata": {
        "id": "56189680-d960-4905-ba52-71da33dc2e2d"
      },
      "source": [
        "Si definimos `N` como el número de generaciones, `P` como el número de individuos de la población y `T` como el tiempo que tarda en ejecutarse la función objetivo, el tiempo total para obtener la solución al problema es `Ttotal = N x P x T` (calcula 100 individuos con 100 generaciones y 1 segundo en procesar la función objetivo) -> Existen mecanismos para evaluar los individuos de la población en paralelo."
      ]
    },
    {
      "cell_type": "markdown",
      "id": "533c50b2-f4e2-410e-b0c8-f9e93aa98a74",
      "metadata": {
        "id": "533c50b2-f4e2-410e-b0c8-f9e93aa98a74"
      },
      "source": [
        "#### 7. Para seguir aprendiendo"
      ]
    },
    {
      "cell_type": "markdown",
      "id": "829cbe85-79b4-412e-b529-f1d843b2eaf6",
      "metadata": {
        "id": "829cbe85-79b4-412e-b529-f1d843b2eaf6"
      },
      "source": [
        "[Holland 1992](https://github.com/yyccR/papers/blob/master/genetic%20algorithm/%E3%80%8AAdaptation%20in%20Natural%20and%20Artificial%20Systems%E3%80%8BJohn%20Holland%201992.pdf)"
      ]
    },
    {
      "cell_type": "markdown",
      "id": "f658bedc-59ad-4b57-8b7c-7b305d9e250b",
      "metadata": {
        "id": "f658bedc-59ad-4b57-8b7c-7b305d9e250b"
      },
      "source": [
        "[Goldberg 2006](http://www2.fiit.stuba.sk/~kvasnicka/Free%20books/Goldberg_Genetic_Algorithms_in_Search.pdf)"
      ]
    },
    {
      "cell_type": "markdown",
      "id": "9921b1a3-334c-4222-a99a-72a7d66794d8",
      "metadata": {
        "id": "9921b1a3-334c-4222-a99a-72a7d66794d8"
      },
      "source": [
        "[Ser, J.D. et al. 2019](https://www.sciencedirect.com/science/article/pii/S2210650218310277)"
      ]
    },
    {
      "cell_type": "markdown",
      "id": "eff06e92-58ad-4283-91d6-b778927af9f0",
      "metadata": {
        "id": "eff06e92-58ad-4283-91d6-b778927af9f0"
      },
      "source": [
        "1.- Encontrar los máximos de la función \"picos\"\n",
        "\n",
        "$$z = f(x,y) = 3(1-x)^2e^{-(x^2)-(y+1)^2}-10(x/5-x^3-y^5)e^{-x^2-y^2}-1/3e^{-(x+1)^2-y^2}$$"
      ]
    },
    {
      "cell_type": "markdown",
      "id": "d9386ded-6ef8-45e2-9ced-0f4932497ba5",
      "metadata": {
        "id": "d9386ded-6ef8-45e2-9ced-0f4932497ba5"
      },
      "source": [
        "En el dominio $$\\{x,y\\} \\in [-100,100]$$"
      ]
    },
    {
      "cell_type": "code",
      "source": [
        "import random\n",
        "import math\n",
        "import numpy as np\n",
        "from deap import base\n",
        "from deap import creator\n",
        "from deap import tools\n",
        "from deap import algorithms\n",
        "import matplotlib.pyplot as plt\n",
        "\n",
        "# Creamos los objetos para definir el problema y el tipo de individuo\n",
        "creator.create(\"FitnessMax\", base.Fitness, weights=(1.0,))\n",
        "creator.create(\"Individual\", list, fitness=creator.FitnessMax)\n",
        "\n",
        "def funcion_objetivo(x):\n",
        "    \"\"\"\n",
        "    Función objetivo de nuestro problema\n",
        "    \"\"\"\n",
        "    # x es x[0] e y es x[1]\n",
        "    for i in range(len(x)):\n",
        "        if x[i] > 100 or x[i] < -100:\n",
        "            return -1,\n",
        "    res = 3*(1-x[0])**2*math.exp(-(x[0]**2)-(x[1]+1)**2)-10*(x[0]/5-x[0]**3-x[1]**5)*math.exp(-x[0]**2-x[1]**2)-(1/3)*math.exp(-(x[0]+1)**2-x[1]**2)\n",
        "    return res,\n",
        "toolbox = base.Toolbox()\n",
        "\n",
        "# Generación de genes\n",
        "toolbox.register(\"attr_uniform\", random.uniform, -100, 100)\n",
        "\n",
        "# Generación de inviduos y población\n",
        "toolbox.register(\"individual\", tools.initRepeat, creator.Individual,\n",
        "                 toolbox.attr_uniform, 2)\n",
        "toolbox.register(\"population\", tools.initRepeat, list,\n",
        "                 toolbox.individual, 100)\n",
        "\n",
        "# Registro de operaciones genéticas\n",
        "toolbox.register(\"evaluate\", funcion_objetivo)\n",
        "toolbox.register(\"mate\", tools.cxOnePoint)\n",
        "toolbox.register(\"mutate\", tools.mutGaussian, mu=0,\n",
        "                 sigma= 5, indpb=0.2)\n",
        "toolbox.register(\"select\", tools.selTournament, tournsize=3)\n",
        "\n",
        "def plot_evolucion(log):\n",
        "    \"\"\"\n",
        "    Representa la evolución del mejor individuo en cada generación\n",
        "    \"\"\"\n",
        "    gen = log.select(\"gen\")\n",
        "    fit_mins = log.select(\"min\")\n",
        "    fit_maxs = log.select(\"max\")\n",
        "    fit_ave = log.select(\"avg\")\n",
        "\n",
        "    fig, ax1 = plt.subplots()\n",
        "    ax1.plot(gen, fit_mins, \"b\")\n",
        "    ax1.plot(gen, fit_maxs, \"r\")\n",
        "    ax1.plot(gen, fit_ave, \"--k\")\n",
        "    ax1.fill_between(gen, fit_mins, fit_maxs, facecolor='g', alpha = 0.2)  #where=fit_maxs >= fit_mins\n",
        "    ax1.set_xlabel(\"Generation\")\n",
        "    ax1.set_ylabel(\"Fitness\")\n",
        "    # ax1.set_ylim([-10, 160])\n",
        "    ax1.legend([\"Min\", \"Max\", \"Avg\"], loc=\"lower center\")\n",
        "    plt.grid(True)\n",
        "    plt.savefig(\"Convergencia.eps\", dpi = 300)\n",
        "\n",
        "def main():\n",
        "    random.seed(42)\n",
        "    CXPB, MUTPB, NGEN = 0.6, 0.4, 100\n",
        "    pop = toolbox.population()\n",
        "    hof = tools.HallOfFame(1)\n",
        "    stats = tools.Statistics(lambda ind: ind.fitness.values)\n",
        "    stats.register(\"avg\", np.mean)\n",
        "    stats.register(\"std\", np.std)\n",
        "    stats.register(\"min\", np.min)\n",
        "    stats.register(\"max\", np.max)\n",
        "    logbook = tools.Logbook()\n",
        "    pop, logbook = algorithms.eaSimple(pop, toolbox, cxpb=CXPB,\n",
        "                                       mutpb=MUTPB, ngen=NGEN, stats=stats,\n",
        "                                       halloffame=hof, verbose=True)\n",
        "    return hof, logbook\n",
        "\n",
        "\n",
        "best, log = main()\n",
        "print(\"Mejor fitness: %f\" %best[0].fitness.values)\n",
        "print(\"Mejor individuo %s\" %best[0])\n",
        "plot_evolucion(log)"
      ],
      "metadata": {
        "colab": {
          "base_uri": "https://localhost:8080/",
          "height": 1000
        },
        "id": "P5oTQIY1TVn5",
        "outputId": "72495372-2533-4414-91fa-89d64013f01f"
      },
      "id": "P5oTQIY1TVn5",
      "execution_count": null,
      "outputs": [
        {
          "output_type": "stream",
          "name": "stdout",
          "text": [
            "gen\tnevals\tavg        \tstd        \tmin         \tmax        \n",
            "0  \t100   \t1.93843e-50\t1.92871e-49\t-8.19747e-63\t1.93843e-48\n",
            "1  \t75    \t3.87685e-50\t2.7138e-49 \t-1.00655e-317\t1.93843e-48\n",
            "2  \t64    \t0.0334744  \t0.444839   \t-1           \t4.34744    \n",
            "3  \t74    \t0.0434744  \t0.432565   \t-2.77757e-08 \t4.34744    \n",
            "4  \t80    \t0.00810909 \t0.0667159  \t-2.77757e-08 \t0.653336   \n",
            "5  \t79    \t0.0130668  \t0.091467   \t-5.81821e-08 \t0.653336   \n",
            "6  \t82    \t-0.0175569 \t0.388218   \t-3.71774     \t0.653336   \n",
            "7  \t71    \t0.155032   \t0.728514   \t-5.81821e-08 \t6.57805    \n",
            "8  \t85    \t0.342319   \t1.20214    \t-9.34178e-06 \t6.57805    \n",
            "9  \t81    \t0.768278   \t1.8198     \t-0.032131    \t7.22416    \n",
            "10 \t83    \t1.4953     \t2.49183    \t-2.86776e-05 \t7.22416    \n",
            "11 \t81    \t3.45159    \t3.07587    \t-0.0837494   \t7.22416    \n",
            "12 \t80    \t5.19881    \t2.60859    \t-1.66264e-17 \t7.68289    \n",
            "13 \t75    \t5.85749    \t2.5023     \t-0.0138976   \t7.68289    \n",
            "14 \t75    \t6.01725    \t2.57169    \t-0.729919    \t7.68289    \n",
            "15 \t74    \t6.01945    \t2.91172    \t-5.78094     \t7.68289    \n",
            "16 \t72    \t6.61114    \t2.17952    \t-0.0433743   \t7.68289    \n",
            "17 \t66    \t7.05334    \t1.86182    \t-0.0863113   \t7.68289    \n",
            "18 \t84    \t6.49596    \t2.6012     \t-0.0152506   \t7.68289    \n",
            "19 \t78    \t6.39641    \t2.91033    \t-5.33114     \t7.68289    \n",
            "20 \t84    \t6.26345    \t2.98804    \t-5.25831     \t7.68289    \n",
            "21 \t89    \t6.58963    \t2.54451    \t-3.3159e-46  \t7.68289    \n",
            "22 \t77    \t6.4757     \t2.73649    \t-8.66537e-05 \t7.68289    \n",
            "23 \t74    \t6.59114    \t2.674      \t-2.12742     \t7.78321    \n",
            "24 \t72    \t6.6617     \t2.58191    \t-5.22697e-05 \t7.78321    \n",
            "25 \t73    \t6.79178    \t2.39884    \t-2.32398     \t7.78321    \n",
            "26 \t73    \t6.95277    \t2.26444    \t-1.23459     \t7.78321    \n",
            "27 \t81    \t6.91802    \t2.49974    \t-5.25916     \t7.78321    \n",
            "28 \t72    \t6.36123    \t2.88827    \t-0.00106284  \t7.78321    \n",
            "29 \t79    \t6.58648    \t2.80542    \t-3.49686     \t7.78321    \n",
            "30 \t78    \t6.78818    \t2.64178    \t-4.4929      \t7.78321    \n",
            "31 \t75    \t6.75631    \t2.6835     \t-5.13811     \t7.78321    \n",
            "32 \t73    \t6.3276     \t2.96885    \t-0.597186    \t7.78321    \n",
            "33 \t81    \t6.93566    \t2.35775    \t-0.000755191 \t7.78321    \n",
            "34 \t80    \t6.84005    \t2.45117    \t-0.532521    \t7.78321    \n",
            "35 \t76    \t6.25678    \t3.17337    \t-3.71899     \t7.78321    \n",
            "36 \t75    \t6.41372    \t2.92828    \t-0.00204518  \t7.78321    \n",
            "37 \t77    \t6.59996    \t2.70516    \t-0.259607    \t7.78321    \n",
            "38 \t78    \t6.9326     \t2.43323    \t-4.37741     \t7.78321    \n",
            "39 \t83    \t7.06441    \t2.19642    \t-7.61693e-06 \t7.78321    \n",
            "40 \t81    \t7.02988    \t2.27297    \t-7.32023e-09 \t8.05567    \n",
            "41 \t89    \t7.02666    \t2.21794    \t-4.05015e-05 \t8.05567    \n",
            "42 \t77    \t6.39014    \t2.96675    \t-1.0395      \t8.05567    \n",
            "43 \t77    \t6.06491    \t3.17133    \t-1.48562     \t8.0628     \n",
            "44 \t64    \t6.57562    \t2.7464     \t-5.96189e-07 \t8.0628     \n",
            "45 \t75    \t6.96627    \t2.42657    \t-0.186329    \t8.09998    \n",
            "46 \t75    \t6.87872    \t2.59       \t-0.180493    \t8.09998    \n",
            "47 \t69    \t7.06428    \t2.73277    \t-5.95952     \t8.09998    \n",
            "48 \t81    \t6.39797    \t3.27215    \t-3.61943     \t8.09998    \n",
            "49 \t88    \t6.23432    \t3.36556    \t-4.30496     \t8.09998    \n",
            "50 \t88    \t6.80192    \t2.81183    \t-0.000157291 \t8.09998    \n",
            "51 \t68    \t6.92057    \t2.98046    \t-5.94959     \t8.09998    \n",
            "52 \t73    \t7.15726    \t2.64584    \t-5.35373     \t8.09998    \n",
            "53 \t74    \t7.28952    \t2.38408    \t-1.01105e-23 \t8.09998    \n",
            "54 \t85    \t7.40835    \t2.34922    \t-5.5888      \t8.09998    \n",
            "55 \t77    \t7.1346     \t2.52586    \t-0.483729    \t8.09998    \n",
            "56 \t75    \t6.92218    \t2.91458    \t-3.6277      \t8.09998    \n",
            "57 \t68    \t7.0349     \t2.72546    \t-3.17451     \t8.09998    \n",
            "58 \t67    \t7.37313    \t2.31132    \t-2.60819e-06 \t8.09998    \n",
            "59 \t69    \t7.60352    \t1.92282    \t-8.75052e-06 \t8.09998    \n",
            "60 \t77    \t6.93495    \t2.78835    \t-0.737029    \t8.09998    \n",
            "61 \t78    \t6.8351     \t3.01045    \t-5.69911     \t8.09998    \n",
            "62 \t81    \t7.67008    \t1.75064    \t-6.74723e-26 \t8.09998    \n",
            "63 \t79    \t7.02209    \t2.79312    \t-1.27953     \t8.09998    \n",
            "64 \t68    \t6.74987    \t2.94838    \t-0.00548481  \t8.09998    \n",
            "65 \t85    \t7.58094    \t1.94853    \t-0.192808    \t8.09998    \n",
            "66 \t69    \t7.31394    \t2.39776    \t-2.74286     \t8.09998    \n",
            "67 \t78    \t7.01186    \t2.73608    \t-2.57051     \t8.09998    \n",
            "68 \t75    \t7.33639    \t2.254      \t7.26594e-21  \t8.09998    \n",
            "69 \t72    \t7.37379    \t2.31459    \t-1.02543     \t8.09998    \n",
            "70 \t79    \t7.31213    \t2.37537    \t-0.82686     \t8.09998    \n",
            "71 \t76    \t7.13344    \t2.57605    \t-1.56143     \t8.09998    \n",
            "72 \t71    \t6.28505    \t3.31354    \t-0.00101458  \t8.09998    \n",
            "73 \t72    \t7.31553    \t2.37125    \t-1.57224     \t8.09998    \n",
            "74 \t70    \t7.25361    \t2.43234    \t-0.658797    \t8.09998    \n",
            "75 \t70    \t7.39847    \t2.31039    \t-3.92432     \t8.09998    \n",
            "76 \t72    \t7.1288     \t2.57022    \t-0.262506    \t8.09998    \n",
            "77 \t78    \t6.83853    \t2.87999    \t-5.2568      \t8.09998    \n",
            "78 \t82    \t6.95048    \t2.89329    \t-4.65116     \t8.09998    \n",
            "79 \t69    \t7.36611    \t2.46591    \t-4.67583     \t8.09998    \n",
            "80 \t75    \t6.70054    \t3.1885     \t-5.7036      \t8.09998    \n",
            "81 \t75    \t7.08828    \t2.76619    \t-5.81804     \t8.09998    \n",
            "82 \t74    \t7.55208    \t2.0009     \t-0.00215313  \t8.09998    \n",
            "83 \t85    \t6.9981     \t2.74863    \t-0.0148205   \t8.09998    \n",
            "84 \t76    \t7.524      \t1.97791    \t-0.000819925 \t8.09998    \n",
            "85 \t78    \t7.16756    \t2.76122    \t-5.62566     \t8.09998    "
          ]
        },
        {
          "output_type": "stream",
          "name": "stderr",
          "text": [
            "WARNING:matplotlib.backends.backend_ps:The PostScript backend does not support transparency; partially transparent artists will be rendered opaque.\n"
          ]
        },
        {
          "output_type": "stream",
          "name": "stdout",
          "text": [
            "\n",
            "86 \t81    \t6.99496    \t2.90255    \t-5.23227     \t8.09998    \n",
            "87 \t77    \t6.69883    \t3.26174    \t-5.96188     \t8.09998    \n",
            "88 \t79    \t6.81404    \t2.8207     \t-0.0419434   \t8.09998    \n",
            "89 \t72    \t7.3012     \t2.39778    \t-0.114866    \t8.09998    \n",
            "90 \t69    \t7.29454    \t2.41671    \t-0.00752577  \t8.09998    \n",
            "91 \t70    \t6.62224    \t3.36071    \t-5.92299     \t8.09998    \n",
            "92 \t74    \t6.80331    \t2.99492    \t-3.06475     \t8.09998    \n",
            "93 \t81    \t6.7051     \t3.05267    \t-2.04419     \t8.09998    \n",
            "94 \t78    \t7.28843    \t2.34506    \t-0.0162178   \t8.09998    \n",
            "95 \t76    \t6.66713    \t3.26092    \t-5.57948     \t8.09998    \n",
            "96 \t81    \t6.96321    \t2.76181    \t-3.68349     \t8.09998    \n",
            "97 \t73    \t6.8255     \t3.07429    \t-4.42743     \t8.09998    \n",
            "98 \t71    \t6.91555    \t2.88098    \t-3.27154     \t8.09998    \n",
            "99 \t72    \t6.98078    \t2.77112    \t-0.351269    \t8.09998    \n",
            "100\t72    \t7.03761    \t2.62986    \t-9.19994e-06 \t8.09998    \n",
            "Mejor fitness: 8.099981\n",
            "Mejor individuo [-0.028260346959184363, 1.5668102936150532]\n"
          ]
        },
        {
          "output_type": "display_data",
          "data": {
            "text/plain": [
              "<Figure size 640x480 with 1 Axes>"
            ],
            "image/png": "[encoded data removed]"
          },
          "metadata": {}
        }
      ]
    },
    {
      "cell_type": "markdown",
      "id": "56526327-714a-4d16-ae23-90306b07ffca",
      "metadata": {
        "id": "56526327-714a-4d16-ae23-90306b07ffca"
      },
      "source": [
        "2.- Dada la [Función de Rastringin](https://en.wikipedia.org/wiki/Rastrigin_function#:~:text=In%20mathematical%20optimization%2C%20the%20Rastrigin,has%20been%20generalized%20by%20Rudolph.), con A = 10 y  $$\\{xi\\} \\in [-5.12,5.12]$$\n",
        "\n",
        "Implementa dicha función en Python y minimízala para n=10\n",
        "\n",
        "Compara el funcionamiento del Algoritmo Genético para cruce con un punto con cruce con dos puntos"
      ]
    },
    {
      "cell_type": "code",
      "execution_count": null,
      "id": "b08d616f-069a-4780-9a20-3403b1e3b66f",
      "metadata": {
        "id": "b08d616f-069a-4780-9a20-3403b1e3b66f",
        "colab": {
          "base_uri": "https://localhost:8080/",
          "height": 521
        },
        "outputId": "08a720f1-db83-4d4d-a6a9-c1c9bafbc55e"
      },
      "outputs": [
        {
          "output_type": "stream",
          "name": "stderr",
          "text": [
            "WARNING:matplotlib.backends.backend_ps:The PostScript backend does not support transparency; partially transparent artists will be rendered opaque.\n"
          ]
        },
        {
          "output_type": "stream",
          "name": "stdout",
          "text": [
            "Mejor fitness: 0.502530\n",
            "Mejor individuo [-0.012468141163842922, -0.011960353000072643, 0.00276402643682383, 0.010020402854939069, 0.02841274503152269, 0.0034539175654505674, 0.0073277189627479495, 0.011091434711158428, -0.017632400336245357, 0.028714826940134143]\n"
          ]
        },
        {
          "output_type": "display_data",
          "data": {
            "text/plain": [
              "<Figure size 640x480 with 1 Axes>"
            ],
            "image/png": "[encoded data removed]"
          },
          "metadata": {}
        }
      ],
      "source": [
        "import random\n",
        "import math\n",
        "import numpy as np\n",
        "from deap import base\n",
        "from deap import creator\n",
        "from deap import tools\n",
        "from deap import algorithms\n",
        "import matplotlib.pyplot as plt\n",
        "\n",
        "A = 10\n",
        "N = 10  # Number of dimensions\n",
        "\n",
        "creator.create(\"FitnessMin\", base.Fitness, weights=(-1.0,))  # Minimize the function\n",
        "creator.create(\"Individual\", list, fitness=creator.FitnessMin)\n",
        "\n",
        "def rastrigin(x):\n",
        "    \"\"\"\n",
        "    Rastrigin test objective function, shifted by 10. units away from origin\n",
        "    \"\"\"\n",
        "    return A*N + sum([(xi**2 - A * np.cos(2 * math.pi * xi)) for xi in x]),\n",
        "\n",
        "toolbox = base.Toolbox()\n",
        "toolbox.register(\"attr_float\", random.uniform, -5.12, 5.12)\n",
        "toolbox.register(\"individual\", tools.initRepeat, creator.Individual, toolbox.attr_float, n=N)\n",
        "toolbox.register(\"population\", tools.initRepeat, list, toolbox.individual)\n",
        "\n",
        "toolbox.register(\"evaluate\", rastrigin)\n",
        "toolbox.register(\"mate\", tools.cxOnePoint)\n",
        "toolbox.register(\"mutate\", tools.mutGaussian, mu=0, sigma=1, indpb=0.1)\n",
        "# toolbox.register(\"mutate\", tools.mutUniformInt, low=-5.12, up=5.12, indpb=0.1)\n",
        "# toolbox.register(\"mutate\", tools.mutPolynomialBounded, eta=20.0, low=-5.12, up=5.12, indpb=0.1)\n",
        "toolbox.register(\"select\", tools.selTournament, tournsize=3)\n",
        "# toolbox.register(\"select\", tools.selWorst)\n",
        "\n",
        "# For two-point crossover, you can simply replace the mate function:\n",
        "toolbox.register(\"mate\", tools.cxTwoPoint)\n",
        "\n",
        "def plot_evolucion(log):\n",
        "    \"\"\"\n",
        "    Representa la evolución del mejor individuo en cada generación\n",
        "    \"\"\"\n",
        "    gen = log.select(\"gen\")\n",
        "    fit_mins = log.select(\"min\")\n",
        "    fit_maxs = log.select(\"max\")\n",
        "    fit_ave = log.select(\"avg\")\n",
        "\n",
        "    fig, ax1 = plt.subplots()\n",
        "    ax1.plot(gen, fit_mins, \"b\")\n",
        "    ax1.plot(gen, fit_maxs, \"r\")\n",
        "    ax1.plot(gen, fit_ave, \"--k\")\n",
        "    ax1.fill_between(gen, fit_mins, fit_maxs, facecolor='g', alpha = 0.2)  #where=fit_maxs >= fit_mins\n",
        "    ax1.set_xlabel(\"Generation\")\n",
        "    ax1.set_ylabel(\"Fitness\")\n",
        "    # ax1.set_ylim([-10, 160])\n",
        "    ax1.legend([\"Min\", \"Max\", \"Avg\"], loc=\"upper right\")\n",
        "    plt.grid(True)\n",
        "    plt.savefig(\"Convergencia.eps\", dpi = 300)\n",
        "\n",
        "def main():\n",
        "    random.seed(42)\n",
        "    CXPB, MUTPB, NGEN = 0.7, 0.3, 1000\n",
        "    pop = toolbox.population(n=10)\n",
        "    hof = tools.HallOfFame(1)\n",
        "    stats = tools.Statistics(lambda ind: ind.fitness.values)\n",
        "    stats.register(\"avg\", np.mean)\n",
        "    stats.register(\"std\", np.std)\n",
        "    stats.register(\"min\", np.min)\n",
        "    stats.register(\"max\", np.max)\n",
        "    logbook = tools.Logbook()\n",
        "    pop, logbook = algorithms.eaSimple(pop, toolbox, cxpb=CXPB,\n",
        "                                       mutpb=MUTPB, ngen=NGEN, stats=stats,\n",
        "                                       halloffame=hof, verbose=False)\n",
        "    return hof, logbook\n",
        "\n",
        "\n",
        "best, log = main()\n",
        "print(\"Mejor fitness: %f\" %best[0].fitness.values)\n",
        "print(\"Mejor individuo %s\" %best[0])\n",
        "plot_evolucion(log)"
      ]
    }
  ],
  "metadata": {
    "kernelspec": {
      "display_name": "Python 3 (ipykernel)",
      "language": "python",
      "name": "python3"
    },
    "language_info": {
      "codemirror_mode": {
        "name": "ipython",
        "version": 3
      },
      "file_extension": ".py",
      "mimetype": "text/x-python",
      "name": "python",
      "nbconvert_exporter": "python",
      "pygments_lexer": "ipython3",
      "version": "3.9.7"
    },
    "colab": {
      "provenance": [],
      "include_colab_link": true
    }
  },
  "nbformat": 4,
  "nbformat_minor": 5
}