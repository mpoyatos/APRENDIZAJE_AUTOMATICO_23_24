{
  "nbformat": 4,
  "nbformat_minor": 0,
  "metadata": {
    "colab": {
      "name": "4_1_Redes Neuronales Convolucionales.ipynb",
      "provenance": [],
      "gpuType": "T4",
      "include_colab_link": true
    },
    "kernelspec": {
      "name": "python3",
      "display_name": "Python 3"
    },
    "language_info": {
      "name": "python"
    },
    "accelerator": "GPU"
  },
  "cells": [
    {
      "cell_type": "markdown",
      "metadata": {
        "id": "view-in-github",
        "colab_type": "text"
      },
      "source": [
        "<a href=\"https://colab.research.google.com/github/mpoyatos/APRENDIZAJE_AUTOMATICO_23_24/blob/main/TEMA%201/3_5_Redes_Neuronales_Convolucionales.ipynb\" target=\"_parent\"><img src=\"https://colab.research.google.com/assets/colab-badge.svg\" alt=\"Open In Colab\"/></a>"
      ]
    },
    {
      "cell_type": "markdown",
      "metadata": {
        "id": "7TOcLOy6ocgr"
      },
      "source": [
        "# Redes Neuronales Convolucionales"
      ]
    },
    {
      "cell_type": "code",
      "metadata": {
        "colab": {
          "base_uri": "https://localhost:8080/"
        },
        "id": "p1JMu4L_k8BQ",
        "outputId": "72127ce9-e71f-4a4e-a4b1-7b2bbbeac8a3"
      },
      "source": [
        "%tensorflow_version 2.x\n",
        "import tensorflow as tf\n",
        "from tensorflow import keras\n",
        "\n",
        "import numpy as np\n",
        "import matplotlib.pyplot as plt\n",
        "\n",
        "print(tf.__version__)#"
      ],
      "execution_count": 1,
      "outputs": [
        {
          "output_type": "stream",
          "name": "stdout",
          "text": [
            "Colab only includes TensorFlow 2.x; %tensorflow_version has no effect.\n",
            "2.15.0\n"
          ]
        }
      ]
    },
    {
      "cell_type": "markdown",
      "metadata": {
        "id": "kGH8LG8_olEN"
      },
      "source": [
        "## Datos digits MNIST"
      ]
    },
    {
      "cell_type": "code",
      "metadata": {
        "colab": {
          "base_uri": "https://localhost:8080/"
        },
        "id": "-uOOAaPim-lb",
        "outputId": "4cc7d20b-dc6e-405e-d8dd-233476d68526"
      },
      "source": [
        "from tensorflow.keras import Sequential\n",
        "from tensorflow.keras.layers import Conv2D\n",
        "from tensorflow.keras.layers import MaxPooling2D\n",
        "\n",
        "model = Sequential() # Sigue siendo secuencial, pero con dos capas\n",
        "model.add(Conv2D(32, (5, 5), activation='relu', input_shape=(28, 28, 1))) # La red acepta la imagen como es, en 28x28, sin reshape.\n",
        "  # Capa comvolucional\n",
        "  # Cada uno de los 32 es un filtro que aprende una cosa o caracteristica (bordes, diferencias de luminosidad o color, picos, ...)\n",
        "  # Con más capas el conocimiento jerarquico se hace más especifico.\n",
        "  # La ventana deslizante es de 5x5 pixeles. El tamaño del mapa de acaracteristicas es: 28 - 5 + 1. reduciendolo a 24 pixeles.\n",
        "model.add(MaxPooling2D((2, 2)))\n",
        "  # Capa de max pooling\n",
        "  # Condensa aun más el mapa de caracteristicas del paso anterior. Hay diferentes capas de pooling, AVG POOLING, MAX o MIN.\n",
        "  # Coge una ventana de 2x2 y coge el valor mayor de esa capa. Ahora se reduce de 24 a 12, porque coje ventanas de 2 por 2 y se queda con el valor mayor.\n",
        "  # LO UNICO QUE HACE ES RESUMIR EL MAPA DE CARACTERISTICAS\n",
        "\n",
        "\n",
        "  # GIMP como fotoshop pero con codigo abierto en C\n",
        "  # Filtro o kernel: Transformación lineal de una matriz que genera un espacio que es la matriz transformada.\n",
        "  #   Hay matrices que hacen la matriz más brillante,\n",
        "  #   que ponen en releve los bordes, que aumenta la saturación,\n",
        "  #   o el color rojo o muchas otras cosas.\n",
        "  #   Son transformaciones que hacen algo en una matriz\n",
        "  # Matriz deslizante, agrupa pixeles para extraer información de un grupo de pixeles y se desliza por toda la matriz\n",
        "\n",
        "  # TODO ESO ES LA CAPA CONVOLUCIONAL, APLICA UNA MATRIZ AGRUPANDO PIXELES DE ARRIBA A ABAJO Y DE IZQUIERDA A DERECHA\n",
        "  # VALORES ALEATORIOS - MAPA DE CARACTERISTICAS - AYUDA A DETECTAR CARACTERISTICAS DE LA IMAGEN,\n",
        "  #   REVELAN LAS APLICACIONES QUE DISTINGUEN LAS CLASES CORRIGIENDO CON EL ENTRENAMIENTO LAS MATRICES\n",
        "\n",
        "model.summary()"
      ],
      "execution_count": 2,
      "outputs": [
        {
          "output_type": "stream",
          "name": "stdout",
          "text": [
            "Model: \"sequential\"\n",
            "_________________________________________________________________\n",
            " Layer (type)                Output Shape              Param #   \n",
            "=================================================================\n",
            " conv2d (Conv2D)             (None, 24, 24, 32)        832       \n",
            "                                                                 \n",
            " max_pooling2d (MaxPooling2  (None, 12, 12, 32)        0         \n",
            " D)                                                              \n",
            "                                                                 \n",
            "=================================================================\n",
            "Total params: 832 (3.25 KB)\n",
            "Trainable params: 832 (3.25 KB)\n",
            "Non-trainable params: 0 (0.00 Byte)\n",
            "_________________________________________________________________\n"
          ]
        }
      ]
    },
    {
      "cell_type": "code",
      "metadata": {
        "colab": {
          "base_uri": "https://localhost:8080/"
        },
        "id": "UgENJvXXrubk",
        "outputId": "cbe8daaf-a2c1-485f-c169-51a57aa5fa0d"
      },
      "source": [
        "model.add(Conv2D(64, (5, 5), activation='relu'))\n",
        "model.add(MaxPooling2D((2, 2)))\n",
        "model.summary()"
      ],
      "execution_count": 3,
      "outputs": [
        {
          "output_type": "stream",
          "name": "stdout",
          "text": [
            "Model: \"sequential\"\n",
            "_________________________________________________________________\n",
            " Layer (type)                Output Shape              Param #   \n",
            "=================================================================\n",
            " conv2d (Conv2D)             (None, 24, 24, 32)        832       \n",
            "                                                                 \n",
            " max_pooling2d (MaxPooling2  (None, 12, 12, 32)        0         \n",
            " D)                                                              \n",
            "                                                                 \n",
            " conv2d_1 (Conv2D)           (None, 8, 8, 64)          51264     \n",
            "                                                                 \n",
            " max_pooling2d_1 (MaxPoolin  (None, 4, 4, 64)          0         \n",
            " g2D)                                                            \n",
            "                                                                 \n",
            "=================================================================\n",
            "Total params: 52096 (203.50 KB)\n",
            "Trainable params: 52096 (203.50 KB)\n",
            "Non-trainable params: 0 (0.00 Byte)\n",
            "_________________________________________________________________\n"
          ]
        }
      ]
    },
    {
      "cell_type": "code",
      "metadata": {
        "colab": {
          "base_uri": "https://localhost:8080/"
        },
        "id": "kGZMnjReuwqX",
        "outputId": "de58a275-70eb-4ee7-b0ab-5f1a39dd766b"
      },
      "source": [
        "from tensorflow.keras.layers import Dense\n",
        "from tensorflow.keras.layers import Flatten\n",
        "\n",
        "model.add(Flatten())\n",
        "model.add(Dense(10, activation='softmax'))\n",
        "model.summary()"
      ],
      "execution_count": 4,
      "outputs": [
        {
          "output_type": "stream",
          "name": "stdout",
          "text": [
            "Model: \"sequential\"\n",
            "_________________________________________________________________\n",
            " Layer (type)                Output Shape              Param #   \n",
            "=================================================================\n",
            " conv2d (Conv2D)             (None, 24, 24, 32)        832       \n",
            "                                                                 \n",
            " max_pooling2d (MaxPooling2  (None, 12, 12, 32)        0         \n",
            " D)                                                              \n",
            "                                                                 \n",
            " conv2d_1 (Conv2D)           (None, 8, 8, 64)          51264     \n",
            "                                                                 \n",
            " max_pooling2d_1 (MaxPoolin  (None, 4, 4, 64)          0         \n",
            " g2D)                                                            \n",
            "                                                                 \n",
            " flatten (Flatten)           (None, 1024)              0         \n",
            "                                                                 \n",
            " dense (Dense)               (None, 10)                10250     \n",
            "                                                                 \n",
            "=================================================================\n",
            "Total params: 62346 (243.54 KB)\n",
            "Trainable params: 62346 (243.54 KB)\n",
            "Non-trainable params: 0 (0.00 Byte)\n",
            "_________________________________________________________________\n"
          ]
        }
      ]
    },
    {
      "cell_type": "code",
      "metadata": {
        "colab": {
          "base_uri": "https://localhost:8080/"
        },
        "id": "pzt1bZ7I9ZdF",
        "outputId": "396e63c0-00d2-4c19-8ee8-95272c6c7c1f"
      },
      "source": [
        "from tensorflow.keras.utils import to_categorical\n",
        "\n",
        "mnist = tf.keras.datasets.mnist\n",
        "(train_images, train_labels), (test_images, test_labels) = mnist.load_data()\n",
        "\n",
        "print (train_images.shape)\n",
        "print (train_labels.shape)\n",
        "train_images = train_images.reshape((60000, 28, 28, 1))\n",
        "train_images = train_images.astype('float32') / 255\n",
        "\n",
        "test_images = test_images.reshape((10000, 28, 28, 1))\n",
        "test_images = test_images.astype('float32') / 255\n",
        "\n",
        "train_labels = to_categorical(train_labels)\n",
        "test_labels = to_categorical(test_labels)\n",
        "\n",
        "print (train_images.shape)\n",
        "print (train_labels.shape)"
      ],
      "execution_count": 9,
      "outputs": [
        {
          "output_type": "stream",
          "name": "stdout",
          "text": [
            "Downloading data from https://storage.googleapis.com/tensorflow/tf-keras-datasets/mnist.npz\n",
            "11490434/11490434 [==============================] - 0s 0us/step\n",
            "(60000, 28, 28)\n",
            "(60000,)\n",
            "(60000, 28, 28, 1)\n",
            "(60000, 10)\n"
          ]
        }
      ]
    },
    {
      "cell_type": "code",
      "metadata": {
        "colab": {
          "base_uri": "https://localhost:8080/"
        },
        "id": "-BvS9iDO9_uz",
        "outputId": "de09652b-7222-4b5a-b2ea-5f7898248e4d"
      },
      "source": [
        "model.compile(loss='categorical_crossentropy',\n",
        "              optimizer='sgd',\n",
        "              metrics=['accuracy'])\n",
        "\n",
        "model.fit(train_images, train_labels,\n",
        "          batch_size=100,\n",
        "          epochs=5,\n",
        "          verbose=1)\n",
        "\n",
        "test_loss, test_acc = model.evaluate(test_images, test_labels)\n",
        "\n",
        "print('Test accuracy:', test_acc)"
      ],
      "execution_count": 10,
      "outputs": [
        {
          "output_type": "stream",
          "name": "stdout",
          "text": [
            "Epoch 1/5\n",
            "600/600 [==============================] - 5s 4ms/step - loss: 0.9642 - accuracy: 0.7582\n",
            "Epoch 2/5\n",
            "600/600 [==============================] - 2s 4ms/step - loss: 0.2643 - accuracy: 0.9220\n",
            "Epoch 3/5\n",
            "600/600 [==============================] - 3s 4ms/step - loss: 0.1906 - accuracy: 0.9436\n",
            "Epoch 4/5\n",
            "600/600 [==============================] - 2s 4ms/step - loss: 0.1522 - accuracy: 0.9556\n",
            "Epoch 5/5\n",
            "600/600 [==============================] - 2s 3ms/step - loss: 0.1287 - accuracy: 0.9622\n",
            "313/313 [==============================] - 1s 3ms/step - loss: 0.1132 - accuracy: 0.9645\n",
            "Test accuracy: 0.9645000100135803\n"
          ]
        }
      ]
    }
  ]
}